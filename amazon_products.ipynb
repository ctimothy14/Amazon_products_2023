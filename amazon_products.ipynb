{
 "cells": [
  {
   "cell_type": "markdown",
   "metadata": {},
   "source": [
    "# Amazon Products 2023 (1.4M Products)"
   ]
  },
  {
   "cell_type": "markdown",
   "metadata": {},
   "source": [
    "## Dataset\n",
    "Due to the dataset exceeding 100 MiB which GitHub blocks files larger than 100 MiB please see the below link to the full dataset.\n",
    "\n",
    "https://www.kaggle.com/datasets/asaniczka/amazon-products-dataset-2023-1-4m-products/data\n"
   ]
  },
  {
   "cell_type": "markdown",
   "metadata": {},
   "source": [
    "Project Goal:\n",
    "EDA with python\n",
    "\n",
    "also create tableau dashboard.\n",
    "\n",
    "Planning:\n",
    "\n",
    "Conduct EDA for Amazon products\n",
    "join the two datasets together.\n",
    "identify patterns & trends \n",
    "explore  any correlations in the data\n",
    "viz findings\n",
    "\n"
   ]
  },
  {
   "cell_type": "markdown",
   "metadata": {},
   "source": [
    "# Project Object\n",
    "project ideas:\n",
    "- which cateogires drive the most sales?\n",
    "- Identify which niches are the easiest to make sales in?\n",
    "- do customer ratings have much impact on sales?\n",
    "\n",
    "reworded:\n",
    "- <b>Analyze Sales Performance Across Categories:</b> Identify which product categories contribute the most to total sales.\n",
    "\n",
    "- <b>Determine Profitable Niches:</b> Explore which niches have the highest conversion rates and consistent sales trends.\n",
    "\n",
    "- <b>Assess the Impact of Customer Ratings on Sales:</b> Investigate whether higher-rated products generate more sales compared to lower-rated ones."
   ]
  },
  {
   "cell_type": "markdown",
   "metadata": {},
   "source": [
    "# Step 1: Import Libraries"
   ]
  },
  {
   "cell_type": "code",
   "execution_count": 2,
   "metadata": {},
   "outputs": [],
   "source": [
    "import pandas as pd\n",
    "import matplotlib.pyplot as plt\n",
    "import seaborn as sns\n",
    "import csv"
   ]
  },
  {
   "cell_type": "markdown",
   "metadata": {},
   "source": [
    "# Step 2: Load Datasets"
   ]
  },
  {
   "cell_type": "code",
   "execution_count": 3,
   "metadata": {},
   "outputs": [],
   "source": [
    "# loading datasets\n",
    "categories_df = pd.read_csv(\"C:\\\\Users\\\\Tim\\\\OneDrive\\\\Documents\\\\Projects\\\\Amazon Products 2023\\\\amazon_categories.csv\")\n",
    "products_df = pd.read_csv(\"C:\\\\Users\\\\Tim\\\\OneDrive\\\\Documents\\Projects\\\\Amazon Products 2023\\\\amazon_products.csv\")"
   ]
  },
  {
   "cell_type": "code",
   "execution_count": 4,
   "metadata": {},
   "outputs": [
    {
     "data": {
      "text/html": [
       "<div>\n",
       "<style scoped>\n",
       "    .dataframe tbody tr th:only-of-type {\n",
       "        vertical-align: middle;\n",
       "    }\n",
       "\n",
       "    .dataframe tbody tr th {\n",
       "        vertical-align: top;\n",
       "    }\n",
       "\n",
       "    .dataframe thead th {\n",
       "        text-align: right;\n",
       "    }\n",
       "</style>\n",
       "<table border=\"1\" class=\"dataframe\">\n",
       "  <thead>\n",
       "    <tr style=\"text-align: right;\">\n",
       "      <th></th>\n",
       "      <th>id</th>\n",
       "      <th>category_name</th>\n",
       "    </tr>\n",
       "  </thead>\n",
       "  <tbody>\n",
       "    <tr>\n",
       "      <th>0</th>\n",
       "      <td>1</td>\n",
       "      <td>Beading &amp; Jewelry Making</td>\n",
       "    </tr>\n",
       "    <tr>\n",
       "      <th>1</th>\n",
       "      <td>2</td>\n",
       "      <td>Fabric Decorating</td>\n",
       "    </tr>\n",
       "    <tr>\n",
       "      <th>2</th>\n",
       "      <td>3</td>\n",
       "      <td>Knitting &amp; Crochet Supplies</td>\n",
       "    </tr>\n",
       "    <tr>\n",
       "      <th>3</th>\n",
       "      <td>4</td>\n",
       "      <td>Printmaking Supplies</td>\n",
       "    </tr>\n",
       "    <tr>\n",
       "      <th>4</th>\n",
       "      <td>5</td>\n",
       "      <td>Scrapbooking &amp; Stamping Supplies</td>\n",
       "    </tr>\n",
       "  </tbody>\n",
       "</table>\n",
       "</div>"
      ],
      "text/plain": [
       "   id                     category_name\n",
       "0   1          Beading & Jewelry Making\n",
       "1   2                 Fabric Decorating\n",
       "2   3       Knitting & Crochet Supplies\n",
       "3   4              Printmaking Supplies\n",
       "4   5  Scrapbooking & Stamping Supplies"
      ]
     },
     "execution_count": 4,
     "metadata": {},
     "output_type": "execute_result"
    }
   ],
   "source": [
    "# view first few rows of each dataset\n",
    "categories_df.head()"
   ]
  },
  {
   "cell_type": "code",
   "execution_count": 5,
   "metadata": {},
   "outputs": [
    {
     "data": {
      "text/html": [
       "<div>\n",
       "<style scoped>\n",
       "    .dataframe tbody tr th:only-of-type {\n",
       "        vertical-align: middle;\n",
       "    }\n",
       "\n",
       "    .dataframe tbody tr th {\n",
       "        vertical-align: top;\n",
       "    }\n",
       "\n",
       "    .dataframe thead th {\n",
       "        text-align: right;\n",
       "    }\n",
       "</style>\n",
       "<table border=\"1\" class=\"dataframe\">\n",
       "  <thead>\n",
       "    <tr style=\"text-align: right;\">\n",
       "      <th></th>\n",
       "      <th>asin</th>\n",
       "      <th>title</th>\n",
       "      <th>imgUrl</th>\n",
       "      <th>productURL</th>\n",
       "      <th>stars</th>\n",
       "      <th>reviews</th>\n",
       "      <th>price</th>\n",
       "      <th>listPrice</th>\n",
       "      <th>category_id</th>\n",
       "      <th>isBestSeller</th>\n",
       "      <th>boughtInLastMonth</th>\n",
       "    </tr>\n",
       "  </thead>\n",
       "  <tbody>\n",
       "    <tr>\n",
       "      <th>0</th>\n",
       "      <td>B014TMV5YE</td>\n",
       "      <td>Sion Softside Expandable Roller Luggage, Black...</td>\n",
       "      <td>https://m.media-amazon.com/images/I/815dLQKYIY...</td>\n",
       "      <td>https://www.amazon.com/dp/B014TMV5YE</td>\n",
       "      <td>4.5</td>\n",
       "      <td>0</td>\n",
       "      <td>139.99</td>\n",
       "      <td>0.00</td>\n",
       "      <td>104</td>\n",
       "      <td>False</td>\n",
       "      <td>2000</td>\n",
       "    </tr>\n",
       "    <tr>\n",
       "      <th>1</th>\n",
       "      <td>B07GDLCQXV</td>\n",
       "      <td>Luggage Sets Expandable PC+ABS Durable Suitcas...</td>\n",
       "      <td>https://m.media-amazon.com/images/I/81bQlm7vf6...</td>\n",
       "      <td>https://www.amazon.com/dp/B07GDLCQXV</td>\n",
       "      <td>4.5</td>\n",
       "      <td>0</td>\n",
       "      <td>169.99</td>\n",
       "      <td>209.99</td>\n",
       "      <td>104</td>\n",
       "      <td>False</td>\n",
       "      <td>1000</td>\n",
       "    </tr>\n",
       "    <tr>\n",
       "      <th>2</th>\n",
       "      <td>B07XSCCZYG</td>\n",
       "      <td>Platinum Elite Softside Expandable Checked Lug...</td>\n",
       "      <td>https://m.media-amazon.com/images/I/71EA35zvJB...</td>\n",
       "      <td>https://www.amazon.com/dp/B07XSCCZYG</td>\n",
       "      <td>4.6</td>\n",
       "      <td>0</td>\n",
       "      <td>365.49</td>\n",
       "      <td>429.99</td>\n",
       "      <td>104</td>\n",
       "      <td>False</td>\n",
       "      <td>300</td>\n",
       "    </tr>\n",
       "    <tr>\n",
       "      <th>3</th>\n",
       "      <td>B08MVFKGJM</td>\n",
       "      <td>Freeform Hardside Expandable with Double Spinn...</td>\n",
       "      <td>https://m.media-amazon.com/images/I/91k6NYLQyI...</td>\n",
       "      <td>https://www.amazon.com/dp/B08MVFKGJM</td>\n",
       "      <td>4.6</td>\n",
       "      <td>0</td>\n",
       "      <td>291.59</td>\n",
       "      <td>354.37</td>\n",
       "      <td>104</td>\n",
       "      <td>False</td>\n",
       "      <td>400</td>\n",
       "    </tr>\n",
       "    <tr>\n",
       "      <th>4</th>\n",
       "      <td>B01DJLKZBA</td>\n",
       "      <td>Winfield 2 Hardside Expandable Luggage with Sp...</td>\n",
       "      <td>https://m.media-amazon.com/images/I/61NJoaZcP9...</td>\n",
       "      <td>https://www.amazon.com/dp/B01DJLKZBA</td>\n",
       "      <td>4.5</td>\n",
       "      <td>0</td>\n",
       "      <td>174.99</td>\n",
       "      <td>309.99</td>\n",
       "      <td>104</td>\n",
       "      <td>False</td>\n",
       "      <td>400</td>\n",
       "    </tr>\n",
       "  </tbody>\n",
       "</table>\n",
       "</div>"
      ],
      "text/plain": [
       "         asin                                              title  \\\n",
       "0  B014TMV5YE  Sion Softside Expandable Roller Luggage, Black...   \n",
       "1  B07GDLCQXV  Luggage Sets Expandable PC+ABS Durable Suitcas...   \n",
       "2  B07XSCCZYG  Platinum Elite Softside Expandable Checked Lug...   \n",
       "3  B08MVFKGJM  Freeform Hardside Expandable with Double Spinn...   \n",
       "4  B01DJLKZBA  Winfield 2 Hardside Expandable Luggage with Sp...   \n",
       "\n",
       "                                              imgUrl  \\\n",
       "0  https://m.media-amazon.com/images/I/815dLQKYIY...   \n",
       "1  https://m.media-amazon.com/images/I/81bQlm7vf6...   \n",
       "2  https://m.media-amazon.com/images/I/71EA35zvJB...   \n",
       "3  https://m.media-amazon.com/images/I/91k6NYLQyI...   \n",
       "4  https://m.media-amazon.com/images/I/61NJoaZcP9...   \n",
       "\n",
       "                             productURL  stars  reviews   price  listPrice  \\\n",
       "0  https://www.amazon.com/dp/B014TMV5YE    4.5        0  139.99       0.00   \n",
       "1  https://www.amazon.com/dp/B07GDLCQXV    4.5        0  169.99     209.99   \n",
       "2  https://www.amazon.com/dp/B07XSCCZYG    4.6        0  365.49     429.99   \n",
       "3  https://www.amazon.com/dp/B08MVFKGJM    4.6        0  291.59     354.37   \n",
       "4  https://www.amazon.com/dp/B01DJLKZBA    4.5        0  174.99     309.99   \n",
       "\n",
       "   category_id  isBestSeller  boughtInLastMonth  \n",
       "0          104         False               2000  \n",
       "1          104         False               1000  \n",
       "2          104         False                300  \n",
       "3          104         False                400  \n",
       "4          104         False                400  "
      ]
     },
     "execution_count": 5,
     "metadata": {},
     "output_type": "execute_result"
    }
   ],
   "source": [
    "products_df.head()"
   ]
  },
  {
   "cell_type": "markdown",
   "metadata": {},
   "source": [
    "# Step 3: Data Cleaning"
   ]
  },
  {
   "cell_type": "code",
   "execution_count": 6,
   "metadata": {},
   "outputs": [
    {
     "name": "stdout",
     "output_type": "stream",
     "text": [
      "categories_df Row Count: 248\n",
      "cateogires_df column Count: 2\n",
      "products_df Row Count: 1426337\n",
      "products_df Column Count: 11\n"
     ]
    }
   ],
   "source": [
    "# Check the number of rows and columns.\n",
    "cat_rows = categories_df.shape[0] # Gives num of rows\n",
    "cat_col = categories_df.shape[1] # gives num of cols\n",
    "prod_row = products_df.shape[0] # Gives num of rows\n",
    "prod_col = products_df.shape[1] # gives num of cols\n",
    "\n",
    "print(\"categories_df Row Count: \" + str(cat_rows))\n",
    "print(\"cateogires_df column Count: \" + str(cat_col))\n",
    "\n",
    "print(\"products_df Row Count: \" + str(prod_row))\n",
    "print(\"products_df Column Count: \" + str(prod_col))"
   ]
  },
  {
   "cell_type": "code",
   "execution_count": 7,
   "metadata": {},
   "outputs": [
    {
     "name": "stdout",
     "output_type": "stream",
     "text": [
      "id               0\n",
      "category_name    0\n",
      "dtype: int64\n",
      "asin                 0\n",
      "title                1\n",
      "imgUrl               0\n",
      "productURL           0\n",
      "stars                0\n",
      "reviews              0\n",
      "price                0\n",
      "listPrice            0\n",
      "category_id          0\n",
      "isBestSeller         0\n",
      "boughtInLastMonth    0\n",
      "dtype: int64\n"
     ]
    }
   ],
   "source": [
    "# Identify any missing values\n",
    "print(categories_df.isnull().sum())\n",
    "print(products_df.isnull().sum())"
   ]
  },
  {
   "cell_type": "code",
   "execution_count": 8,
   "metadata": {},
   "outputs": [
    {
     "name": "stdout",
     "output_type": "stream",
     "text": [
      "               asin title                                             imgUrl  \\\n",
      "1206102  B00758A9CE   NaN  https://m.media-amazon.com/images/I/71+50RU8o2...   \n",
      "\n",
      "                                   productURL  stars  reviews  price  \\\n",
      "1206102  https://www.amazon.com/dp/B00758A9CE    5.0        0  33.08   \n",
      "\n",
      "         listPrice  category_id  isBestSeller  boughtInLastMonth  \n",
      "1206102        0.0           19         False                  0  \n"
     ]
    }
   ],
   "source": [
    "# find the null value in products_df \n",
    "missing_title = products_df[products_df['title'].isnull()]\n",
    "print(missing_title)"
   ]
  },
  {
   "cell_type": "code",
   "execution_count": null,
   "metadata": {},
   "outputs": [
    {
     "name": "stdout",
     "output_type": "stream",
     "text": [
      "               asin                                              title  \\\n",
      "1198836  B09DH98QL2  Chemical Guys HOL363 16-Piece Arsenal Builder ...   \n",
      "1198837  B0C6DZZ4MN  Car Wash Kit -Car Wash Cleaning Kit Car Interi...   \n",
      "1198838  B0CBZ12S15  Car Vacuum Cleaner High Power Cordless, 16000p...   \n",
      "1198839  B08BRJHJF9  Microfiber Cleaning Cloth Grey - 12 packs 16\"x...   \n",
      "1198840  B06ZY896ZM  ThisWorx Car Vacuum Cleaner - Car Accessories ...   \n",
      "...             ...                                                ...   \n",
      "1207490  B093Q3RKB5  Car Cleaning Kit Buffing Pads Sponge Waxing an...   \n",
      "1207491  B093CLN9YG  VViViD Essentials Car Cleaning, Waxing and Pol...   \n",
      "1207492  B08RCV9DTM  Tires and Plastic Restoration - Professional C...   \n",
      "1207493  B08HRMRJ95  Cleaning Washcloth Towels - Large 27\" x 16\" Mi...   \n",
      "1207494  B08GG9W1WJ                Collinite 845 476s Double 520 Combo   \n",
      "\n",
      "                                                    imgUrl  \\\n",
      "1198836  https://m.media-amazon.com/images/I/81xaaklwt6...   \n",
      "1198837  https://m.media-amazon.com/images/I/913PzikWM4...   \n",
      "1198838  https://m.media-amazon.com/images/I/81hlDIAFsz...   \n",
      "1198839  https://m.media-amazon.com/images/I/A1U4ZA-OJm...   \n",
      "1198840  https://m.media-amazon.com/images/I/81EJLtLxMg...   \n",
      "...                                                    ...   \n",
      "1207490  https://m.media-amazon.com/images/I/715GVdeyLl...   \n",
      "1207491  https://m.media-amazon.com/images/I/81wxWFNCbm...   \n",
      "1207492  https://m.media-amazon.com/images/I/515NDG+SXn...   \n",
      "1207493  https://m.media-amazon.com/images/I/81Dofh1qJX...   \n",
      "1207494  https://m.media-amazon.com/images/I/61WakCgIs9...   \n",
      "\n",
      "                                   productURL  stars  reviews   price  \\\n",
      "1198836  https://www.amazon.com/dp/B09DH98QL2    4.5        0  259.99   \n",
      "1198837  https://www.amazon.com/dp/B0C6DZZ4MN    4.2        0   32.99   \n",
      "1198838  https://www.amazon.com/dp/B0CBZ12S15    4.5        0   59.99   \n",
      "1198839  https://www.amazon.com/dp/B08BRJHJF9    4.7        0    9.99   \n",
      "1198840  https://www.amazon.com/dp/B06ZY896ZM    4.0        0   19.59   \n",
      "...                                       ...    ...      ...     ...   \n",
      "1207490  https://www.amazon.com/dp/B093Q3RKB5    4.6        0   20.99   \n",
      "1207491  https://www.amazon.com/dp/B093CLN9YG    4.6        0   16.99   \n",
      "1207492  https://www.amazon.com/dp/B08RCV9DTM    0.0        0   25.00   \n",
      "1207493  https://www.amazon.com/dp/B08HRMRJ95    4.2        0   15.87   \n",
      "1207494  https://www.amazon.com/dp/B08GG9W1WJ    5.0        0   67.19   \n",
      "\n",
      "         listPrice  category_id  isBestSeller  boughtInLastMonth  \n",
      "1198836       0.00           19         False                 50  \n",
      "1198837       0.00           19         False                 50  \n",
      "1198838      79.99           19         False                  0  \n",
      "1198839      17.99           19          True              10000  \n",
      "1198840      39.99           19          True              10000  \n",
      "...            ...          ...           ...                ...  \n",
      "1207490       0.00           19         False                  0  \n",
      "1207491       0.00           19         False                  0  \n",
      "1207492       0.00           19         False                  0  \n",
      "1207493       0.00           19         False                  0  \n",
      "1207494       0.00           19         False                  0  \n",
      "\n",
      "[8659 rows x 11 columns]\n"
     ]
    }
   ],
   "source": [
    "# Use other information to try fill the missing title name.\n",
    "prod_filter = products_df.loc[products_df['category_id'] == 19]\n",
    "print(prod_filter)"
   ]
  },
  {
   "cell_type": "code",
   "execution_count": 10,
   "metadata": {},
   "outputs": [
    {
     "name": "stdout",
     "output_type": "stream",
     "text": [
      "               asin  \\\n",
      "1198836  B09DH98QL2   \n",
      "1198837  B0C6DZZ4MN   \n",
      "1198838  B0CBZ12S15   \n",
      "1198839  B08BRJHJF9   \n",
      "1198840  B06ZY896ZM   \n",
      "...             ...   \n",
      "1207490  B093Q3RKB5   \n",
      "1207491  B093CLN9YG   \n",
      "1207492  B08RCV9DTM   \n",
      "1207493  B08HRMRJ95   \n",
      "1207494  B08GG9W1WJ   \n",
      "\n",
      "                                                                                                                                                                                                       title  \\\n",
      "1198836  Chemical Guys HOL363 16-Piece Arsenal Builder Ceramic Car Wash & Protection Kit with Big Mouth Max Release Foam Cannon, Bucket and (6) 16 oz Car Care Cleaning Chemicals (Works w/Pressure Washers)   \n",
      "1198837                                          Car Wash Kit -Car Wash Cleaning Kit Car Interior Detailing Kit with Car Wash Foam Gun,Microfiber Sponge Car Care Kit,Tire Brush, Car Wash Kit with Foam Gun   \n",
      "1198838          Car Vacuum Cleaner High Power Cordless, 16000pa Small Handheld Vacuum for Car with Blower, Powerful Hand Vacuum Rechargeable, Type-C Fast Charging, Portable Car Vacuum for Car/Home/Office   \n",
      "1198839      Microfiber Cleaning Cloth Grey - 12 packs 16\"x16\" - High Performance - 1200 Washes, Ultra Absorbent Towels Weave Grime & Liquid for Streak-Free Mirror Shine - Car Washing cloth and Applicator   \n",
      "1198840                   ThisWorx Car Vacuum Cleaner - Car Accessories - Small 12V High Power Handheld Portable Car Vacuum w/Attachments, 16 Ft Cord & Bag - Detailing Kit Essentials for Travel, RV Camper   \n",
      "...                                                                                                                                                                                                      ...   \n",
      "1207490                                                                Car Cleaning Kit Buffing Pads Sponge Waxing and Drill Brush Attachment 4 Inch Set,Multi-Purpose Cleaning Car Body/Tire/Interior,22PCS   \n",
      "1207491                                                                            VViViD Essentials Car Cleaning, Waxing and Polishing Kit, 16pcs Sponge Pads, Wool Pads, Backing Plates and Drill Adapters   \n",
      "1207492           Tires and Plastic Restoration - Professional Car Detailing Kit Solution, Waterless Rinsing - Seals, Protects, Rejuvenates, Cleans Rubber & Plastic Surfaces - Deep or Medium Gloss - 500ml   \n",
      "1207493             Cleaning Washcloth Towels - Large 27\" x 16\" Microfiber Rags - Highly Absorbent, Lint Free Streak Free for House, Kitchen, Car, Window Detailing Reusable Shop Towels (6-Pack, Navy Blue)   \n",
      "1207494                                                                                                                                                                  Collinite 845 476s Double 520 Combo   \n",
      "\n",
      "                                                                 imgUrl  \\\n",
      "1198836  https://m.media-amazon.com/images/I/81xaaklwt6L._AC_UL320_.jpg   \n",
      "1198837  https://m.media-amazon.com/images/I/913PzikWM4L._AC_UL320_.jpg   \n",
      "1198838  https://m.media-amazon.com/images/I/81hlDIAFszL._AC_UL320_.jpg   \n",
      "1198839  https://m.media-amazon.com/images/I/A1U4ZA-OJmS._AC_UL320_.jpg   \n",
      "1198840  https://m.media-amazon.com/images/I/81EJLtLxMgL._AC_UL320_.jpg   \n",
      "...                                                                 ...   \n",
      "1207490  https://m.media-amazon.com/images/I/715GVdeyLlS._AC_UL320_.jpg   \n",
      "1207491  https://m.media-amazon.com/images/I/81wxWFNCbmS._AC_UL320_.jpg   \n",
      "1207492  https://m.media-amazon.com/images/I/515NDG+SXnL._AC_UL320_.jpg   \n",
      "1207493  https://m.media-amazon.com/images/I/81Dofh1qJXL._AC_UL320_.jpg   \n",
      "1207494  https://m.media-amazon.com/images/I/61WakCgIs9L._AC_UL320_.jpg   \n",
      "\n",
      "                                   productURL  stars  reviews   price  \\\n",
      "1198836  https://www.amazon.com/dp/B09DH98QL2    4.5        0  259.99   \n",
      "1198837  https://www.amazon.com/dp/B0C6DZZ4MN    4.2        0   32.99   \n",
      "1198838  https://www.amazon.com/dp/B0CBZ12S15    4.5        0   59.99   \n",
      "1198839  https://www.amazon.com/dp/B08BRJHJF9    4.7        0    9.99   \n",
      "1198840  https://www.amazon.com/dp/B06ZY896ZM    4.0        0   19.59   \n",
      "...                                       ...    ...      ...     ...   \n",
      "1207490  https://www.amazon.com/dp/B093Q3RKB5    4.6        0   20.99   \n",
      "1207491  https://www.amazon.com/dp/B093CLN9YG    4.6        0   16.99   \n",
      "1207492  https://www.amazon.com/dp/B08RCV9DTM    0.0        0   25.00   \n",
      "1207493  https://www.amazon.com/dp/B08HRMRJ95    4.2        0   15.87   \n",
      "1207494  https://www.amazon.com/dp/B08GG9W1WJ    5.0        0   67.19   \n",
      "\n",
      "         listPrice  category_id  isBestSeller  boughtInLastMonth  \n",
      "1198836       0.00           19         False                 50  \n",
      "1198837       0.00           19         False                 50  \n",
      "1198838      79.99           19         False                  0  \n",
      "1198839      17.99           19          True              10000  \n",
      "1198840      39.99           19          True              10000  \n",
      "...            ...          ...           ...                ...  \n",
      "1207490       0.00           19         False                  0  \n",
      "1207491       0.00           19         False                  0  \n",
      "1207492       0.00           19         False                  0  \n",
      "1207493       0.00           19         False                  0  \n",
      "1207494       0.00           19         False                  0  \n",
      "\n",
      "[8659 rows x 11 columns]\n"
     ]
    }
   ],
   "source": [
    "# Update column width to see full string of title column to make sure product title is being named \n",
    "# the same as what is shown in the productURL.\n",
    "pd.set_option('display.max_colwidth', None)\n",
    "with pd.option_context('display.max_colwidth', None):\n",
    "    print(prod_filter)"
   ]
  },
  {
   "cell_type": "code",
   "execution_count": null,
   "metadata": {},
   "outputs": [
    {
     "name": "stdout",
     "output_type": "stream",
     "text": [
      "Empty DataFrame\n",
      "Columns: [asin, title, imgUrl, productURL, stars, reviews, price, listPrice, category_id, isBestSeller, boughtInLastMonth]\n",
      "Index: []\n",
      "               asin  \\\n",
      "1206102  B00758A9CE   \n",
      "\n",
      "                                                                                                                                                                                                       title  \\\n",
      "1206102  Chemical Guys HOL363 16-Piece Arsenal Builder Ceramic Car Wash & Protection Kit with Big Mouth Max Release Foam Cannon, Bucket and (6) 16 oz Car Care Cleaning Chemicals (Works w/Pressure Washers)   \n",
      "\n",
      "                                                                 imgUrl  \\\n",
      "1206102  https://m.media-amazon.com/images/I/71+50RU8o2L._AC_UL320_.jpg   \n",
      "\n",
      "                                   productURL  stars  reviews  price  \\\n",
      "1206102  https://www.amazon.com/dp/B00758A9CE    5.0        0  33.08   \n",
      "\n",
      "         listPrice  category_id  isBestSeller  boughtInLastMonth  \n",
      "1206102        0.0           19         False                  0  \n"
     ]
    }
   ],
   "source": [
    "# Update Null value with product name from productURL.\n",
    "# productURL is https://www.amazon.com/dp/B09DH98QL2?th=1\n",
    "\n",
    "# Update the missing value with the given string from productURL\n",
    "products_df['title'].fillna(\"Chemical Guys HOL363 16-Piece Arsenal Builder Ceramic Car Wash & Protection Kit with Big Mouth Max Release Foam Cannon, Bucket and (6) 16 oz Car Care Cleaning Chemicals (Works w/Pressure Washers)\", inplace=True)\n",
    "\n",
    "# Check if NULL value is replaced\n",
    "print(products_df[products_df['title'].isnull()]) # should return an emptpy dataframe\n",
    "\n",
    "# double checking\n",
    "print(products_df.loc[products_df['asin'] == 'B00758A9CE']) # using unique asin from above"
   ]
  },
  {
   "cell_type": "code",
   "execution_count": 18,
   "metadata": {},
   "outputs": [
    {
     "name": "stdout",
     "output_type": "stream",
     "text": [
      "asin                 0\n",
      "title                0\n",
      "imgUrl               0\n",
      "productURL           0\n",
      "stars                0\n",
      "reviews              0\n",
      "price                0\n",
      "listPrice            0\n",
      "category_id          0\n",
      "isBestSeller         0\n",
      "boughtInLastMonth    0\n",
      "dtype: int64\n"
     ]
    }
   ],
   "source": [
    "# Verify changes to check if anymore NULL values in products_df\n",
    "print(products_df.isnull().sum())"
   ]
  },
  {
   "cell_type": "markdown",
   "metadata": {},
   "source": [
    "#### Next Steps:\n",
    "1. <b>Remove duplicates IDs:</b> Now that there are no NULL values in the dataset, the next step is to eliminate any duplicate entries in the 'id' column of categories_df to ensure data integrity.\n",
    "\n",
    "2. <b>Validate Matching Keys:</b> Before merging the datasets, we need to verify that the 'id' values in categories_df align correctly with the 'category_id' values in products_df. This step ensures a smooth and accurate join.\n",
    "\n",
    "3. <b>Merge the Datasets:</b> Once the key columns are validated, we will combine categories_df and products_df by joining on 'id' (from categories_df) and 'category_id' (from products_df). This will integrate category information with product details for further my final analysis and dataset used for my tableau dashboard."
   ]
  },
  {
   "cell_type": "code",
   "execution_count": null,
   "metadata": {},
   "outputs": [],
   "source": [
    "# Check for duplicates in categories_df\n",
    "# up to here"
   ]
  },
  {
   "cell_type": "code",
   "execution_count": null,
   "metadata": {},
   "outputs": [],
   "source": [
    "\n",
    "# check for duplicates based off id & product_id\n",
    "# this includes checking for dup rows  in both datasets df.duplicated().sum()\n",
    "\n",
    "\n",
    "# identify any missing values - done\n",
    "# df.info() to see column type\n",
    "# use describe to get more info\n",
    "# If match we can join these two tables together making it easier to work with.\n",
    "# Then compare product_id and id to see if these cats match. this is last for sanity check to make sure.\n",
    "\n"
   ]
  },
  {
   "cell_type": "code",
   "execution_count": 52,
   "metadata": {},
   "outputs": [
    {
     "name": "stdout",
     "output_type": "stream",
     "text": [
      "    id category_name\n",
      "18  19      Car Care\n",
      "               asin                                              title  \\\n",
      "1198836  B09DH98QL2  Chemical Guys HOL363 16-Piece Arsenal Builder ...   \n",
      "1198837  B0C6DZZ4MN  Car Wash Kit -Car Wash Cleaning Kit Car Interi...   \n",
      "1198838  B0CBZ12S15  Car Vacuum Cleaner High Power Cordless, 16000p...   \n",
      "1198839  B08BRJHJF9  Microfiber Cleaning Cloth Grey - 12 packs 16\"x...   \n",
      "1198840  B06ZY896ZM  ThisWorx Car Vacuum Cleaner - Car Accessories ...   \n",
      "...             ...                                                ...   \n",
      "1207490  B093Q3RKB5  Car Cleaning Kit Buffing Pads Sponge Waxing an...   \n",
      "1207491  B093CLN9YG  VViViD Essentials Car Cleaning, Waxing and Pol...   \n",
      "1207492  B08RCV9DTM  Tires and Plastic Restoration - Professional C...   \n",
      "1207493  B08HRMRJ95  Cleaning Washcloth Towels - Large 27\" x 16\" Mi...   \n",
      "1207494  B08GG9W1WJ                Collinite 845 476s Double 520 Combo   \n",
      "\n",
      "                                                    imgUrl  \\\n",
      "1198836  https://m.media-amazon.com/images/I/81xaaklwt6...   \n",
      "1198837  https://m.media-amazon.com/images/I/913PzikWM4...   \n",
      "1198838  https://m.media-amazon.com/images/I/81hlDIAFsz...   \n",
      "1198839  https://m.media-amazon.com/images/I/A1U4ZA-OJm...   \n",
      "1198840  https://m.media-amazon.com/images/I/81EJLtLxMg...   \n",
      "...                                                    ...   \n",
      "1207490  https://m.media-amazon.com/images/I/715GVdeyLl...   \n",
      "1207491  https://m.media-amazon.com/images/I/81wxWFNCbm...   \n",
      "1207492  https://m.media-amazon.com/images/I/515NDG+SXn...   \n",
      "1207493  https://m.media-amazon.com/images/I/81Dofh1qJX...   \n",
      "1207494  https://m.media-amazon.com/images/I/61WakCgIs9...   \n",
      "\n",
      "                                   productURL  stars  reviews   price  \\\n",
      "1198836  https://www.amazon.com/dp/B09DH98QL2    4.5        0  259.99   \n",
      "1198837  https://www.amazon.com/dp/B0C6DZZ4MN    4.2        0   32.99   \n",
      "1198838  https://www.amazon.com/dp/B0CBZ12S15    4.5        0   59.99   \n",
      "1198839  https://www.amazon.com/dp/B08BRJHJF9    4.7        0    9.99   \n",
      "1198840  https://www.amazon.com/dp/B06ZY896ZM    4.0        0   19.59   \n",
      "...                                       ...    ...      ...     ...   \n",
      "1207490  https://www.amazon.com/dp/B093Q3RKB5    4.6        0   20.99   \n",
      "1207491  https://www.amazon.com/dp/B093CLN9YG    4.6        0   16.99   \n",
      "1207492  https://www.amazon.com/dp/B08RCV9DTM    0.0        0   25.00   \n",
      "1207493  https://www.amazon.com/dp/B08HRMRJ95    4.2        0   15.87   \n",
      "1207494  https://www.amazon.com/dp/B08GG9W1WJ    5.0        0   67.19   \n",
      "\n",
      "         listPrice  category_id  isBestSeller  boughtInLastMonth  \n",
      "1198836       0.00           19         False                 50  \n",
      "1198837       0.00           19         False                 50  \n",
      "1198838      79.99           19         False                  0  \n",
      "1198839      17.99           19          True              10000  \n",
      "1198840      39.99           19          True              10000  \n",
      "...            ...          ...           ...                ...  \n",
      "1207490       0.00           19         False                  0  \n",
      "1207491       0.00           19         False                  0  \n",
      "1207492       0.00           19         False                  0  \n",
      "1207493       0.00           19         False                  0  \n",
      "1207494       0.00           19         False                  0  \n",
      "\n",
      "[8659 rows x 11 columns]\n"
     ]
    }
   ],
   "source": [
    "# Comparing id column from amazon_categories.csv to product_id in amazon_products.csv to ensure these categories are matching\n",
    "cat_filter = categories_df.loc[categories_df['id'] == 19]\n",
    "print(cat_filter)\n",
    "\n",
    "prod_filter = products_df.loc[products_df['category_id'] == 19]\n",
    "print(prod_filter)"
   ]
  },
  {
   "cell_type": "code",
   "execution_count": 12,
   "metadata": {},
   "outputs": [
    {
     "ename": "TypeError",
     "evalue": "'tuple' object is not callable",
     "output_type": "error",
     "traceback": [
      "\u001b[1;31m---------------------------------------------------------------------------\u001b[0m",
      "\u001b[1;31mTypeError\u001b[0m                                 Traceback (most recent call last)",
      "Cell \u001b[1;32mIn[12], line 1\u001b[0m\n\u001b[1;32m----> 1\u001b[0m \u001b[43mcategories_df\u001b[49m\u001b[38;5;241;43m.\u001b[39;49m\u001b[43mshape\u001b[49m\u001b[43m(\u001b[49m\u001b[38;5;241;43m3\u001b[39;49m\u001b[43m)\u001b[49m\n\u001b[0;32m      2\u001b[0m \u001b[38;5;66;03m# products_df.shape()\u001b[39;00m\n",
      "\u001b[1;31mTypeError\u001b[0m: 'tuple' object is not callable"
     ]
    }
   ],
   "source": [
    "categories_df.shape(3)\n",
    "# products_df.shape()"
   ]
  }
 ],
 "metadata": {
  "kernelspec": {
   "display_name": "Python 3",
   "language": "python",
   "name": "python3"
  },
  "language_info": {
   "codemirror_mode": {
    "name": "ipython",
    "version": 3
   },
   "file_extension": ".py",
   "mimetype": "text/x-python",
   "name": "python",
   "nbconvert_exporter": "python",
   "pygments_lexer": "ipython3",
   "version": "3.10.1"
  }
 },
 "nbformat": 4,
 "nbformat_minor": 2
}
