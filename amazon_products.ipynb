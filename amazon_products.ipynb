{
 "cells": [
  {
   "cell_type": "markdown",
   "metadata": {},
   "source": [
    "# Amazon Products 2023 (1.4M Products)"
   ]
  },
  {
   "cell_type": "markdown",
   "metadata": {},
   "source": [
    "## Dataset\n",
    "Due to the dataset exceeding 100 MiB which GitHub blocks files larger than 100 MiB please see the below link to the full dataset.\n",
    "\n",
    "https://www.kaggle.com/datasets/asaniczka/amazon-products-dataset-2023-1-4m-products/data\n"
   ]
  },
  {
   "cell_type": "markdown",
   "metadata": {},
   "source": [
    "Project Goal:\n",
    "EDA with python\n",
    "\n",
    "also create tableau dashboard.\n",
    "\n",
    "Planning:\n",
    "\n",
    "Conduct EDA for Amazon products\n",
    "join the two datasets together.\n",
    "identify patterns & trends \n",
    "explore  any correlations in the data\n",
    "viz findings\n",
    "\n"
   ]
  },
  {
   "cell_type": "markdown",
   "metadata": {},
   "source": [
    "# Project Object\n",
    "project ideas:\n",
    "- which cateogires drive the most sales?\n",
    "- Identify which niches are the easiest to make sales in?\n",
    "- do customer ratings have much impact on sales?\n",
    "\n",
    "reworded:\n",
    "- <b>Analyze Sales Performance Across Categories:</b> Identify which product categories contribute the most to total sales.\n",
    "\n",
    "- <b>Determine Profitable Niches:</b> Explore which niches have the highest conversion rates and consistent sales trends.\n",
    "\n",
    "- <b>Assess the Impact of Customer Ratings on Sales:</b> Investigate whether higher-rated products generate more sales compared to lower-rated ones."
   ]
  },
  {
   "cell_type": "markdown",
   "metadata": {},
   "source": [
    "# Step 1: Import Libraries"
   ]
  },
  {
   "cell_type": "code",
   "execution_count": 1,
   "metadata": {},
   "outputs": [],
   "source": [
    "import pandas as pd\n",
    "import matplotlib.pyplot as plt\n",
    "import seaborn as sns\n",
    "import csv"
   ]
  },
  {
   "cell_type": "markdown",
   "metadata": {},
   "source": [
    "# Step 2: Load Datasets"
   ]
  },
  {
   "cell_type": "code",
   "execution_count": 2,
   "metadata": {},
   "outputs": [],
   "source": [
    "# loading datasets\n",
    "categories_df = pd.read_csv(\"C:\\\\Users\\\\Tim\\\\OneDrive\\\\Documents\\\\Projects\\\\Amazon Products 2023\\\\amazon_categories.csv\")\n",
    "products_df = pd.read_csv(\"C:\\\\Users\\\\Tim\\\\OneDrive\\\\Documents\\Projects\\\\Amazon Products 2023\\\\amazon_products.csv\")"
   ]
  },
  {
   "cell_type": "code",
   "execution_count": 3,
   "metadata": {},
   "outputs": [
    {
     "data": {
      "text/html": [
       "<div>\n",
       "<style scoped>\n",
       "    .dataframe tbody tr th:only-of-type {\n",
       "        vertical-align: middle;\n",
       "    }\n",
       "\n",
       "    .dataframe tbody tr th {\n",
       "        vertical-align: top;\n",
       "    }\n",
       "\n",
       "    .dataframe thead th {\n",
       "        text-align: right;\n",
       "    }\n",
       "</style>\n",
       "<table border=\"1\" class=\"dataframe\">\n",
       "  <thead>\n",
       "    <tr style=\"text-align: right;\">\n",
       "      <th></th>\n",
       "      <th>id</th>\n",
       "      <th>category_name</th>\n",
       "    </tr>\n",
       "  </thead>\n",
       "  <tbody>\n",
       "    <tr>\n",
       "      <th>0</th>\n",
       "      <td>1</td>\n",
       "      <td>Beading &amp; Jewelry Making</td>\n",
       "    </tr>\n",
       "    <tr>\n",
       "      <th>1</th>\n",
       "      <td>2</td>\n",
       "      <td>Fabric Decorating</td>\n",
       "    </tr>\n",
       "    <tr>\n",
       "      <th>2</th>\n",
       "      <td>3</td>\n",
       "      <td>Knitting &amp; Crochet Supplies</td>\n",
       "    </tr>\n",
       "    <tr>\n",
       "      <th>3</th>\n",
       "      <td>4</td>\n",
       "      <td>Printmaking Supplies</td>\n",
       "    </tr>\n",
       "    <tr>\n",
       "      <th>4</th>\n",
       "      <td>5</td>\n",
       "      <td>Scrapbooking &amp; Stamping Supplies</td>\n",
       "    </tr>\n",
       "  </tbody>\n",
       "</table>\n",
       "</div>"
      ],
      "text/plain": [
       "   id                     category_name\n",
       "0   1          Beading & Jewelry Making\n",
       "1   2                 Fabric Decorating\n",
       "2   3       Knitting & Crochet Supplies\n",
       "3   4              Printmaking Supplies\n",
       "4   5  Scrapbooking & Stamping Supplies"
      ]
     },
     "execution_count": 3,
     "metadata": {},
     "output_type": "execute_result"
    }
   ],
   "source": [
    "# view first few rows of each dataset\n",
    "categories_df.head()"
   ]
  },
  {
   "cell_type": "code",
   "execution_count": 4,
   "metadata": {},
   "outputs": [
    {
     "data": {
      "text/html": [
       "<div>\n",
       "<style scoped>\n",
       "    .dataframe tbody tr th:only-of-type {\n",
       "        vertical-align: middle;\n",
       "    }\n",
       "\n",
       "    .dataframe tbody tr th {\n",
       "        vertical-align: top;\n",
       "    }\n",
       "\n",
       "    .dataframe thead th {\n",
       "        text-align: right;\n",
       "    }\n",
       "</style>\n",
       "<table border=\"1\" class=\"dataframe\">\n",
       "  <thead>\n",
       "    <tr style=\"text-align: right;\">\n",
       "      <th></th>\n",
       "      <th>asin</th>\n",
       "      <th>title</th>\n",
       "      <th>imgUrl</th>\n",
       "      <th>productURL</th>\n",
       "      <th>stars</th>\n",
       "      <th>reviews</th>\n",
       "      <th>price</th>\n",
       "      <th>listPrice</th>\n",
       "      <th>category_id</th>\n",
       "      <th>isBestSeller</th>\n",
       "      <th>boughtInLastMonth</th>\n",
       "    </tr>\n",
       "  </thead>\n",
       "  <tbody>\n",
       "    <tr>\n",
       "      <th>0</th>\n",
       "      <td>B014TMV5YE</td>\n",
       "      <td>Sion Softside Expandable Roller Luggage, Black...</td>\n",
       "      <td>https://m.media-amazon.com/images/I/815dLQKYIY...</td>\n",
       "      <td>https://www.amazon.com/dp/B014TMV5YE</td>\n",
       "      <td>4.5</td>\n",
       "      <td>0</td>\n",
       "      <td>139.99</td>\n",
       "      <td>0.00</td>\n",
       "      <td>104</td>\n",
       "      <td>False</td>\n",
       "      <td>2000</td>\n",
       "    </tr>\n",
       "    <tr>\n",
       "      <th>1</th>\n",
       "      <td>B07GDLCQXV</td>\n",
       "      <td>Luggage Sets Expandable PC+ABS Durable Suitcas...</td>\n",
       "      <td>https://m.media-amazon.com/images/I/81bQlm7vf6...</td>\n",
       "      <td>https://www.amazon.com/dp/B07GDLCQXV</td>\n",
       "      <td>4.5</td>\n",
       "      <td>0</td>\n",
       "      <td>169.99</td>\n",
       "      <td>209.99</td>\n",
       "      <td>104</td>\n",
       "      <td>False</td>\n",
       "      <td>1000</td>\n",
       "    </tr>\n",
       "    <tr>\n",
       "      <th>2</th>\n",
       "      <td>B07XSCCZYG</td>\n",
       "      <td>Platinum Elite Softside Expandable Checked Lug...</td>\n",
       "      <td>https://m.media-amazon.com/images/I/71EA35zvJB...</td>\n",
       "      <td>https://www.amazon.com/dp/B07XSCCZYG</td>\n",
       "      <td>4.6</td>\n",
       "      <td>0</td>\n",
       "      <td>365.49</td>\n",
       "      <td>429.99</td>\n",
       "      <td>104</td>\n",
       "      <td>False</td>\n",
       "      <td>300</td>\n",
       "    </tr>\n",
       "    <tr>\n",
       "      <th>3</th>\n",
       "      <td>B08MVFKGJM</td>\n",
       "      <td>Freeform Hardside Expandable with Double Spinn...</td>\n",
       "      <td>https://m.media-amazon.com/images/I/91k6NYLQyI...</td>\n",
       "      <td>https://www.amazon.com/dp/B08MVFKGJM</td>\n",
       "      <td>4.6</td>\n",
       "      <td>0</td>\n",
       "      <td>291.59</td>\n",
       "      <td>354.37</td>\n",
       "      <td>104</td>\n",
       "      <td>False</td>\n",
       "      <td>400</td>\n",
       "    </tr>\n",
       "    <tr>\n",
       "      <th>4</th>\n",
       "      <td>B01DJLKZBA</td>\n",
       "      <td>Winfield 2 Hardside Expandable Luggage with Sp...</td>\n",
       "      <td>https://m.media-amazon.com/images/I/61NJoaZcP9...</td>\n",
       "      <td>https://www.amazon.com/dp/B01DJLKZBA</td>\n",
       "      <td>4.5</td>\n",
       "      <td>0</td>\n",
       "      <td>174.99</td>\n",
       "      <td>309.99</td>\n",
       "      <td>104</td>\n",
       "      <td>False</td>\n",
       "      <td>400</td>\n",
       "    </tr>\n",
       "  </tbody>\n",
       "</table>\n",
       "</div>"
      ],
      "text/plain": [
       "         asin                                              title  \\\n",
       "0  B014TMV5YE  Sion Softside Expandable Roller Luggage, Black...   \n",
       "1  B07GDLCQXV  Luggage Sets Expandable PC+ABS Durable Suitcas...   \n",
       "2  B07XSCCZYG  Platinum Elite Softside Expandable Checked Lug...   \n",
       "3  B08MVFKGJM  Freeform Hardside Expandable with Double Spinn...   \n",
       "4  B01DJLKZBA  Winfield 2 Hardside Expandable Luggage with Sp...   \n",
       "\n",
       "                                              imgUrl  \\\n",
       "0  https://m.media-amazon.com/images/I/815dLQKYIY...   \n",
       "1  https://m.media-amazon.com/images/I/81bQlm7vf6...   \n",
       "2  https://m.media-amazon.com/images/I/71EA35zvJB...   \n",
       "3  https://m.media-amazon.com/images/I/91k6NYLQyI...   \n",
       "4  https://m.media-amazon.com/images/I/61NJoaZcP9...   \n",
       "\n",
       "                             productURL  stars  reviews   price  listPrice  \\\n",
       "0  https://www.amazon.com/dp/B014TMV5YE    4.5        0  139.99       0.00   \n",
       "1  https://www.amazon.com/dp/B07GDLCQXV    4.5        0  169.99     209.99   \n",
       "2  https://www.amazon.com/dp/B07XSCCZYG    4.6        0  365.49     429.99   \n",
       "3  https://www.amazon.com/dp/B08MVFKGJM    4.6        0  291.59     354.37   \n",
       "4  https://www.amazon.com/dp/B01DJLKZBA    4.5        0  174.99     309.99   \n",
       "\n",
       "   category_id  isBestSeller  boughtInLastMonth  \n",
       "0          104         False               2000  \n",
       "1          104         False               1000  \n",
       "2          104         False                300  \n",
       "3          104         False                400  \n",
       "4          104         False                400  "
      ]
     },
     "execution_count": 4,
     "metadata": {},
     "output_type": "execute_result"
    }
   ],
   "source": [
    "products_df.head()"
   ]
  },
  {
   "cell_type": "markdown",
   "metadata": {},
   "source": [
    "# Step 3: Data Cleaning"
   ]
  },
  {
   "cell_type": "code",
   "execution_count": 20,
   "metadata": {},
   "outputs": [
    {
     "name": "stdout",
     "output_type": "stream",
     "text": [
      "categories_df Row Count: 248\n",
      "cateogires_df column Count: 2\n",
      "products_df Row Count: 1426337\n",
      "products_df Column Count: 11\n"
     ]
    }
   ],
   "source": [
    "# Check the number of rows and columns.\n",
    "cat_rows = categories_df.shape[0] # Gives num of rows\n",
    "cat_col = categories_df.shape[1] # gives num of cols\n",
    "prod_row = products_df.shape[0] # Gives num of rows\n",
    "prod_col = products_df.shape[1] # gives num of cols\n",
    "\n",
    "print(\"categories_df Row Count: \" + str(cat_rows))\n",
    "print(\"cateogires_df column Count: \" + str(cat_col))\n",
    "\n",
    "print(\"products_df Row Count: \" + str(prod_row))\n",
    "print(\"products_df Column Count: \" + str(prod_col))"
   ]
  },
  {
   "cell_type": "code",
   "execution_count": 21,
   "metadata": {},
   "outputs": [
    {
     "name": "stdout",
     "output_type": "stream",
     "text": [
      "id               0\n",
      "category_name    0\n",
      "dtype: int64\n",
      "asin                 0\n",
      "title                1\n",
      "imgUrl               0\n",
      "productURL           0\n",
      "stars                0\n",
      "reviews              0\n",
      "price                0\n",
      "listPrice            0\n",
      "category_id          0\n",
      "isBestSeller         0\n",
      "boughtInLastMonth    0\n",
      "dtype: int64\n"
     ]
    }
   ],
   "source": [
    "# Identify any missing values\n",
    "print(categories_df.isnull().sum())\n",
    "print(products_df.isnull().sum())"
   ]
  },
  {
   "cell_type": "code",
   "execution_count": null,
   "metadata": {},
   "outputs": [
    {
     "name": "stdout",
     "output_type": "stream",
     "text": [
      "               asin title                                             imgUrl  \\\n",
      "1206102  B00758A9CE   NaN  https://m.media-amazon.com/images/I/71+50RU8o2...   \n",
      "\n",
      "                                   productURL  stars  reviews  price  \\\n",
      "1206102  https://www.amazon.com/dp/B00758A9CE    5.0        0  33.08   \n",
      "\n",
      "         listPrice  category_id  isBestSeller  boughtInLastMonth  \n",
      "1206102        0.0           19         False                  0  \n"
     ]
    }
   ],
   "source": [
    "# find the null value in products_df \n",
    "missing_title = products_df[products_df['title'].isnull()]\n",
    "print(missing_title)"
   ]
  },
  {
   "cell_type": "code",
   "execution_count": null,
   "metadata": {},
   "outputs": [
    {
     "data": {
      "text/html": [
       "<div>\n",
       "<style scoped>\n",
       "    .dataframe tbody tr th:only-of-type {\n",
       "        vertical-align: middle;\n",
       "    }\n",
       "\n",
       "    .dataframe tbody tr th {\n",
       "        vertical-align: top;\n",
       "    }\n",
       "\n",
       "    .dataframe thead th {\n",
       "        text-align: right;\n",
       "    }\n",
       "</style>\n",
       "<table border=\"1\" class=\"dataframe\">\n",
       "  <thead>\n",
       "    <tr style=\"text-align: right;\">\n",
       "      <th></th>\n",
       "      <th>asin</th>\n",
       "      <th>title</th>\n",
       "      <th>imgUrl</th>\n",
       "      <th>productURL</th>\n",
       "      <th>stars</th>\n",
       "      <th>reviews</th>\n",
       "      <th>price</th>\n",
       "      <th>listPrice</th>\n",
       "      <th>category_id</th>\n",
       "      <th>isBestSeller</th>\n",
       "      <th>boughtInLastMonth</th>\n",
       "    </tr>\n",
       "  </thead>\n",
       "  <tbody>\n",
       "  </tbody>\n",
       "</table>\n",
       "</div>"
      ],
      "text/plain": [
       "Empty DataFrame\n",
       "Columns: [asin, title, imgUrl, productURL, stars, reviews, price, listPrice, category_id, isBestSeller, boughtInLastMonth]\n",
       "Index: []"
      ]
     },
     "execution_count": 46,
     "metadata": {},
     "output_type": "execute_result"
    }
   ],
   "source": [
    "# Use other information to try fill the missing title name.\n",
    "products_df.loc[products_df['stars'] == '4.5'] \n",
    "# up to here!!\n",
    "\n",
    "# print(othertitle)"
   ]
  },
  {
   "cell_type": "code",
   "execution_count": 43,
   "metadata": {},
   "outputs": [
    {
     "name": "stdout",
     "output_type": "stream",
     "text": [
      "               asin                                              title  \\\n",
      "0        B014TMV5YE  Sion Softside Expandable Roller Luggage, Black...   \n",
      "1        B07GDLCQXV  Luggage Sets Expandable PC+ABS Durable Suitcas...   \n",
      "2        B07XSCCZYG  Platinum Elite Softside Expandable Checked Lug...   \n",
      "3        B08MVFKGJM  Freeform Hardside Expandable with Double Spinn...   \n",
      "4        B01DJLKZBA  Winfield 2 Hardside Expandable Luggage with Sp...   \n",
      "...             ...                                                ...   \n",
      "1426332  B00R3LIKCO  American Flag Patriotic USA Classic 5 Panel Me...   \n",
      "1426333  B098BQ7ZQ3  Men's Baseball Cap - H2O-DRI Line Up Curved Br...   \n",
      "1426334  B07X1MVNT1  [4 Pack] Adjustable Eyeglasses and Sunglasses ...   \n",
      "1426335  B08XLBG8V9                          Ax2002 Aviator Sunglasses   \n",
      "1426336  B07GH67QC8  in Hoc Signo Vinces Knights Templar Masonic Em...   \n",
      "\n",
      "                                                    imgUrl  \\\n",
      "0        https://m.media-amazon.com/images/I/815dLQKYIY...   \n",
      "1        https://m.media-amazon.com/images/I/81bQlm7vf6...   \n",
      "2        https://m.media-amazon.com/images/I/71EA35zvJB...   \n",
      "3        https://m.media-amazon.com/images/I/91k6NYLQyI...   \n",
      "4        https://m.media-amazon.com/images/I/61NJoaZcP9...   \n",
      "...                                                    ...   \n",
      "1426332  https://m.media-amazon.com/images/I/71PDJFz6AA...   \n",
      "1426333  https://m.media-amazon.com/images/I/812Tycexs4...   \n",
      "1426334  https://m.media-amazon.com/images/I/61vvYW1S9J...   \n",
      "1426335  https://m.media-amazon.com/images/I/51+yjD4F1x...   \n",
      "1426336  https://m.media-amazon.com/images/I/91Kt2KQf0E...   \n",
      "\n",
      "                                   productURL  stars  reviews   price  \\\n",
      "0        https://www.amazon.com/dp/B014TMV5YE    4.5        0  139.99   \n",
      "1        https://www.amazon.com/dp/B07GDLCQXV    4.5        0  169.99   \n",
      "2        https://www.amazon.com/dp/B07XSCCZYG    4.6        0  365.49   \n",
      "3        https://www.amazon.com/dp/B08MVFKGJM    4.6        0  291.59   \n",
      "4        https://www.amazon.com/dp/B01DJLKZBA    4.5        0  174.99   \n",
      "...                                       ...    ...      ...     ...   \n",
      "1426332  https://www.amazon.com/dp/B00R3LIKCO    4.2        0   14.95   \n",
      "1426333  https://www.amazon.com/dp/B098BQ7ZQ3    4.4        0   33.99   \n",
      "1426334  https://www.amazon.com/dp/B07X1MVNT1    3.6        0    8.54   \n",
      "1426335  https://www.amazon.com/dp/B08XLBG8V9    4.5        0   54.36   \n",
      "1426336  https://www.amazon.com/dp/B07GH67QC8    4.9        0   18.79   \n",
      "\n",
      "         listPrice  category_id  isBestSeller  boughtInLastMonth  \n",
      "0             0.00          104         False               2000  \n",
      "1           209.99          104         False               1000  \n",
      "2           429.99          104         False                300  \n",
      "3           354.37          104         False                400  \n",
      "4           309.99          104         False                400  \n",
      "...            ...          ...           ...                ...  \n",
      "1426332       0.00          112         False                  0  \n",
      "1426333       0.00          112         False                  0  \n",
      "1426334       0.00          112         False                  0  \n",
      "1426335      57.39          112         False                  0  \n",
      "1426336       0.00          112         False                  0  \n",
      "\n",
      "[1426336 rows x 11 columns]\n"
     ]
    }
   ],
   "source": [
    "# Identify Missing value in the 'title' column\n",
    "missing_title = pd.notnull(products_df[\"title\"])\n",
    "\n",
    "# Filtering rows where 'title' is missing\n",
    "missing_title_data = products_df[missing_title]\n",
    "\n",
    "print(missing_title_data)\n",
    "\n"
   ]
  },
  {
   "cell_type": "code",
   "execution_count": null,
   "metadata": {},
   "outputs": [],
   "source": [
    "\n",
    "# check for duplicates based off id & product_id\n",
    "# this includes checking for dup rows  in both datasets df.duplicated().sum()\n",
    "\n",
    "\n",
    "# identify any missing values\n",
    "# df.info() to see column type\n",
    "# use describe to get more info\n",
    "# If match we can join these two tables together making it easier to work with.\n",
    "# Then compare product_id and id to see if these cats match. this is last for sanity check to make sure.\n",
    "\n"
   ]
  },
  {
   "cell_type": "code",
   "execution_count": 42,
   "metadata": {},
   "outputs": [
    {
     "name": "stdout",
     "output_type": "stream",
     "text": [
      "1    Fabric Decorating\n",
      "Name: category_name, dtype: object\n"
     ]
    }
   ],
   "source": [
    "# Comparing id column from amazon_categories.csv to product_id in amazon_products.csv to ensure these categories are matching\n",
    "cat_filter = categories_df.loc[categories_df['id'] == 2, 'category_name']\n",
    "print(cat_filter)"
   ]
  },
  {
   "cell_type": "code",
   "execution_count": 12,
   "metadata": {},
   "outputs": [
    {
     "ename": "TypeError",
     "evalue": "'tuple' object is not callable",
     "output_type": "error",
     "traceback": [
      "\u001b[1;31m---------------------------------------------------------------------------\u001b[0m",
      "\u001b[1;31mTypeError\u001b[0m                                 Traceback (most recent call last)",
      "Cell \u001b[1;32mIn[12], line 1\u001b[0m\n\u001b[1;32m----> 1\u001b[0m \u001b[43mcategories_df\u001b[49m\u001b[38;5;241;43m.\u001b[39;49m\u001b[43mshape\u001b[49m\u001b[43m(\u001b[49m\u001b[38;5;241;43m3\u001b[39;49m\u001b[43m)\u001b[49m\n\u001b[0;32m      2\u001b[0m \u001b[38;5;66;03m# products_df.shape()\u001b[39;00m\n",
      "\u001b[1;31mTypeError\u001b[0m: 'tuple' object is not callable"
     ]
    }
   ],
   "source": [
    "categories_df.shape(3)\n",
    "# products_df.shape()"
   ]
  }
 ],
 "metadata": {
  "kernelspec": {
   "display_name": "Python 3",
   "language": "python",
   "name": "python3"
  },
  "language_info": {
   "codemirror_mode": {
    "name": "ipython",
    "version": 3
   },
   "file_extension": ".py",
   "mimetype": "text/x-python",
   "name": "python",
   "nbconvert_exporter": "python",
   "pygments_lexer": "ipython3",
   "version": "3.10.1"
  }
 },
 "nbformat": 4,
 "nbformat_minor": 2
}
