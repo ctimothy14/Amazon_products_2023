{
 "cells": [
  {
   "cell_type": "markdown",
   "metadata": {},
   "source": [
    "# Amazon USA Products 2023 (1.4M Products)"
   ]
  },
  {
   "cell_type": "markdown",
   "metadata": {},
   "source": [
    "## Dataset\n",
    "Due to the dataset exceeding 100 MiB which GitHub blocks files larger than 100 MiB please see the below link to the full dataset.\n",
    "\n",
    "https://www.kaggle.com/datasets/asaniczka/amazon-products-dataset-2023-1-4m-products/data\n",
    "\n",
    "The two datasets are amazon_categories.csv & amazon_products.csv\n",
    "\n",
    "amazon_categories contains the following:\n",
    "- id\n",
    "- category_name\n",
    "\n",
    "amazon_products contains the following:\n",
    "- asin\t\n",
    "- title\t\n",
    "- imgUrl\t\n",
    "- productURL\t\n",
    "- stars\t\n",
    "-reviews\n",
    "- price\t\n",
    "- listPrice\t\n",
    "- category_id\t\n",
    "- isBestSeller\t\n",
    "- boughtInLastMonth\n",
    "\n",
    "The Amazon Products Dataset 2023 was Scraped from Sep 2023"
   ]
  },
  {
   "cell_type": "markdown",
   "metadata": {},
   "source": [
    "# Project Objective\n",
    "\n",
    "Using Python conduct an exploratory data analysis on the Amazon Products Dataset.\n",
    "The objective of this project is to answer the following questions:\n",
    "\n",
    "1. How many products are Best Sellers?\n",
    "2. How many of these BestSeller products were purchased in the last month?\n",
    "3. Calculate total sales performance in the last month (boughtInLastMonth)?\n",
    "4. Calculate Revenue per product\n",
    "5. Calculate the total money volume for the whole dataset.\n",
    "6. Identify Top Rated Products by Top 20 Categories\n",
    "7. Identify Top 20 Products bought in the last month across all product categories\n",
    "\n"
   ]
  },
  {
   "cell_type": "markdown",
   "metadata": {},
   "source": [
    "# Step 1: Import Libraries"
   ]
  },
  {
   "cell_type": "code",
   "execution_count": 1,
   "metadata": {},
   "outputs": [],
   "source": [
    "import pandas as pd\n",
    "import matplotlib.pyplot as plt\n",
    "import matplotlib.ticker as mtick\n",
    "import seaborn as sns\n",
    "import plotly.express as px\n",
    "import csv"
   ]
  },
  {
   "cell_type": "markdown",
   "metadata": {},
   "source": [
    "# Step 2: Load Datasets"
   ]
  },
  {
   "cell_type": "code",
   "execution_count": 2,
   "metadata": {},
   "outputs": [],
   "source": [
    "# loading datasets\n",
    "categories_df = pd.read_csv(\"C:\\\\Users\\\\Tim\\\\OneDrive\\\\Documents\\\\Projects\\\\Amazon Products 2023\\\\amazon_categories.csv\")\n",
    "products_df = pd.read_csv(\"C:\\\\Users\\\\Tim\\\\OneDrive\\\\Documents\\Projects\\\\Amazon Products 2023\\\\amazon_products.csv\")"
   ]
  },
  {
   "cell_type": "code",
   "execution_count": 3,
   "metadata": {},
   "outputs": [
    {
     "data": {
      "text/html": [
       "<div>\n",
       "<style scoped>\n",
       "    .dataframe tbody tr th:only-of-type {\n",
       "        vertical-align: middle;\n",
       "    }\n",
       "\n",
       "    .dataframe tbody tr th {\n",
       "        vertical-align: top;\n",
       "    }\n",
       "\n",
       "    .dataframe thead th {\n",
       "        text-align: right;\n",
       "    }\n",
       "</style>\n",
       "<table border=\"1\" class=\"dataframe\">\n",
       "  <thead>\n",
       "    <tr style=\"text-align: right;\">\n",
       "      <th></th>\n",
       "      <th>id</th>\n",
       "      <th>category_name</th>\n",
       "    </tr>\n",
       "  </thead>\n",
       "  <tbody>\n",
       "    <tr>\n",
       "      <th>0</th>\n",
       "      <td>1</td>\n",
       "      <td>Beading &amp; Jewelry Making</td>\n",
       "    </tr>\n",
       "    <tr>\n",
       "      <th>1</th>\n",
       "      <td>2</td>\n",
       "      <td>Fabric Decorating</td>\n",
       "    </tr>\n",
       "    <tr>\n",
       "      <th>2</th>\n",
       "      <td>3</td>\n",
       "      <td>Knitting &amp; Crochet Supplies</td>\n",
       "    </tr>\n",
       "    <tr>\n",
       "      <th>3</th>\n",
       "      <td>4</td>\n",
       "      <td>Printmaking Supplies</td>\n",
       "    </tr>\n",
       "    <tr>\n",
       "      <th>4</th>\n",
       "      <td>5</td>\n",
       "      <td>Scrapbooking &amp; Stamping Supplies</td>\n",
       "    </tr>\n",
       "  </tbody>\n",
       "</table>\n",
       "</div>"
      ],
      "text/plain": [
       "   id                     category_name\n",
       "0   1          Beading & Jewelry Making\n",
       "1   2                 Fabric Decorating\n",
       "2   3       Knitting & Crochet Supplies\n",
       "3   4              Printmaking Supplies\n",
       "4   5  Scrapbooking & Stamping Supplies"
      ]
     },
     "execution_count": 3,
     "metadata": {},
     "output_type": "execute_result"
    }
   ],
   "source": [
    "# view first few rows of each dataset\n",
    "categories_df.head()"
   ]
  },
  {
   "cell_type": "code",
   "execution_count": 4,
   "metadata": {},
   "outputs": [
    {
     "data": {
      "text/html": [
       "<div>\n",
       "<style scoped>\n",
       "    .dataframe tbody tr th:only-of-type {\n",
       "        vertical-align: middle;\n",
       "    }\n",
       "\n",
       "    .dataframe tbody tr th {\n",
       "        vertical-align: top;\n",
       "    }\n",
       "\n",
       "    .dataframe thead th {\n",
       "        text-align: right;\n",
       "    }\n",
       "</style>\n",
       "<table border=\"1\" class=\"dataframe\">\n",
       "  <thead>\n",
       "    <tr style=\"text-align: right;\">\n",
       "      <th></th>\n",
       "      <th>asin</th>\n",
       "      <th>title</th>\n",
       "      <th>imgUrl</th>\n",
       "      <th>productURL</th>\n",
       "      <th>stars</th>\n",
       "      <th>reviews</th>\n",
       "      <th>price</th>\n",
       "      <th>listPrice</th>\n",
       "      <th>category_id</th>\n",
       "      <th>isBestSeller</th>\n",
       "      <th>boughtInLastMonth</th>\n",
       "    </tr>\n",
       "  </thead>\n",
       "  <tbody>\n",
       "    <tr>\n",
       "      <th>0</th>\n",
       "      <td>B014TMV5YE</td>\n",
       "      <td>Sion Softside Expandable Roller Luggage, Black...</td>\n",
       "      <td>https://m.media-amazon.com/images/I/815dLQKYIY...</td>\n",
       "      <td>https://www.amazon.com/dp/B014TMV5YE</td>\n",
       "      <td>4.5</td>\n",
       "      <td>0</td>\n",
       "      <td>139.99</td>\n",
       "      <td>0.00</td>\n",
       "      <td>104</td>\n",
       "      <td>False</td>\n",
       "      <td>2000</td>\n",
       "    </tr>\n",
       "    <tr>\n",
       "      <th>1</th>\n",
       "      <td>B07GDLCQXV</td>\n",
       "      <td>Luggage Sets Expandable PC+ABS Durable Suitcas...</td>\n",
       "      <td>https://m.media-amazon.com/images/I/81bQlm7vf6...</td>\n",
       "      <td>https://www.amazon.com/dp/B07GDLCQXV</td>\n",
       "      <td>4.5</td>\n",
       "      <td>0</td>\n",
       "      <td>169.99</td>\n",
       "      <td>209.99</td>\n",
       "      <td>104</td>\n",
       "      <td>False</td>\n",
       "      <td>1000</td>\n",
       "    </tr>\n",
       "    <tr>\n",
       "      <th>2</th>\n",
       "      <td>B07XSCCZYG</td>\n",
       "      <td>Platinum Elite Softside Expandable Checked Lug...</td>\n",
       "      <td>https://m.media-amazon.com/images/I/71EA35zvJB...</td>\n",
       "      <td>https://www.amazon.com/dp/B07XSCCZYG</td>\n",
       "      <td>4.6</td>\n",
       "      <td>0</td>\n",
       "      <td>365.49</td>\n",
       "      <td>429.99</td>\n",
       "      <td>104</td>\n",
       "      <td>False</td>\n",
       "      <td>300</td>\n",
       "    </tr>\n",
       "    <tr>\n",
       "      <th>3</th>\n",
       "      <td>B08MVFKGJM</td>\n",
       "      <td>Freeform Hardside Expandable with Double Spinn...</td>\n",
       "      <td>https://m.media-amazon.com/images/I/91k6NYLQyI...</td>\n",
       "      <td>https://www.amazon.com/dp/B08MVFKGJM</td>\n",
       "      <td>4.6</td>\n",
       "      <td>0</td>\n",
       "      <td>291.59</td>\n",
       "      <td>354.37</td>\n",
       "      <td>104</td>\n",
       "      <td>False</td>\n",
       "      <td>400</td>\n",
       "    </tr>\n",
       "    <tr>\n",
       "      <th>4</th>\n",
       "      <td>B01DJLKZBA</td>\n",
       "      <td>Winfield 2 Hardside Expandable Luggage with Sp...</td>\n",
       "      <td>https://m.media-amazon.com/images/I/61NJoaZcP9...</td>\n",
       "      <td>https://www.amazon.com/dp/B01DJLKZBA</td>\n",
       "      <td>4.5</td>\n",
       "      <td>0</td>\n",
       "      <td>174.99</td>\n",
       "      <td>309.99</td>\n",
       "      <td>104</td>\n",
       "      <td>False</td>\n",
       "      <td>400</td>\n",
       "    </tr>\n",
       "  </tbody>\n",
       "</table>\n",
       "</div>"
      ],
      "text/plain": [
       "         asin                                              title  \\\n",
       "0  B014TMV5YE  Sion Softside Expandable Roller Luggage, Black...   \n",
       "1  B07GDLCQXV  Luggage Sets Expandable PC+ABS Durable Suitcas...   \n",
       "2  B07XSCCZYG  Platinum Elite Softside Expandable Checked Lug...   \n",
       "3  B08MVFKGJM  Freeform Hardside Expandable with Double Spinn...   \n",
       "4  B01DJLKZBA  Winfield 2 Hardside Expandable Luggage with Sp...   \n",
       "\n",
       "                                              imgUrl  \\\n",
       "0  https://m.media-amazon.com/images/I/815dLQKYIY...   \n",
       "1  https://m.media-amazon.com/images/I/81bQlm7vf6...   \n",
       "2  https://m.media-amazon.com/images/I/71EA35zvJB...   \n",
       "3  https://m.media-amazon.com/images/I/91k6NYLQyI...   \n",
       "4  https://m.media-amazon.com/images/I/61NJoaZcP9...   \n",
       "\n",
       "                             productURL  stars  reviews   price  listPrice  \\\n",
       "0  https://www.amazon.com/dp/B014TMV5YE    4.5        0  139.99       0.00   \n",
       "1  https://www.amazon.com/dp/B07GDLCQXV    4.5        0  169.99     209.99   \n",
       "2  https://www.amazon.com/dp/B07XSCCZYG    4.6        0  365.49     429.99   \n",
       "3  https://www.amazon.com/dp/B08MVFKGJM    4.6        0  291.59     354.37   \n",
       "4  https://www.amazon.com/dp/B01DJLKZBA    4.5        0  174.99     309.99   \n",
       "\n",
       "   category_id  isBestSeller  boughtInLastMonth  \n",
       "0          104         False               2000  \n",
       "1          104         False               1000  \n",
       "2          104         False                300  \n",
       "3          104         False                400  \n",
       "4          104         False                400  "
      ]
     },
     "execution_count": 4,
     "metadata": {},
     "output_type": "execute_result"
    }
   ],
   "source": [
    "products_df.head()"
   ]
  },
  {
   "cell_type": "markdown",
   "metadata": {},
   "source": [
    "# Step 3: Data Cleaning"
   ]
  },
  {
   "cell_type": "code",
   "execution_count": 5,
   "metadata": {},
   "outputs": [
    {
     "name": "stdout",
     "output_type": "stream",
     "text": [
      "categories_df Row Count: 248\n",
      "cateogires_df column Count: 2\n",
      "products_df Row Count: 1426337\n",
      "products_df Column Count: 11\n"
     ]
    }
   ],
   "source": [
    "# Check the number of rows and columns.\n",
    "cat_rows = categories_df.shape[0] # Gives num of rows\n",
    "cat_col = categories_df.shape[1] # gives num of cols\n",
    "prod_row = products_df.shape[0] # Gives num of rows\n",
    "prod_col = products_df.shape[1] # gives num of cols\n",
    "\n",
    "print(\"categories_df Row Count: \" + str(cat_rows))\n",
    "print(\"cateogires_df column Count: \" + str(cat_col))\n",
    "\n",
    "print(\"products_df Row Count: \" + str(prod_row))\n",
    "print(\"products_df Column Count: \" + str(prod_col))"
   ]
  },
  {
   "cell_type": "code",
   "execution_count": 6,
   "metadata": {},
   "outputs": [
    {
     "name": "stdout",
     "output_type": "stream",
     "text": [
      "id               0\n",
      "category_name    0\n",
      "dtype: int64\n",
      "asin                 0\n",
      "title                1\n",
      "imgUrl               0\n",
      "productURL           0\n",
      "stars                0\n",
      "reviews              0\n",
      "price                0\n",
      "listPrice            0\n",
      "category_id          0\n",
      "isBestSeller         0\n",
      "boughtInLastMonth    0\n",
      "dtype: int64\n"
     ]
    }
   ],
   "source": [
    "# Identify any missing values\n",
    "print(categories_df.isnull().sum())\n",
    "print(products_df.isnull().sum())"
   ]
  },
  {
   "cell_type": "code",
   "execution_count": 7,
   "metadata": {},
   "outputs": [
    {
     "name": "stdout",
     "output_type": "stream",
     "text": [
      "               asin title                                             imgUrl  \\\n",
      "1206102  B00758A9CE   NaN  https://m.media-amazon.com/images/I/71+50RU8o2...   \n",
      "\n",
      "                                   productURL  stars  reviews  price  \\\n",
      "1206102  https://www.amazon.com/dp/B00758A9CE    5.0        0  33.08   \n",
      "\n",
      "         listPrice  category_id  isBestSeller  boughtInLastMonth  \n",
      "1206102        0.0           19         False                  0  \n"
     ]
    }
   ],
   "source": [
    "# find the null value in products_df \n",
    "missing_title = products_df[products_df['title'].isnull()]\n",
    "print(missing_title)"
   ]
  },
  {
   "cell_type": "code",
   "execution_count": 8,
   "metadata": {},
   "outputs": [
    {
     "name": "stdout",
     "output_type": "stream",
     "text": [
      "               asin                                              title  \\\n",
      "1198836  B09DH98QL2  Chemical Guys HOL363 16-Piece Arsenal Builder ...   \n",
      "1198837  B0C6DZZ4MN  Car Wash Kit -Car Wash Cleaning Kit Car Interi...   \n",
      "1198838  B0CBZ12S15  Car Vacuum Cleaner High Power Cordless, 16000p...   \n",
      "1198839  B08BRJHJF9  Microfiber Cleaning Cloth Grey - 12 packs 16\"x...   \n",
      "1198840  B06ZY896ZM  ThisWorx Car Vacuum Cleaner - Car Accessories ...   \n",
      "...             ...                                                ...   \n",
      "1207490  B093Q3RKB5  Car Cleaning Kit Buffing Pads Sponge Waxing an...   \n",
      "1207491  B093CLN9YG  VViViD Essentials Car Cleaning, Waxing and Pol...   \n",
      "1207492  B08RCV9DTM  Tires and Plastic Restoration - Professional C...   \n",
      "1207493  B08HRMRJ95  Cleaning Washcloth Towels - Large 27\" x 16\" Mi...   \n",
      "1207494  B08GG9W1WJ                Collinite 845 476s Double 520 Combo   \n",
      "\n",
      "                                                    imgUrl  \\\n",
      "1198836  https://m.media-amazon.com/images/I/81xaaklwt6...   \n",
      "1198837  https://m.media-amazon.com/images/I/913PzikWM4...   \n",
      "1198838  https://m.media-amazon.com/images/I/81hlDIAFsz...   \n",
      "1198839  https://m.media-amazon.com/images/I/A1U4ZA-OJm...   \n",
      "1198840  https://m.media-amazon.com/images/I/81EJLtLxMg...   \n",
      "...                                                    ...   \n",
      "1207490  https://m.media-amazon.com/images/I/715GVdeyLl...   \n",
      "1207491  https://m.media-amazon.com/images/I/81wxWFNCbm...   \n",
      "1207492  https://m.media-amazon.com/images/I/515NDG+SXn...   \n",
      "1207493  https://m.media-amazon.com/images/I/81Dofh1qJX...   \n",
      "1207494  https://m.media-amazon.com/images/I/61WakCgIs9...   \n",
      "\n",
      "                                   productURL  stars  reviews   price  \\\n",
      "1198836  https://www.amazon.com/dp/B09DH98QL2    4.5        0  259.99   \n",
      "1198837  https://www.amazon.com/dp/B0C6DZZ4MN    4.2        0   32.99   \n",
      "1198838  https://www.amazon.com/dp/B0CBZ12S15    4.5        0   59.99   \n",
      "1198839  https://www.amazon.com/dp/B08BRJHJF9    4.7        0    9.99   \n",
      "1198840  https://www.amazon.com/dp/B06ZY896ZM    4.0        0   19.59   \n",
      "...                                       ...    ...      ...     ...   \n",
      "1207490  https://www.amazon.com/dp/B093Q3RKB5    4.6        0   20.99   \n",
      "1207491  https://www.amazon.com/dp/B093CLN9YG    4.6        0   16.99   \n",
      "1207492  https://www.amazon.com/dp/B08RCV9DTM    0.0        0   25.00   \n",
      "1207493  https://www.amazon.com/dp/B08HRMRJ95    4.2        0   15.87   \n",
      "1207494  https://www.amazon.com/dp/B08GG9W1WJ    5.0        0   67.19   \n",
      "\n",
      "         listPrice  category_id  isBestSeller  boughtInLastMonth  \n",
      "1198836       0.00           19         False                 50  \n",
      "1198837       0.00           19         False                 50  \n",
      "1198838      79.99           19         False                  0  \n",
      "1198839      17.99           19          True              10000  \n",
      "1198840      39.99           19          True              10000  \n",
      "...            ...          ...           ...                ...  \n",
      "1207490       0.00           19         False                  0  \n",
      "1207491       0.00           19         False                  0  \n",
      "1207492       0.00           19         False                  0  \n",
      "1207493       0.00           19         False                  0  \n",
      "1207494       0.00           19         False                  0  \n",
      "\n",
      "[8659 rows x 11 columns]\n"
     ]
    }
   ],
   "source": [
    "# Use other information to try fill the missing title name.\n",
    "prod_filter = products_df.loc[products_df['category_id'] == 19]\n",
    "print(prod_filter)"
   ]
  },
  {
   "cell_type": "code",
   "execution_count": 9,
   "metadata": {},
   "outputs": [
    {
     "name": "stdout",
     "output_type": "stream",
     "text": [
      "               asin  \\\n",
      "1198836  B09DH98QL2   \n",
      "1198837  B0C6DZZ4MN   \n",
      "1198838  B0CBZ12S15   \n",
      "1198839  B08BRJHJF9   \n",
      "1198840  B06ZY896ZM   \n",
      "...             ...   \n",
      "1207490  B093Q3RKB5   \n",
      "1207491  B093CLN9YG   \n",
      "1207492  B08RCV9DTM   \n",
      "1207493  B08HRMRJ95   \n",
      "1207494  B08GG9W1WJ   \n",
      "\n",
      "                                                                                                                                                                                                       title  \\\n",
      "1198836  Chemical Guys HOL363 16-Piece Arsenal Builder Ceramic Car Wash & Protection Kit with Big Mouth Max Release Foam Cannon, Bucket and (6) 16 oz Car Care Cleaning Chemicals (Works w/Pressure Washers)   \n",
      "1198837                                          Car Wash Kit -Car Wash Cleaning Kit Car Interior Detailing Kit with Car Wash Foam Gun,Microfiber Sponge Car Care Kit,Tire Brush, Car Wash Kit with Foam Gun   \n",
      "1198838          Car Vacuum Cleaner High Power Cordless, 16000pa Small Handheld Vacuum for Car with Blower, Powerful Hand Vacuum Rechargeable, Type-C Fast Charging, Portable Car Vacuum for Car/Home/Office   \n",
      "1198839      Microfiber Cleaning Cloth Grey - 12 packs 16\"x16\" - High Performance - 1200 Washes, Ultra Absorbent Towels Weave Grime & Liquid for Streak-Free Mirror Shine - Car Washing cloth and Applicator   \n",
      "1198840                   ThisWorx Car Vacuum Cleaner - Car Accessories - Small 12V High Power Handheld Portable Car Vacuum w/Attachments, 16 Ft Cord & Bag - Detailing Kit Essentials for Travel, RV Camper   \n",
      "...                                                                                                                                                                                                      ...   \n",
      "1207490                                                                Car Cleaning Kit Buffing Pads Sponge Waxing and Drill Brush Attachment 4 Inch Set,Multi-Purpose Cleaning Car Body/Tire/Interior,22PCS   \n",
      "1207491                                                                            VViViD Essentials Car Cleaning, Waxing and Polishing Kit, 16pcs Sponge Pads, Wool Pads, Backing Plates and Drill Adapters   \n",
      "1207492           Tires and Plastic Restoration - Professional Car Detailing Kit Solution, Waterless Rinsing - Seals, Protects, Rejuvenates, Cleans Rubber & Plastic Surfaces - Deep or Medium Gloss - 500ml   \n",
      "1207493             Cleaning Washcloth Towels - Large 27\" x 16\" Microfiber Rags - Highly Absorbent, Lint Free Streak Free for House, Kitchen, Car, Window Detailing Reusable Shop Towels (6-Pack, Navy Blue)   \n",
      "1207494                                                                                                                                                                  Collinite 845 476s Double 520 Combo   \n",
      "\n",
      "                                                                 imgUrl  \\\n",
      "1198836  https://m.media-amazon.com/images/I/81xaaklwt6L._AC_UL320_.jpg   \n",
      "1198837  https://m.media-amazon.com/images/I/913PzikWM4L._AC_UL320_.jpg   \n",
      "1198838  https://m.media-amazon.com/images/I/81hlDIAFszL._AC_UL320_.jpg   \n",
      "1198839  https://m.media-amazon.com/images/I/A1U4ZA-OJmS._AC_UL320_.jpg   \n",
      "1198840  https://m.media-amazon.com/images/I/81EJLtLxMgL._AC_UL320_.jpg   \n",
      "...                                                                 ...   \n",
      "1207490  https://m.media-amazon.com/images/I/715GVdeyLlS._AC_UL320_.jpg   \n",
      "1207491  https://m.media-amazon.com/images/I/81wxWFNCbmS._AC_UL320_.jpg   \n",
      "1207492  https://m.media-amazon.com/images/I/515NDG+SXnL._AC_UL320_.jpg   \n",
      "1207493  https://m.media-amazon.com/images/I/81Dofh1qJXL._AC_UL320_.jpg   \n",
      "1207494  https://m.media-amazon.com/images/I/61WakCgIs9L._AC_UL320_.jpg   \n",
      "\n",
      "                                   productURL  stars  reviews   price  \\\n",
      "1198836  https://www.amazon.com/dp/B09DH98QL2    4.5        0  259.99   \n",
      "1198837  https://www.amazon.com/dp/B0C6DZZ4MN    4.2        0   32.99   \n",
      "1198838  https://www.amazon.com/dp/B0CBZ12S15    4.5        0   59.99   \n",
      "1198839  https://www.amazon.com/dp/B08BRJHJF9    4.7        0    9.99   \n",
      "1198840  https://www.amazon.com/dp/B06ZY896ZM    4.0        0   19.59   \n",
      "...                                       ...    ...      ...     ...   \n",
      "1207490  https://www.amazon.com/dp/B093Q3RKB5    4.6        0   20.99   \n",
      "1207491  https://www.amazon.com/dp/B093CLN9YG    4.6        0   16.99   \n",
      "1207492  https://www.amazon.com/dp/B08RCV9DTM    0.0        0   25.00   \n",
      "1207493  https://www.amazon.com/dp/B08HRMRJ95    4.2        0   15.87   \n",
      "1207494  https://www.amazon.com/dp/B08GG9W1WJ    5.0        0   67.19   \n",
      "\n",
      "         listPrice  category_id  isBestSeller  boughtInLastMonth  \n",
      "1198836       0.00           19         False                 50  \n",
      "1198837       0.00           19         False                 50  \n",
      "1198838      79.99           19         False                  0  \n",
      "1198839      17.99           19          True              10000  \n",
      "1198840      39.99           19          True              10000  \n",
      "...            ...          ...           ...                ...  \n",
      "1207490       0.00           19         False                  0  \n",
      "1207491       0.00           19         False                  0  \n",
      "1207492       0.00           19         False                  0  \n",
      "1207493       0.00           19         False                  0  \n",
      "1207494       0.00           19         False                  0  \n",
      "\n",
      "[8659 rows x 11 columns]\n"
     ]
    }
   ],
   "source": [
    "# Update column width to see full string of title column to make sure product title is being named \n",
    "# the same as what is shown in the productURL.\n",
    "pd.set_option('display.max_colwidth', None)\n",
    "with pd.option_context('display.max_colwidth', None):\n",
    "    print(prod_filter)"
   ]
  },
  {
   "cell_type": "code",
   "execution_count": 10,
   "metadata": {},
   "outputs": [
    {
     "name": "stderr",
     "output_type": "stream",
     "text": [
      "C:\\Users\\Tim\\AppData\\Local\\Temp\\ipykernel_14144\\2887489447.py:5: FutureWarning: A value is trying to be set on a copy of a DataFrame or Series through chained assignment using an inplace method.\n",
      "The behavior will change in pandas 3.0. This inplace method will never work because the intermediate object on which we are setting values always behaves as a copy.\n",
      "\n",
      "For example, when doing 'df[col].method(value, inplace=True)', try using 'df.method({col: value}, inplace=True)' or df[col] = df[col].method(value) instead, to perform the operation inplace on the original object.\n",
      "\n",
      "\n",
      "  products_df['title'].fillna(\"Chemical Guys HOL363 16-Piece Arsenal Builder Ceramic Car Wash & Protection Kit with Big Mouth Max Release Foam Cannon, Bucket and (6) 16 oz Car Care Cleaning Chemicals (Works w/Pressure Washers)\", inplace=True)\n"
     ]
    },
    {
     "name": "stdout",
     "output_type": "stream",
     "text": [
      "Empty DataFrame\n",
      "Columns: [asin, title, imgUrl, productURL, stars, reviews, price, listPrice, category_id, isBestSeller, boughtInLastMonth]\n",
      "Index: []\n",
      "               asin  \\\n",
      "1206102  B00758A9CE   \n",
      "\n",
      "                                                                                                                                                                                                       title  \\\n",
      "1206102  Chemical Guys HOL363 16-Piece Arsenal Builder Ceramic Car Wash & Protection Kit with Big Mouth Max Release Foam Cannon, Bucket and (6) 16 oz Car Care Cleaning Chemicals (Works w/Pressure Washers)   \n",
      "\n",
      "                                                                 imgUrl  \\\n",
      "1206102  https://m.media-amazon.com/images/I/71+50RU8o2L._AC_UL320_.jpg   \n",
      "\n",
      "                                   productURL  stars  reviews  price  \\\n",
      "1206102  https://www.amazon.com/dp/B00758A9CE    5.0        0  33.08   \n",
      "\n",
      "         listPrice  category_id  isBestSeller  boughtInLastMonth  \n",
      "1206102        0.0           19         False                  0  \n"
     ]
    }
   ],
   "source": [
    "# Update Null value with product name from productURL.\n",
    "# productURL is https://www.amazon.com/dp/B09DH98QL2?th=1\n",
    "\n",
    "# Update the missing value with the given string from productURL\n",
    "products_df['title'].fillna(\"Chemical Guys HOL363 16-Piece Arsenal Builder Ceramic Car Wash & Protection Kit with Big Mouth Max Release Foam Cannon, Bucket and (6) 16 oz Car Care Cleaning Chemicals (Works w/Pressure Washers)\", inplace=True)\n",
    "\n",
    "# Check if NULL value is replaced\n",
    "print(products_df[products_df['title'].isnull()]) # should return an emptpy dataframe\n",
    "\n",
    "# double checking\n",
    "print(products_df.loc[products_df['asin'] == 'B00758A9CE']) # using unique asin from above"
   ]
  },
  {
   "cell_type": "code",
   "execution_count": 11,
   "metadata": {},
   "outputs": [
    {
     "name": "stdout",
     "output_type": "stream",
     "text": [
      "asin                 0\n",
      "title                0\n",
      "imgUrl               0\n",
      "productURL           0\n",
      "stars                0\n",
      "reviews              0\n",
      "price                0\n",
      "listPrice            0\n",
      "category_id          0\n",
      "isBestSeller         0\n",
      "boughtInLastMonth    0\n",
      "dtype: int64\n"
     ]
    }
   ],
   "source": [
    "# Verify changes to check if anymore NULL values in products_df\n",
    "print(products_df.isnull().sum())"
   ]
  },
  {
   "cell_type": "markdown",
   "metadata": {},
   "source": [
    "#### Next Steps:\n",
    "1. <b>Remove duplicates IDs:</b> Now that there are no NULL values in the dataset, the next step is to eliminate any duplicate entries in the 'id' column of categories_df to ensure data integrity.\n",
    "\n",
    "2. <b>Validate Matching Keys:</b> Before merging the datasets, we need to verify that the 'id' values in categories_df align correctly with the 'category_id' values in products_df. This step ensures a smooth and accurate join.\n",
    "\n",
    "3. <b>Merge the Datasets:</b> Once the key columns are validated, we will combine categories_df and products_df by joining on 'id' (from categories_df) and 'category_id' (from products_df). This will integrate category information with product details for further my final analysis and dataset used for my tableau dashboard."
   ]
  },
  {
   "cell_type": "code",
   "execution_count": 12,
   "metadata": {},
   "outputs": [
    {
     "data": {
      "text/plain": [
       "np.int64(0)"
      ]
     },
     "execution_count": 12,
     "metadata": {},
     "output_type": "execute_result"
    }
   ],
   "source": [
    "# Check for duplicates in categories_df\n",
    "categories_df.duplicated().sum()"
   ]
  },
  {
   "cell_type": "code",
   "execution_count": 13,
   "metadata": {},
   "outputs": [
    {
     "data": {
      "text/plain": [
       "np.int64(0)"
      ]
     },
     "execution_count": 13,
     "metadata": {},
     "output_type": "execute_result"
    }
   ],
   "source": [
    "products_df.duplicated().sum()"
   ]
  },
  {
   "cell_type": "code",
   "execution_count": 14,
   "metadata": {},
   "outputs": [
    {
     "name": "stdout",
     "output_type": "stream",
     "text": [
      "    id category_name\n",
      "18  19      Car Care\n",
      "                                                                                                                                                                                                       title  \\\n",
      "1198836  Chemical Guys HOL363 16-Piece Arsenal Builder Ceramic Car Wash & Protection Kit with Big Mouth Max Release Foam Cannon, Bucket and (6) 16 oz Car Care Cleaning Chemicals (Works w/Pressure Washers)   \n",
      "1198837                                          Car Wash Kit -Car Wash Cleaning Kit Car Interior Detailing Kit with Car Wash Foam Gun,Microfiber Sponge Car Care Kit,Tire Brush, Car Wash Kit with Foam Gun   \n",
      "1198838          Car Vacuum Cleaner High Power Cordless, 16000pa Small Handheld Vacuum for Car with Blower, Powerful Hand Vacuum Rechargeable, Type-C Fast Charging, Portable Car Vacuum for Car/Home/Office   \n",
      "1198839      Microfiber Cleaning Cloth Grey - 12 packs 16\"x16\" - High Performance - 1200 Washes, Ultra Absorbent Towels Weave Grime & Liquid for Streak-Free Mirror Shine - Car Washing cloth and Applicator   \n",
      "1198840                   ThisWorx Car Vacuum Cleaner - Car Accessories - Small 12V High Power Handheld Portable Car Vacuum w/Attachments, 16 Ft Cord & Bag - Detailing Kit Essentials for Travel, RV Camper   \n",
      "...                                                                                                                                                                                                      ...   \n",
      "1207490                                                                Car Cleaning Kit Buffing Pads Sponge Waxing and Drill Brush Attachment 4 Inch Set,Multi-Purpose Cleaning Car Body/Tire/Interior,22PCS   \n",
      "1207491                                                                            VViViD Essentials Car Cleaning, Waxing and Polishing Kit, 16pcs Sponge Pads, Wool Pads, Backing Plates and Drill Adapters   \n",
      "1207492           Tires and Plastic Restoration - Professional Car Detailing Kit Solution, Waterless Rinsing - Seals, Protects, Rejuvenates, Cleans Rubber & Plastic Surfaces - Deep or Medium Gloss - 500ml   \n",
      "1207493             Cleaning Washcloth Towels - Large 27\" x 16\" Microfiber Rags - Highly Absorbent, Lint Free Streak Free for House, Kitchen, Car, Window Detailing Reusable Shop Towels (6-Pack, Navy Blue)   \n",
      "1207494                                                                                                                                                                  Collinite 845 476s Double 520 Combo   \n",
      "\n",
      "         category_id  \n",
      "1198836           19  \n",
      "1198837           19  \n",
      "1198838           19  \n",
      "1198839           19  \n",
      "1198840           19  \n",
      "...              ...  \n",
      "1207490           19  \n",
      "1207491           19  \n",
      "1207492           19  \n",
      "1207493           19  \n",
      "1207494           19  \n",
      "\n",
      "[8659 rows x 2 columns]\n"
     ]
    }
   ],
   "source": [
    "# Comparing id column from amazon_categories.csv to product_id in amazon_products.csv to ensure these categories are matching\n",
    "cat_filter = categories_df.loc[categories_df['id'] == 19]\n",
    "print(cat_filter)\n",
    "\n",
    "prod_filter = products_df.loc[products_df['category_id'] == 19, ['title', 'category_id']]\n",
    "print(prod_filter)"
   ]
  },
  {
   "cell_type": "code",
   "execution_count": 15,
   "metadata": {},
   "outputs": [
    {
     "name": "stdout",
     "output_type": "stream",
     "text": [
      "Total unique category_id in products_df: 248\n",
      "Total unique id in categories_df: 248\n"
     ]
    }
   ],
   "source": [
    "uniquie_prod_id = products_df['category_id'].nunique()\n",
    "print(\"Total unique category_id in products_df: \" + str(uniquie_prod_id))\n",
    "\n",
    "unique_cat_id = categories_df['id'].nunique()\n",
    "print(\"Total unique id in categories_df: \" + str(unique_cat_id))"
   ]
  },
  {
   "cell_type": "markdown",
   "metadata": {},
   "source": [
    "After comparing both categories_df & products_df datasets we can see that 'id' in categories_df matches the 'category_id' in the products_df after looking at specific cateogory names and product titles."
   ]
  },
  {
   "cell_type": "code",
   "execution_count": 16,
   "metadata": {},
   "outputs": [
    {
     "name": "stdout",
     "output_type": "stream",
     "text": [
      "         category_id                           category_name\n",
      "0                104                               Suitcases\n",
      "924              110                          Men's Clothing\n",
      "17994            245  Xbox 360 Games, Consoles & Accessories\n",
      "21427            114                             Men's Shoes\n",
      "38519            112                       Men's Accessories\n",
      "...              ...                                     ...\n",
      "1387414          204       Paint, Wall Treatments & Supplies\n",
      "1392744          106                          Rain Umbrellas\n",
      "1394518          105                      Travel Accessories\n",
      "1414536          137     Stationery & Gift Wrapping Supplies\n",
      "1414992           26           Car Electronics & Accessories\n",
      "\n",
      "[248 rows x 2 columns]\n"
     ]
    }
   ],
   "source": [
    "# Merge products_df with categories_df using a left join\n",
    "merged_df = products_df.merge(categories_df, left_on = 'category_id', right_on = 'id', how = 'left')\n",
    "\n",
    "# Checking if all categories have been successfully merged:\n",
    "print(merged_df[['category_id','category_name']].drop_duplicates())"
   ]
  },
  {
   "cell_type": "markdown",
   "metadata": {},
   "source": [
    "the results shown above match the Total unique category_id in products_df: 248"
   ]
  },
  {
   "cell_type": "code",
   "execution_count": 17,
   "metadata": {},
   "outputs": [],
   "source": [
    "# Dropping redundant columns.\n",
    "merged_df.drop(columns=['id','imgUrl','productURL'], inplace=True)"
   ]
  },
  {
   "cell_type": "code",
   "execution_count": 18,
   "metadata": {},
   "outputs": [
    {
     "data": {
      "text/html": [
       "<div>\n",
       "<style scoped>\n",
       "    .dataframe tbody tr th:only-of-type {\n",
       "        vertical-align: middle;\n",
       "    }\n",
       "\n",
       "    .dataframe tbody tr th {\n",
       "        vertical-align: top;\n",
       "    }\n",
       "\n",
       "    .dataframe thead th {\n",
       "        text-align: right;\n",
       "    }\n",
       "</style>\n",
       "<table border=\"1\" class=\"dataframe\">\n",
       "  <thead>\n",
       "    <tr style=\"text-align: right;\">\n",
       "      <th></th>\n",
       "      <th>asin</th>\n",
       "      <th>title</th>\n",
       "      <th>stars</th>\n",
       "      <th>reviews</th>\n",
       "      <th>price</th>\n",
       "      <th>listPrice</th>\n",
       "      <th>category_id</th>\n",
       "      <th>isBestSeller</th>\n",
       "      <th>boughtInLastMonth</th>\n",
       "      <th>category_name</th>\n",
       "    </tr>\n",
       "  </thead>\n",
       "  <tbody>\n",
       "    <tr>\n",
       "      <th>1426332</th>\n",
       "      <td>B00R3LIKCO</td>\n",
       "      <td>American Flag Patriotic USA Classic 5 Panel Mesh Snap Back Trucker Hat</td>\n",
       "      <td>4.2</td>\n",
       "      <td>0</td>\n",
       "      <td>14.95</td>\n",
       "      <td>0.00</td>\n",
       "      <td>112</td>\n",
       "      <td>False</td>\n",
       "      <td>0</td>\n",
       "      <td>Men's Accessories</td>\n",
       "    </tr>\n",
       "    <tr>\n",
       "      <th>1426333</th>\n",
       "      <td>B098BQ7ZQ3</td>\n",
       "      <td>Men's Baseball Cap - H2O-DRI Line Up Curved Brim Fitted Hat</td>\n",
       "      <td>4.4</td>\n",
       "      <td>0</td>\n",
       "      <td>33.99</td>\n",
       "      <td>0.00</td>\n",
       "      <td>112</td>\n",
       "      <td>False</td>\n",
       "      <td>0</td>\n",
       "      <td>Men's Accessories</td>\n",
       "    </tr>\n",
       "    <tr>\n",
       "      <th>1426334</th>\n",
       "      <td>B07X1MVNT1</td>\n",
       "      <td>[4 Pack] Adjustable Eyeglasses and Sunglasses Holder Strap Cord for Sports, Anti-slippery Eyeglass Retainer with One Free Microfiber Cleaning Cloths(4 Pack)</td>\n",
       "      <td>3.6</td>\n",
       "      <td>0</td>\n",
       "      <td>8.54</td>\n",
       "      <td>0.00</td>\n",
       "      <td>112</td>\n",
       "      <td>False</td>\n",
       "      <td>0</td>\n",
       "      <td>Men's Accessories</td>\n",
       "    </tr>\n",
       "    <tr>\n",
       "      <th>1426335</th>\n",
       "      <td>B08XLBG8V9</td>\n",
       "      <td>Ax2002 Aviator Sunglasses</td>\n",
       "      <td>4.5</td>\n",
       "      <td>0</td>\n",
       "      <td>54.36</td>\n",
       "      <td>57.39</td>\n",
       "      <td>112</td>\n",
       "      <td>False</td>\n",
       "      <td>0</td>\n",
       "      <td>Men's Accessories</td>\n",
       "    </tr>\n",
       "    <tr>\n",
       "      <th>1426336</th>\n",
       "      <td>B07GH67QC8</td>\n",
       "      <td>in Hoc Signo Vinces Knights Templar Masonic Embroidered Black Adjustable Baseball Cap</td>\n",
       "      <td>4.9</td>\n",
       "      <td>0</td>\n",
       "      <td>18.79</td>\n",
       "      <td>0.00</td>\n",
       "      <td>112</td>\n",
       "      <td>False</td>\n",
       "      <td>0</td>\n",
       "      <td>Men's Accessories</td>\n",
       "    </tr>\n",
       "  </tbody>\n",
       "</table>\n",
       "</div>"
      ],
      "text/plain": [
       "               asin  \\\n",
       "1426332  B00R3LIKCO   \n",
       "1426333  B098BQ7ZQ3   \n",
       "1426334  B07X1MVNT1   \n",
       "1426335  B08XLBG8V9   \n",
       "1426336  B07GH67QC8   \n",
       "\n",
       "                                                                                                                                                                title  \\\n",
       "1426332                                                                                        American Flag Patriotic USA Classic 5 Panel Mesh Snap Back Trucker Hat   \n",
       "1426333                                                                                                   Men's Baseball Cap - H2O-DRI Line Up Curved Brim Fitted Hat   \n",
       "1426334  [4 Pack] Adjustable Eyeglasses and Sunglasses Holder Strap Cord for Sports, Anti-slippery Eyeglass Retainer with One Free Microfiber Cleaning Cloths(4 Pack)   \n",
       "1426335                                                                                                                                     Ax2002 Aviator Sunglasses   \n",
       "1426336                                                                         in Hoc Signo Vinces Knights Templar Masonic Embroidered Black Adjustable Baseball Cap   \n",
       "\n",
       "         stars  reviews  price  listPrice  category_id  isBestSeller  \\\n",
       "1426332    4.2        0  14.95       0.00          112         False   \n",
       "1426333    4.4        0  33.99       0.00          112         False   \n",
       "1426334    3.6        0   8.54       0.00          112         False   \n",
       "1426335    4.5        0  54.36      57.39          112         False   \n",
       "1426336    4.9        0  18.79       0.00          112         False   \n",
       "\n",
       "         boughtInLastMonth      category_name  \n",
       "1426332                  0  Men's Accessories  \n",
       "1426333                  0  Men's Accessories  \n",
       "1426334                  0  Men's Accessories  \n",
       "1426335                  0  Men's Accessories  \n",
       "1426336                  0  Men's Accessories  "
      ]
     },
     "execution_count": 18,
     "metadata": {},
     "output_type": "execute_result"
    }
   ],
   "source": [
    "# Preview merged_df to see if id column is dropped & if category_name column added.\n",
    "merged_df.tail()"
   ]
  },
  {
   "cell_type": "markdown",
   "metadata": {},
   "source": [
    "To help make my analysis easier and gather insights on whether: \n",
    "1. find out total products which are bestsellers\n",
    "1. Group by isBestSeller by category_name\n",
    "\n",
    "\n",
    "1. Sales Performance Across Categories\n",
    "2. Impact of Customer Ratings & reviews on Sales\n",
    "\n",
    "I will aggregate these fields and merge the aggegrated data & newly merged merged_df into a final dataset"
   ]
  },
  {
   "cell_type": "code",
   "execution_count": 19,
   "metadata": {},
   "outputs": [
    {
     "name": "stdout",
     "output_type": "stream",
     "text": [
      "isBestSeller\n",
      "False    1417817\n",
      "True        8520\n",
      "Name: count, dtype: int64\n"
     ]
    }
   ],
   "source": [
    "# 1. Find out total counts of best sellers products and not best sellers\n",
    "bestSeller_cnt = merged_df['isBestSeller'].value_counts()\n",
    "print(bestSeller_cnt)\n",
    "# Group first then count how many best seller products by category"
   ]
  },
  {
   "cell_type": "code",
   "execution_count": 20,
   "metadata": {},
   "outputs": [
    {
     "data": {
      "text/html": [
       "<div>\n",
       "<style scoped>\n",
       "    .dataframe tbody tr th:only-of-type {\n",
       "        vertical-align: middle;\n",
       "    }\n",
       "\n",
       "    .dataframe tbody tr th {\n",
       "        vertical-align: top;\n",
       "    }\n",
       "\n",
       "    .dataframe thead th {\n",
       "        text-align: right;\n",
       "    }\n",
       "</style>\n",
       "<table border=\"1\" class=\"dataframe\">\n",
       "  <thead>\n",
       "    <tr style=\"text-align: right;\">\n",
       "      <th></th>\n",
       "      <th>asin</th>\n",
       "      <th>title</th>\n",
       "      <th>stars</th>\n",
       "      <th>reviews</th>\n",
       "      <th>price</th>\n",
       "      <th>listPrice</th>\n",
       "      <th>category_id</th>\n",
       "      <th>isBestSeller</th>\n",
       "      <th>boughtInLastMonth</th>\n",
       "      <th>category_name</th>\n",
       "    </tr>\n",
       "  </thead>\n",
       "  <tbody>\n",
       "    <tr>\n",
       "      <th>0</th>\n",
       "      <td>B014TMV5YE</td>\n",
       "      <td>Sion Softside Expandable Roller Luggage, Black, Checked-Large 29-Inch</td>\n",
       "      <td>4.5</td>\n",
       "      <td>0</td>\n",
       "      <td>139.99</td>\n",
       "      <td>0.00</td>\n",
       "      <td>104</td>\n",
       "      <td>0</td>\n",
       "      <td>2000</td>\n",
       "      <td>Suitcases</td>\n",
       "    </tr>\n",
       "    <tr>\n",
       "      <th>1</th>\n",
       "      <td>B07GDLCQXV</td>\n",
       "      <td>Luggage Sets Expandable PC+ABS Durable Suitcase Double Wheels TSA Lock Blue</td>\n",
       "      <td>4.5</td>\n",
       "      <td>0</td>\n",
       "      <td>169.99</td>\n",
       "      <td>209.99</td>\n",
       "      <td>104</td>\n",
       "      <td>0</td>\n",
       "      <td>1000</td>\n",
       "      <td>Suitcases</td>\n",
       "    </tr>\n",
       "    <tr>\n",
       "      <th>2</th>\n",
       "      <td>B07XSCCZYG</td>\n",
       "      <td>Platinum Elite Softside Expandable Checked Luggage, 8 Wheel Spinner Suitcase, TSA Lock, Men and Women, True Navy Blue, Checked Medium 25-Inch</td>\n",
       "      <td>4.6</td>\n",
       "      <td>0</td>\n",
       "      <td>365.49</td>\n",
       "      <td>429.99</td>\n",
       "      <td>104</td>\n",
       "      <td>0</td>\n",
       "      <td>300</td>\n",
       "      <td>Suitcases</td>\n",
       "    </tr>\n",
       "    <tr>\n",
       "      <th>3</th>\n",
       "      <td>B08MVFKGJM</td>\n",
       "      <td>Freeform Hardside Expandable with Double Spinner Wheels, Navy, 2-Piece Set (21/28)</td>\n",
       "      <td>4.6</td>\n",
       "      <td>0</td>\n",
       "      <td>291.59</td>\n",
       "      <td>354.37</td>\n",
       "      <td>104</td>\n",
       "      <td>0</td>\n",
       "      <td>400</td>\n",
       "      <td>Suitcases</td>\n",
       "    </tr>\n",
       "    <tr>\n",
       "      <th>4</th>\n",
       "      <td>B01DJLKZBA</td>\n",
       "      <td>Winfield 2 Hardside Expandable Luggage with Spinner Wheels, Checked-Large 28-Inch, Deep Blue</td>\n",
       "      <td>4.5</td>\n",
       "      <td>0</td>\n",
       "      <td>174.99</td>\n",
       "      <td>309.99</td>\n",
       "      <td>104</td>\n",
       "      <td>0</td>\n",
       "      <td>400</td>\n",
       "      <td>Suitcases</td>\n",
       "    </tr>\n",
       "  </tbody>\n",
       "</table>\n",
       "</div>"
      ],
      "text/plain": [
       "         asin  \\\n",
       "0  B014TMV5YE   \n",
       "1  B07GDLCQXV   \n",
       "2  B07XSCCZYG   \n",
       "3  B08MVFKGJM   \n",
       "4  B01DJLKZBA   \n",
       "\n",
       "                                                                                                                                           title  \\\n",
       "0                                                                          Sion Softside Expandable Roller Luggage, Black, Checked-Large 29-Inch   \n",
       "1                                                                    Luggage Sets Expandable PC+ABS Durable Suitcase Double Wheels TSA Lock Blue   \n",
       "2  Platinum Elite Softside Expandable Checked Luggage, 8 Wheel Spinner Suitcase, TSA Lock, Men and Women, True Navy Blue, Checked Medium 25-Inch   \n",
       "3                                                             Freeform Hardside Expandable with Double Spinner Wheels, Navy, 2-Piece Set (21/28)   \n",
       "4                                                   Winfield 2 Hardside Expandable Luggage with Spinner Wheels, Checked-Large 28-Inch, Deep Blue   \n",
       "\n",
       "   stars  reviews   price  listPrice  category_id  isBestSeller  \\\n",
       "0    4.5        0  139.99       0.00          104             0   \n",
       "1    4.5        0  169.99     209.99          104             0   \n",
       "2    4.6        0  365.49     429.99          104             0   \n",
       "3    4.6        0  291.59     354.37          104             0   \n",
       "4    4.5        0  174.99     309.99          104             0   \n",
       "\n",
       "   boughtInLastMonth category_name  \n",
       "0               2000     Suitcases  \n",
       "1               1000     Suitcases  \n",
       "2                300     Suitcases  \n",
       "3                400     Suitcases  \n",
       "4                400     Suitcases  "
      ]
     },
     "execution_count": 20,
     "metadata": {},
     "output_type": "execute_result"
    }
   ],
   "source": [
    "# Convert bestSeller_cnt to an int\n",
    "# This will make it easier when doing analysis or plotting.\n",
    "merged_df['isBestSeller'] = merged_df['isBestSeller'].astype(int)\n",
    "merged_df.head()"
   ]
  },
  {
   "cell_type": "code",
   "execution_count": 21,
   "metadata": {},
   "outputs": [
    {
     "name": "stdout",
     "output_type": "stream",
     "text": [
      "isBestSeller\n",
      "0    1417817\n",
      "1       8520\n",
      "Name: count, dtype: int64\n"
     ]
    }
   ],
   "source": [
    "# check if isBestSeller column has been converted correctly to an int\n",
    "bestSeller_cnt = merged_df['isBestSeller'].value_counts()\n",
    "print(bestSeller_cnt)"
   ]
  },
  {
   "cell_type": "markdown",
   "metadata": {},
   "source": [
    "Create a new dataframe which contains the record of Not Best Seller and Best Seller"
   ]
  },
  {
   "cell_type": "code",
   "execution_count": 22,
   "metadata": {},
   "outputs": [
    {
     "name": "stdout",
     "output_type": "stream",
     "text": [
      "   isBestSeller    Count\n",
      "0             0  1417817\n",
      "1             1     8520\n"
     ]
    }
   ],
   "source": [
    "is_bestseller_data = pd.DataFrame({'isBestSeller': bestSeller_cnt.index, 'Count': bestSeller_cnt.values})\n",
    "print(is_bestseller_data)"
   ]
  },
  {
   "cell_type": "code",
   "execution_count": 23,
   "metadata": {},
   "outputs": [
    {
     "name": "stdout",
     "output_type": "stream",
     "text": [
      "     isBestSeller    Count\n",
      "0  Not Bestseller  1417817\n",
      "1      Bestseller     8520\n"
     ]
    }
   ],
   "source": [
    "# Create custom label\n",
    "seller_label = {0: \"Not Bestseller\", 1: \"Bestseller\"}\n",
    "is_bestseller_data['isBestSeller'] = is_bestseller_data['isBestSeller'].map(seller_label)\n",
    "print(is_bestseller_data)\n",
    "# use output to create graph for isBestSeller"
   ]
  },
  {
   "cell_type": "markdown",
   "metadata": {},
   "source": [
    "### 3. Now that the cleaning of the data (step 3) has been completed we can visualise the and identify and answer useful insights from the data."
   ]
  },
  {
   "cell_type": "markdown",
   "metadata": {},
   "source": [
    "# Step 4 - Asking and answering interesting questions.\n",
    "\n",
    "The project objective was to find answers the following questions.\n",
    "1. <b>Analyse Sales Performance Across Categories:</b> Identify which product categories contribute the most to total sales.\n",
    "\n",
    "2. <b>Assess the Impact of Customer Ratings & reviews on Sales:</b> Investigate whether higher-rated products generate more sales compared to lower-rated ones.\n",
    "-- Change this to total sales...\n",
    "\n",
    "3. <b>Determine Profitable Niches:</b> Explore which niches have the highest conversion rates and consistent sales trends."
   ]
  },
  {
   "cell_type": "markdown",
   "metadata": {},
   "source": [
    "### 4.1 How many products are Best Sellers?\n",
    "\n",
    "-  Display on a piechart which shows the percentage of how many products from Amazon 2023 are either BestSellers and NotBestSellers"
   ]
  },
  {
   "cell_type": "code",
   "execution_count": 24,
   "metadata": {},
   "outputs": [
    {
     "data": {
      "image/png": "[encoded data removed]",
      "text/plain": [
       "<Figure size 640x480 with 1 Axes>"
      ]
     },
     "metadata": {},
     "output_type": "display_data"
    }
   ],
   "source": [
    "# Count the occurance of True and False in the 'BestSeller' Column\n",
    "bestSeller_cnt = merged_df['isBestSeller'].value_counts()\n",
    "\n",
    "# Create a DataFrame for the pie chart\n",
    "is_bestseller_data = pd.DataFrame({'isBestSeller': bestSeller_cnt.index, 'Count': bestSeller_cnt.values})\n",
    "\n",
    "# Define labels\n",
    "seller_label = {0: \"Not Bestseller\", 1: \"Bestseller\"}\n",
    "\n",
    "# Replace values in dataframe with custom labels\n",
    "is_bestseller_data['isBestSeller'] = is_bestseller_data['isBestSeller'].map(seller_label)\n",
    "\n",
    "# Create and display the Pie Chart\n",
    "plt.pie(\n",
    "    is_bestseller_data['Count']                    # The sizes of each pie slice\n",
    "    , labels=is_bestseller_data['isBestSeller']    # The labels: \"Bestseller\", \"Not Bestseller\"\n",
    "    , autopct='%1.1f%%'                            # show percentage on pie\n",
    "    , startangle=140                               #  start angle for better visual\n",
    ")\n",
    "plt.title(\"isBestSeller Count\")\n",
    "plt.axis('equal')  # Keeps the pie chart circular\n",
    "plt.legend(loc='upper right')\n",
    "plt.show()\n"
   ]
  },
  {
   "cell_type": "markdown",
   "metadata": {},
   "source": [
    "- The bestSeller products are 0.6%\n",
    "- Not BestSeller products are  99.4%\n",
    "- Total count of 8520 for BestSeller\n",
    "- Total count of 1417817 for Not BestSeller"
   ]
  },
  {
   "cell_type": "markdown",
   "metadata": {},
   "source": [
    "### 4.2 How many of these BestSeller products were purchased in the last month?"
   ]
  },
  {
   "cell_type": "code",
   "execution_count": 25,
   "metadata": {},
   "outputs": [
    {
     "data": {
      "text/plain": [
       "30"
      ]
     },
     "execution_count": 25,
     "metadata": {},
     "output_type": "execute_result"
    }
   ],
   "source": [
    "# Unique value of Items boughtInLastMonth\n",
    "merged_df['boughtInLastMonth'].nunique()"
   ]
  },
  {
   "cell_type": "code",
   "execution_count": 26,
   "metadata": {},
   "outputs": [
    {
     "name": "stdout",
     "output_type": "stream",
     "text": [
      "isBestSeller\n",
      "0    182702500\n",
      "1     19812100\n",
      "Name: boughtInLastMonth, dtype: int64\n"
     ]
    }
   ],
   "source": [
    "# Group BestSeller with boughtInLastMonth\n",
    "sum_boughtInLastMonth = merged_df.groupby(['isBestSeller'])['boughtInLastMonth'].sum()\n",
    "print(sum_boughtInLastMonth)"
   ]
  },
  {
   "cell_type": "markdown",
   "metadata": {},
   "source": [
    "- Visualise our findings onto a graph to clearly see how many bestSellers were in the boughtInLastMonth"
   ]
  },
  {
   "cell_type": "code",
   "execution_count": 27,
   "metadata": {},
   "outputs": [
    {
     "data": {
      "image/png": "[encoded data removed]",
      "text/plain": [
       "<Figure size 640x480 with 1 Axes>"
      ]
     },
     "metadata": {},
     "output_type": "display_data"
    }
   ],
   "source": [
    "# Calculate the sum of boughtInlastMonth for IsBestSeller and Group this\n",
    "sum_boughtInLastMonth = merged_df.groupby(['isBestSeller'])['boughtInLastMonth'].sum()\n",
    "\n",
    "# Define custom labels\n",
    "custom_labels = {0: \"Non-BestSeller Volume\", 1: \"Bestseller Volume\"}\n",
    "\n",
    "# Map index to custom labels\n",
    "labels = [custom_labels[i] for i in sum_boughtInLastMonth.index]\n",
    "\n",
    "# Create and display the Pie Chart\n",
    "plt.pie(\n",
    "    sum_boughtInLastMonth                   \n",
    "    , labels=labels                  # Show the string labels\n",
    "    , autopct='%1.1f%%'                            # show percentage on pie\n",
    "    , startangle=140                               #  start angle for better visual\n",
    ")\n",
    "plt.title(\"Sum of boughtInLastMonth by isBestSeller\")\n",
    "plt.axis('equal')  # Keeps the pie chart circular\n",
    "plt.legend(loc='upper right')\n",
    "plt.show()"
   ]
  },
  {
   "cell_type": "markdown",
   "metadata": {},
   "source": [
    "- The above pie chart shows the volume of bestSeller products and NotBestSeller products which were bought in the last month.\n",
    "- 9.8% of products were bought by bestSellers\n",
    "- 90.2% of products were bought by Non-BestSellers"
   ]
  },
  {
   "cell_type": "markdown",
   "metadata": {},
   "source": [
    "### 4.3 Calculate total sales performance in the last month (boughtInLastMonth)?"
   ]
  },
  {
   "cell_type": "code",
   "execution_count": 28,
   "metadata": {},
   "outputs": [
    {
     "data": {
      "text/html": [
       "<div>\n",
       "<style scoped>\n",
       "    .dataframe tbody tr th:only-of-type {\n",
       "        vertical-align: middle;\n",
       "    }\n",
       "\n",
       "    .dataframe tbody tr th {\n",
       "        vertical-align: top;\n",
       "    }\n",
       "\n",
       "    .dataframe thead th {\n",
       "        text-align: right;\n",
       "    }\n",
       "</style>\n",
       "<table border=\"1\" class=\"dataframe\">\n",
       "  <thead>\n",
       "    <tr style=\"text-align: right;\">\n",
       "      <th></th>\n",
       "      <th>category_name</th>\n",
       "      <th>boughtInLastMonth</th>\n",
       "    </tr>\n",
       "  </thead>\n",
       "  <tbody>\n",
       "    <tr>\n",
       "      <th>0</th>\n",
       "      <td>Abrasive &amp; Finishing Products</td>\n",
       "      <td>160300</td>\n",
       "    </tr>\n",
       "    <tr>\n",
       "      <th>1</th>\n",
       "      <td>Accessories &amp; Supplies</td>\n",
       "      <td>832100</td>\n",
       "    </tr>\n",
       "    <tr>\n",
       "      <th>2</th>\n",
       "      <td>Additive Manufacturing Products</td>\n",
       "      <td>94100</td>\n",
       "    </tr>\n",
       "    <tr>\n",
       "      <th>3</th>\n",
       "      <td>Arts &amp; Crafts Supplies</td>\n",
       "      <td>1346550</td>\n",
       "    </tr>\n",
       "    <tr>\n",
       "      <th>4</th>\n",
       "      <td>Arts, Crafts &amp; Sewing Storage</td>\n",
       "      <td>197550</td>\n",
       "    </tr>\n",
       "    <tr>\n",
       "      <th>...</th>\n",
       "      <td>...</td>\n",
       "      <td>...</td>\n",
       "    </tr>\n",
       "    <tr>\n",
       "      <th>243</th>\n",
       "      <td>Women's Watches</td>\n",
       "      <td>68700</td>\n",
       "    </tr>\n",
       "    <tr>\n",
       "      <th>244</th>\n",
       "      <td>Xbox 360 Games, Consoles &amp; Accessories</td>\n",
       "      <td>15400</td>\n",
       "    </tr>\n",
       "    <tr>\n",
       "      <th>245</th>\n",
       "      <td>Xbox One Games, Consoles &amp; Accessories</td>\n",
       "      <td>35900</td>\n",
       "    </tr>\n",
       "    <tr>\n",
       "      <th>246</th>\n",
       "      <td>Xbox Series X &amp; S Consoles, Games &amp; Accessories</td>\n",
       "      <td>42300</td>\n",
       "    </tr>\n",
       "    <tr>\n",
       "      <th>247</th>\n",
       "      <td>eBook Readers &amp; Accessories</td>\n",
       "      <td>200</td>\n",
       "    </tr>\n",
       "  </tbody>\n",
       "</table>\n",
       "<p>248 rows × 2 columns</p>\n",
       "</div>"
      ],
      "text/plain": [
       "                                       category_name  boughtInLastMonth\n",
       "0                      Abrasive & Finishing Products             160300\n",
       "1                             Accessories & Supplies             832100\n",
       "2                    Additive Manufacturing Products              94100\n",
       "3                             Arts & Crafts Supplies            1346550\n",
       "4                      Arts, Crafts & Sewing Storage             197550\n",
       "..                                               ...                ...\n",
       "243                                  Women's Watches              68700\n",
       "244           Xbox 360 Games, Consoles & Accessories              15400\n",
       "245           Xbox One Games, Consoles & Accessories              35900\n",
       "246  Xbox Series X & S Consoles, Games & Accessories              42300\n",
       "247                      eBook Readers & Accessories                200\n",
       "\n",
       "[248 rows x 2 columns]"
      ]
     },
     "execution_count": 28,
     "metadata": {},
     "output_type": "execute_result"
    }
   ],
   "source": [
    "# Group category_name and BoughtInLastMonth and sum total sales\n",
    "total_cat_sales = merged_df.groupby(['category_name'])['boughtInLastMonth'].sum().reset_index()\n",
    "total_cat_sales"
   ]
  },
  {
   "cell_type": "markdown",
   "metadata": {},
   "source": [
    "- I have grouped the data by product cateogry name and summed the total sales from last month."
   ]
  },
  {
   "cell_type": "code",
   "execution_count": 29,
   "metadata": {},
   "outputs": [
    {
     "data": {
      "text/html": [
       "<div>\n",
       "<style scoped>\n",
       "    .dataframe tbody tr th:only-of-type {\n",
       "        vertical-align: middle;\n",
       "    }\n",
       "\n",
       "    .dataframe tbody tr th {\n",
       "        vertical-align: top;\n",
       "    }\n",
       "\n",
       "    .dataframe thead th {\n",
       "        text-align: right;\n",
       "    }\n",
       "</style>\n",
       "<table border=\"1\" class=\"dataframe\">\n",
       "  <thead>\n",
       "    <tr style=\"text-align: right;\">\n",
       "      <th></th>\n",
       "      <th>category_name</th>\n",
       "      <th>boughtInLastMonth</th>\n",
       "    </tr>\n",
       "  </thead>\n",
       "  <tbody>\n",
       "    <tr>\n",
       "      <th>119</th>\n",
       "      <td>Kitchen &amp; Dining</td>\n",
       "      <td>10432300</td>\n",
       "    </tr>\n",
       "    <tr>\n",
       "      <th>83</th>\n",
       "      <td>Hair Care Products</td>\n",
       "      <td>8012850</td>\n",
       "    </tr>\n",
       "    <tr>\n",
       "      <th>100</th>\n",
       "      <td>Industrial &amp; Scientific</td>\n",
       "      <td>7093350</td>\n",
       "    </tr>\n",
       "    <tr>\n",
       "      <th>97</th>\n",
       "      <td>Household Cleaning Supplies</td>\n",
       "      <td>6875700</td>\n",
       "    </tr>\n",
       "    <tr>\n",
       "      <th>188</th>\n",
       "      <td>Skin Care Products</td>\n",
       "      <td>6612150</td>\n",
       "    </tr>\n",
       "    <tr>\n",
       "      <th>...</th>\n",
       "      <td>...</td>\n",
       "      <td>...</td>\n",
       "    </tr>\n",
       "    <tr>\n",
       "      <th>52</th>\n",
       "      <td>Computer Servers</td>\n",
       "      <td>0</td>\n",
       "    </tr>\n",
       "    <tr>\n",
       "      <th>213</th>\n",
       "      <td>Tablet Replacement Parts</td>\n",
       "      <td>0</td>\n",
       "    </tr>\n",
       "    <tr>\n",
       "      <th>200</th>\n",
       "      <td>Smart Home: Smart Locks and Entry</td>\n",
       "      <td>0</td>\n",
       "    </tr>\n",
       "    <tr>\n",
       "      <th>203</th>\n",
       "      <td>Smart Home: WiFi and Networking</td>\n",
       "      <td>0</td>\n",
       "    </tr>\n",
       "    <tr>\n",
       "      <th>192</th>\n",
       "      <td>Smart Home Thermostats - Compatibility Checker</td>\n",
       "      <td>0</td>\n",
       "    </tr>\n",
       "  </tbody>\n",
       "</table>\n",
       "<p>248 rows × 2 columns</p>\n",
       "</div>"
      ],
      "text/plain": [
       "                                      category_name  boughtInLastMonth\n",
       "119                                Kitchen & Dining           10432300\n",
       "83                               Hair Care Products            8012850\n",
       "100                         Industrial & Scientific            7093350\n",
       "97                      Household Cleaning Supplies            6875700\n",
       "188                              Skin Care Products            6612150\n",
       "..                                              ...                ...\n",
       "52                                 Computer Servers                  0\n",
       "213                        Tablet Replacement Parts                  0\n",
       "200               Smart Home: Smart Locks and Entry                  0\n",
       "203                 Smart Home: WiFi and Networking                  0\n",
       "192  Smart Home Thermostats - Compatibility Checker                  0\n",
       "\n",
       "[248 rows x 2 columns]"
      ]
     },
     "execution_count": 29,
     "metadata": {},
     "output_type": "execute_result"
    }
   ],
   "source": [
    "# Lets order the above to show the max sales.\n",
    "total_cat_sales = total_cat_sales.sort_values(['boughtInLastMonth'], ascending=[False])\n",
    "total_cat_sales"
   ]
  },
  {
   "cell_type": "code",
   "execution_count": 30,
   "metadata": {},
   "outputs": [
    {
     "data": {
      "text/html": [
       "<div>\n",
       "<style scoped>\n",
       "    .dataframe tbody tr th:only-of-type {\n",
       "        vertical-align: middle;\n",
       "    }\n",
       "\n",
       "    .dataframe tbody tr th {\n",
       "        vertical-align: top;\n",
       "    }\n",
       "\n",
       "    .dataframe thead th {\n",
       "        text-align: right;\n",
       "    }\n",
       "</style>\n",
       "<table border=\"1\" class=\"dataframe\">\n",
       "  <thead>\n",
       "    <tr style=\"text-align: right;\">\n",
       "      <th></th>\n",
       "      <th>category_name</th>\n",
       "      <th>boughtInLastMonth</th>\n",
       "    </tr>\n",
       "  </thead>\n",
       "  <tbody>\n",
       "    <tr>\n",
       "      <th>119</th>\n",
       "      <td>Kitchen &amp; Dining</td>\n",
       "      <td>10432300</td>\n",
       "    </tr>\n",
       "    <tr>\n",
       "      <th>83</th>\n",
       "      <td>Hair Care Products</td>\n",
       "      <td>8012850</td>\n",
       "    </tr>\n",
       "    <tr>\n",
       "      <th>100</th>\n",
       "      <td>Industrial &amp; Scientific</td>\n",
       "      <td>7093350</td>\n",
       "    </tr>\n",
       "    <tr>\n",
       "      <th>97</th>\n",
       "      <td>Household Cleaning Supplies</td>\n",
       "      <td>6875700</td>\n",
       "    </tr>\n",
       "    <tr>\n",
       "      <th>188</th>\n",
       "      <td>Skin Care Products</td>\n",
       "      <td>6612150</td>\n",
       "    </tr>\n",
       "    <tr>\n",
       "      <th>86</th>\n",
       "      <td>Health &amp; Household</td>\n",
       "      <td>6138000</td>\n",
       "    </tr>\n",
       "    <tr>\n",
       "      <th>220</th>\n",
       "      <td>Toys &amp; Games</td>\n",
       "      <td>5858000</td>\n",
       "    </tr>\n",
       "    <tr>\n",
       "      <th>94</th>\n",
       "      <td>Home Storage &amp; Organization</td>\n",
       "      <td>5356200</td>\n",
       "    </tr>\n",
       "    <tr>\n",
       "      <th>60</th>\n",
       "      <td>Dog Supplies</td>\n",
       "      <td>4576650</td>\n",
       "    </tr>\n",
       "    <tr>\n",
       "      <th>98</th>\n",
       "      <td>Household Supplies</td>\n",
       "      <td>4289000</td>\n",
       "    </tr>\n",
       "    <tr>\n",
       "      <th>132</th>\n",
       "      <td>Makeup</td>\n",
       "      <td>4158450</td>\n",
       "    </tr>\n",
       "    <tr>\n",
       "      <th>92</th>\n",
       "      <td>Home Décor Products</td>\n",
       "      <td>4073350</td>\n",
       "    </tr>\n",
       "    <tr>\n",
       "      <th>205</th>\n",
       "      <td>Sports &amp; Fitness</td>\n",
       "      <td>4037850</td>\n",
       "    </tr>\n",
       "    <tr>\n",
       "      <th>160</th>\n",
       "      <td>Personal Care Products</td>\n",
       "      <td>4003700</td>\n",
       "    </tr>\n",
       "    <tr>\n",
       "      <th>87</th>\n",
       "      <td>Health Care Products</td>\n",
       "      <td>3717050</td>\n",
       "    </tr>\n",
       "    <tr>\n",
       "      <th>151</th>\n",
       "      <td>Oral Care Products</td>\n",
       "      <td>3578600</td>\n",
       "    </tr>\n",
       "    <tr>\n",
       "      <th>70</th>\n",
       "      <td>Foot, Hand &amp; Nail Care Products</td>\n",
       "      <td>3379300</td>\n",
       "    </tr>\n",
       "    <tr>\n",
       "      <th>208</th>\n",
       "      <td>Sports Nutrition Products</td>\n",
       "      <td>3075000</td>\n",
       "    </tr>\n",
       "    <tr>\n",
       "      <th>31</th>\n",
       "      <td>Beauty Tools &amp; Accessories</td>\n",
       "      <td>3070700</td>\n",
       "    </tr>\n",
       "    <tr>\n",
       "      <th>207</th>\n",
       "      <td>Sports &amp; Outdoors</td>\n",
       "      <td>2969650</td>\n",
       "    </tr>\n",
       "  </tbody>\n",
       "</table>\n",
       "</div>"
      ],
      "text/plain": [
       "                       category_name  boughtInLastMonth\n",
       "119                 Kitchen & Dining           10432300\n",
       "83                Hair Care Products            8012850\n",
       "100          Industrial & Scientific            7093350\n",
       "97       Household Cleaning Supplies            6875700\n",
       "188               Skin Care Products            6612150\n",
       "86                Health & Household            6138000\n",
       "220                     Toys & Games            5858000\n",
       "94       Home Storage & Organization            5356200\n",
       "60                      Dog Supplies            4576650\n",
       "98                Household Supplies            4289000\n",
       "132                           Makeup            4158450\n",
       "92               Home Décor Products            4073350\n",
       "205                 Sports & Fitness            4037850\n",
       "160           Personal Care Products            4003700\n",
       "87              Health Care Products            3717050\n",
       "151               Oral Care Products            3578600\n",
       "70   Foot, Hand & Nail Care Products            3379300\n",
       "208        Sports Nutrition Products            3075000\n",
       "31        Beauty Tools & Accessories            3070700\n",
       "207                Sports & Outdoors            2969650"
      ]
     },
     "execution_count": 30,
     "metadata": {},
     "output_type": "execute_result"
    }
   ],
   "source": [
    "# Display the top 20 largest category sales last month\n",
    "top_20_cat_sales = total_cat_sales.nlargest(20, 'boughtInLastMonth')\n",
    "top_20_cat_sales\n",
    "\n"
   ]
  },
  {
   "cell_type": "markdown",
   "metadata": {},
   "source": [
    "- The above shows the top 20 Product Cateogies which sold the highest in boughtInLastMonth."
   ]
  },
  {
   "cell_type": "code",
   "execution_count": 31,
   "metadata": {},
   "outputs": [
    {
     "data": {
      "text/plain": [
       "<function matplotlib.pyplot.show(close=None, block=None)>"
      ]
     },
     "execution_count": 31,
     "metadata": {},
     "output_type": "execute_result"
    },
    {
     "data": {
      "image/png": "[encoded data removed]",
      "text/plain": [
       "<Figure size 1800x1000 with 1 Axes>"
      ]
     },
     "metadata": {},
     "output_type": "display_data"
    }
   ],
   "source": [
    "import matplotlib.ticker as mtick\n",
    "# Display our findings in a Bar Chart\n",
    "# Data to use in graph\n",
    "# Group category_name and BoughtInLastMonth and sum total sales\n",
    "total_cat_sales = merged_df.groupby(['category_name'])['boughtInLastMonth'].sum().reset_index()\n",
    "# Lets order the above to show the max sales.\n",
    "total_cat_sales = total_cat_sales.sort_values(['boughtInLastMonth'], ascending=[False])\n",
    "# Display the top 20 largest sales last month\n",
    "top_20_cat_sales = total_cat_sales.nlargest(20, 'boughtInLastMonth')\n",
    "\n",
    "\n",
    "# Create bar chart\n",
    "plt.figure(figsize=(18,10)) # makes the chart wider for readability\n",
    "\n",
    "\n",
    "\n",
    "# Custom colors — 20 different colors\n",
    "colors = plt.cm.tab20.colors  # You can also try plt.cm.Set3, plt.cm.Pastel1, etc.\n",
    "# Plot bars and keep a handle to add legend\n",
    "bars = plt.bar(top_20_cat_sales['category_name'], top_20_cat_sales['boughtInLastMonth'], color=colors)\n",
    "# Legend with category names\n",
    "plt.legend(bars, top_20_cat_sales['category_name'], title=\"Categories\", bbox_to_anchor=(1.05, 1), loc='upper left')\n",
    "\n",
    "\n",
    "\n",
    "# formatting\n",
    "plt.title('Top 20 Product Categories by Sales')\n",
    "plt.xlabel('Category Name')\n",
    "plt.ylabel('Sales')\n",
    "# Format y-axis to show full numbers with commas\n",
    "plt.gca().yaxis.set_major_formatter(mtick.FuncFormatter(lambda x, _: f'{int(x):,}'))\n",
    "plt.xticks(rotation=80)  # Rotates category names to prevent overlap\n",
    "plt.tight_layout()  # Adjust layout to fit x-labels\n",
    "plt.show"
   ]
  },
  {
   "cell_type": "markdown",
   "metadata": {},
   "source": [
    "- The above graph shows the top selling product category name sold in the last month.\n",
    "- We can see that Kitchen and & Dining dominates with over 10 Million units sold, followed by Hair Care Products and Industrial & Scientific.\n",
    "    - These top 3 categories alone represent a significant portion of overall sales, indicating strong consumer demand or effective marketing in these areas.\n",
    "- There is a cateogry overlap in Personal & Health care:\n",
    "    - Several mid-to-low-ranking categories such as Skin Care Products, Health & Household, Personal Care Products, and Health Care Products point to a saturated but consistently performing market in the personal and health care space, warranting further segmentation analysis."
   ]
  },
  {
   "cell_type": "markdown",
   "metadata": {},
   "source": [
    "### 4.4. Calculate Revenue per product"
   ]
  },
  {
   "cell_type": "markdown",
   "metadata": {},
   "source": [
    "- We are going to calculate total revenue generated for each product purchased on Amazon US.\n",
    "- To determine this, we will use the following formula:\n",
    "    - Revenue = Price x Quantity Sold (boughtInLastMonth)\n",
    "- This calculation will give us the total sales volume for each product, representing the total amount spent by customers during the last month."
   ]
  },
  {
   "cell_type": "code",
   "execution_count": 32,
   "metadata": {},
   "outputs": [
    {
     "data": {
      "text/html": [
       "<div>\n",
       "<style scoped>\n",
       "    .dataframe tbody tr th:only-of-type {\n",
       "        vertical-align: middle;\n",
       "    }\n",
       "\n",
       "    .dataframe tbody tr th {\n",
       "        vertical-align: top;\n",
       "    }\n",
       "\n",
       "    .dataframe thead th {\n",
       "        text-align: right;\n",
       "    }\n",
       "</style>\n",
       "<table border=\"1\" class=\"dataframe\">\n",
       "  <thead>\n",
       "    <tr style=\"text-align: right;\">\n",
       "      <th></th>\n",
       "      <th>asin</th>\n",
       "      <th>title</th>\n",
       "      <th>stars</th>\n",
       "      <th>reviews</th>\n",
       "      <th>price</th>\n",
       "      <th>listPrice</th>\n",
       "      <th>category_id</th>\n",
       "      <th>isBestSeller</th>\n",
       "      <th>boughtInLastMonth</th>\n",
       "      <th>category_name</th>\n",
       "      <th>revenue</th>\n",
       "    </tr>\n",
       "  </thead>\n",
       "  <tbody>\n",
       "    <tr>\n",
       "      <th>0</th>\n",
       "      <td>B014TMV5YE</td>\n",
       "      <td>Sion Softside Expandable Roller Luggage, Black, Checked-Large 29-Inch</td>\n",
       "      <td>4.5</td>\n",
       "      <td>0</td>\n",
       "      <td>139.99</td>\n",
       "      <td>0.00</td>\n",
       "      <td>104</td>\n",
       "      <td>0</td>\n",
       "      <td>2000</td>\n",
       "      <td>Suitcases</td>\n",
       "      <td>279980.0</td>\n",
       "    </tr>\n",
       "    <tr>\n",
       "      <th>1</th>\n",
       "      <td>B07GDLCQXV</td>\n",
       "      <td>Luggage Sets Expandable PC+ABS Durable Suitcase Double Wheels TSA Lock Blue</td>\n",
       "      <td>4.5</td>\n",
       "      <td>0</td>\n",
       "      <td>169.99</td>\n",
       "      <td>209.99</td>\n",
       "      <td>104</td>\n",
       "      <td>0</td>\n",
       "      <td>1000</td>\n",
       "      <td>Suitcases</td>\n",
       "      <td>169990.0</td>\n",
       "    </tr>\n",
       "    <tr>\n",
       "      <th>2</th>\n",
       "      <td>B07XSCCZYG</td>\n",
       "      <td>Platinum Elite Softside Expandable Checked Luggage, 8 Wheel Spinner Suitcase, TSA Lock, Men and Women, True Navy Blue, Checked Medium 25-Inch</td>\n",
       "      <td>4.6</td>\n",
       "      <td>0</td>\n",
       "      <td>365.49</td>\n",
       "      <td>429.99</td>\n",
       "      <td>104</td>\n",
       "      <td>0</td>\n",
       "      <td>300</td>\n",
       "      <td>Suitcases</td>\n",
       "      <td>109647.0</td>\n",
       "    </tr>\n",
       "    <tr>\n",
       "      <th>3</th>\n",
       "      <td>B08MVFKGJM</td>\n",
       "      <td>Freeform Hardside Expandable with Double Spinner Wheels, Navy, 2-Piece Set (21/28)</td>\n",
       "      <td>4.6</td>\n",
       "      <td>0</td>\n",
       "      <td>291.59</td>\n",
       "      <td>354.37</td>\n",
       "      <td>104</td>\n",
       "      <td>0</td>\n",
       "      <td>400</td>\n",
       "      <td>Suitcases</td>\n",
       "      <td>116636.0</td>\n",
       "    </tr>\n",
       "    <tr>\n",
       "      <th>4</th>\n",
       "      <td>B01DJLKZBA</td>\n",
       "      <td>Winfield 2 Hardside Expandable Luggage with Spinner Wheels, Checked-Large 28-Inch, Deep Blue</td>\n",
       "      <td>4.5</td>\n",
       "      <td>0</td>\n",
       "      <td>174.99</td>\n",
       "      <td>309.99</td>\n",
       "      <td>104</td>\n",
       "      <td>0</td>\n",
       "      <td>400</td>\n",
       "      <td>Suitcases</td>\n",
       "      <td>69996.0</td>\n",
       "    </tr>\n",
       "  </tbody>\n",
       "</table>\n",
       "</div>"
      ],
      "text/plain": [
       "         asin  \\\n",
       "0  B014TMV5YE   \n",
       "1  B07GDLCQXV   \n",
       "2  B07XSCCZYG   \n",
       "3  B08MVFKGJM   \n",
       "4  B01DJLKZBA   \n",
       "\n",
       "                                                                                                                                           title  \\\n",
       "0                                                                          Sion Softside Expandable Roller Luggage, Black, Checked-Large 29-Inch   \n",
       "1                                                                    Luggage Sets Expandable PC+ABS Durable Suitcase Double Wheels TSA Lock Blue   \n",
       "2  Platinum Elite Softside Expandable Checked Luggage, 8 Wheel Spinner Suitcase, TSA Lock, Men and Women, True Navy Blue, Checked Medium 25-Inch   \n",
       "3                                                             Freeform Hardside Expandable with Double Spinner Wheels, Navy, 2-Piece Set (21/28)   \n",
       "4                                                   Winfield 2 Hardside Expandable Luggage with Spinner Wheels, Checked-Large 28-Inch, Deep Blue   \n",
       "\n",
       "   stars  reviews   price  listPrice  category_id  isBestSeller  \\\n",
       "0    4.5        0  139.99       0.00          104             0   \n",
       "1    4.5        0  169.99     209.99          104             0   \n",
       "2    4.6        0  365.49     429.99          104             0   \n",
       "3    4.6        0  291.59     354.37          104             0   \n",
       "4    4.5        0  174.99     309.99          104             0   \n",
       "\n",
       "   boughtInLastMonth category_name   revenue  \n",
       "0               2000     Suitcases  279980.0  \n",
       "1               1000     Suitcases  169990.0  \n",
       "2                300     Suitcases  109647.0  \n",
       "3                400     Suitcases  116636.0  \n",
       "4                400     Suitcases   69996.0  "
      ]
     },
     "execution_count": 32,
     "metadata": {},
     "output_type": "execute_result"
    }
   ],
   "source": [
    "# Calculate Total Revenue for per product\n",
    "# price * boughtInLastMonth\n",
    "merged_df['revenue'] = merged_df['price'] * merged_df['boughtInLastMonth']\n",
    "merged_df.head()"
   ]
  },
  {
   "cell_type": "code",
   "execution_count": 33,
   "metadata": {},
   "outputs": [
    {
     "data": {
      "text/html": [
       "<div>\n",
       "<style scoped>\n",
       "    .dataframe tbody tr th:only-of-type {\n",
       "        vertical-align: middle;\n",
       "    }\n",
       "\n",
       "    .dataframe tbody tr th {\n",
       "        vertical-align: top;\n",
       "    }\n",
       "\n",
       "    .dataframe thead th {\n",
       "        text-align: right;\n",
       "    }\n",
       "</style>\n",
       "<table border=\"1\" class=\"dataframe\">\n",
       "  <thead>\n",
       "    <tr style=\"text-align: right;\">\n",
       "      <th></th>\n",
       "      <th>category_name</th>\n",
       "      <th>revenue</th>\n",
       "    </tr>\n",
       "  </thead>\n",
       "  <tbody>\n",
       "    <tr>\n",
       "      <th>0</th>\n",
       "      <td>Abrasive &amp; Finishing Products</td>\n",
       "      <td>2473551.5</td>\n",
       "    </tr>\n",
       "    <tr>\n",
       "      <th>1</th>\n",
       "      <td>Accessories &amp; Supplies</td>\n",
       "      <td>28835010.0</td>\n",
       "    </tr>\n",
       "    <tr>\n",
       "      <th>2</th>\n",
       "      <td>Additive Manufacturing Products</td>\n",
       "      <td>4006343.5</td>\n",
       "    </tr>\n",
       "    <tr>\n",
       "      <th>3</th>\n",
       "      <td>Arts &amp; Crafts Supplies</td>\n",
       "      <td>17620588.5</td>\n",
       "    </tr>\n",
       "    <tr>\n",
       "      <th>4</th>\n",
       "      <td>Arts, Crafts &amp; Sewing Storage</td>\n",
       "      <td>3305590.5</td>\n",
       "    </tr>\n",
       "    <tr>\n",
       "      <th>...</th>\n",
       "      <td>...</td>\n",
       "      <td>...</td>\n",
       "    </tr>\n",
       "    <tr>\n",
       "      <th>243</th>\n",
       "      <td>Women's Watches</td>\n",
       "      <td>2323568.0</td>\n",
       "    </tr>\n",
       "    <tr>\n",
       "      <th>244</th>\n",
       "      <td>Xbox 360 Games, Consoles &amp; Accessories</td>\n",
       "      <td>538222.0</td>\n",
       "    </tr>\n",
       "    <tr>\n",
       "      <th>245</th>\n",
       "      <td>Xbox One Games, Consoles &amp; Accessories</td>\n",
       "      <td>2068048.5</td>\n",
       "    </tr>\n",
       "    <tr>\n",
       "      <th>246</th>\n",
       "      <td>Xbox Series X &amp; S Consoles, Games &amp; Accessories</td>\n",
       "      <td>2486545.0</td>\n",
       "    </tr>\n",
       "    <tr>\n",
       "      <th>247</th>\n",
       "      <td>eBook Readers &amp; Accessories</td>\n",
       "      <td>4735.0</td>\n",
       "    </tr>\n",
       "  </tbody>\n",
       "</table>\n",
       "<p>248 rows × 2 columns</p>\n",
       "</div>"
      ],
      "text/plain": [
       "                                       category_name     revenue\n",
       "0                      Abrasive & Finishing Products   2473551.5\n",
       "1                             Accessories & Supplies  28835010.0\n",
       "2                    Additive Manufacturing Products   4006343.5\n",
       "3                             Arts & Crafts Supplies  17620588.5\n",
       "4                      Arts, Crafts & Sewing Storage   3305590.5\n",
       "..                                               ...         ...\n",
       "243                                  Women's Watches   2323568.0\n",
       "244           Xbox 360 Games, Consoles & Accessories    538222.0\n",
       "245           Xbox One Games, Consoles & Accessories   2068048.5\n",
       "246  Xbox Series X & S Consoles, Games & Accessories   2486545.0\n",
       "247                      eBook Readers & Accessories      4735.0\n",
       "\n",
       "[248 rows x 2 columns]"
      ]
     },
     "execution_count": 33,
     "metadata": {},
     "output_type": "execute_result"
    }
   ],
   "source": [
    "# Group the data by 'category_name' and calculate the total revenue for each category\n",
    "cat_revenue = merged_df.groupby(['category_name'])['revenue'].sum().reset_index()\n",
    "cat_revenue"
   ]
  },
  {
   "cell_type": "markdown",
   "metadata": {},
   "source": [
    "- The above shows category_name and how much revenue was generated for that product category\n",
    "- e.g Abrasive & Finishing Products we can see has a total revenue of $2473551.5\n"
   ]
  },
  {
   "cell_type": "code",
   "execution_count": 34,
   "metadata": {},
   "outputs": [
    {
     "data": {
      "text/html": [
       "<div>\n",
       "<style scoped>\n",
       "    .dataframe tbody tr th:only-of-type {\n",
       "        vertical-align: middle;\n",
       "    }\n",
       "\n",
       "    .dataframe tbody tr th {\n",
       "        vertical-align: top;\n",
       "    }\n",
       "\n",
       "    .dataframe thead th {\n",
       "        text-align: right;\n",
       "    }\n",
       "</style>\n",
       "<table border=\"1\" class=\"dataframe\">\n",
       "  <thead>\n",
       "    <tr style=\"text-align: right;\">\n",
       "      <th></th>\n",
       "      <th>category_name</th>\n",
       "      <th>revenue</th>\n",
       "    </tr>\n",
       "  </thead>\n",
       "  <tbody>\n",
       "    <tr>\n",
       "      <th>119</th>\n",
       "      <td>Kitchen &amp; Dining</td>\n",
       "      <td>267189588.0</td>\n",
       "    </tr>\n",
       "    <tr>\n",
       "      <th>83</th>\n",
       "      <td>Hair Care Products</td>\n",
       "      <td>152940697.5</td>\n",
       "    </tr>\n",
       "    <tr>\n",
       "      <th>94</th>\n",
       "      <td>Home Storage &amp; Organization</td>\n",
       "      <td>138604708.5</td>\n",
       "    </tr>\n",
       "    <tr>\n",
       "      <th>220</th>\n",
       "      <td>Toys &amp; Games</td>\n",
       "      <td>135394508.5</td>\n",
       "    </tr>\n",
       "    <tr>\n",
       "      <th>100</th>\n",
       "      <td>Industrial &amp; Scientific</td>\n",
       "      <td>130196201.5</td>\n",
       "    </tr>\n",
       "    <tr>\n",
       "      <th>97</th>\n",
       "      <td>Household Cleaning Supplies</td>\n",
       "      <td>120567961.5</td>\n",
       "    </tr>\n",
       "    <tr>\n",
       "      <th>188</th>\n",
       "      <td>Skin Care Products</td>\n",
       "      <td>119996888.5</td>\n",
       "    </tr>\n",
       "    <tr>\n",
       "      <th>60</th>\n",
       "      <td>Dog Supplies</td>\n",
       "      <td>102992041.0</td>\n",
       "    </tr>\n",
       "    <tr>\n",
       "      <th>148</th>\n",
       "      <td>Office Electronics</td>\n",
       "      <td>95038114.0</td>\n",
       "    </tr>\n",
       "    <tr>\n",
       "      <th>86</th>\n",
       "      <td>Health &amp; Household</td>\n",
       "      <td>93895499.0</td>\n",
       "    </tr>\n",
       "    <tr>\n",
       "      <th>205</th>\n",
       "      <td>Sports &amp; Fitness</td>\n",
       "      <td>92678625.0</td>\n",
       "    </tr>\n",
       "    <tr>\n",
       "      <th>208</th>\n",
       "      <td>Sports Nutrition Products</td>\n",
       "      <td>90938064.0</td>\n",
       "    </tr>\n",
       "    <tr>\n",
       "      <th>32</th>\n",
       "      <td>Bedding</td>\n",
       "      <td>86802691.0</td>\n",
       "    </tr>\n",
       "    <tr>\n",
       "      <th>225</th>\n",
       "      <td>Vacuum Cleaners &amp; Floor Care</td>\n",
       "      <td>82695750.0</td>\n",
       "    </tr>\n",
       "    <tr>\n",
       "      <th>207</th>\n",
       "      <td>Sports &amp; Outdoors</td>\n",
       "      <td>76251321.5</td>\n",
       "    </tr>\n",
       "    <tr>\n",
       "      <th>88</th>\n",
       "      <td>Heating, Cooling &amp; Air Quality</td>\n",
       "      <td>74840634.0</td>\n",
       "    </tr>\n",
       "    <tr>\n",
       "      <th>92</th>\n",
       "      <td>Home Décor Products</td>\n",
       "      <td>74805270.5</td>\n",
       "    </tr>\n",
       "    <tr>\n",
       "      <th>12</th>\n",
       "      <td>Automotive Tools &amp; Equipment</td>\n",
       "      <td>74697831.5</td>\n",
       "    </tr>\n",
       "    <tr>\n",
       "      <th>87</th>\n",
       "      <td>Health Care Products</td>\n",
       "      <td>68067197.5</td>\n",
       "    </tr>\n",
       "    <tr>\n",
       "      <th>239</th>\n",
       "      <td>Women's Clothing</td>\n",
       "      <td>67695103.0</td>\n",
       "    </tr>\n",
       "  </tbody>\n",
       "</table>\n",
       "</div>"
      ],
      "text/plain": [
       "                      category_name      revenue\n",
       "119                Kitchen & Dining  267189588.0\n",
       "83               Hair Care Products  152940697.5\n",
       "94      Home Storage & Organization  138604708.5\n",
       "220                    Toys & Games  135394508.5\n",
       "100         Industrial & Scientific  130196201.5\n",
       "97      Household Cleaning Supplies  120567961.5\n",
       "188              Skin Care Products  119996888.5\n",
       "60                     Dog Supplies  102992041.0\n",
       "148              Office Electronics   95038114.0\n",
       "86               Health & Household   93895499.0\n",
       "205                Sports & Fitness   92678625.0\n",
       "208       Sports Nutrition Products   90938064.0\n",
       "32                          Bedding   86802691.0\n",
       "225    Vacuum Cleaners & Floor Care   82695750.0\n",
       "207               Sports & Outdoors   76251321.5\n",
       "88   Heating, Cooling & Air Quality   74840634.0\n",
       "92              Home Décor Products   74805270.5\n",
       "12     Automotive Tools & Equipment   74697831.5\n",
       "87             Health Care Products   68067197.5\n",
       "239                Women's Clothing   67695103.0"
      ]
     },
     "execution_count": 34,
     "metadata": {},
     "output_type": "execute_result"
    }
   ],
   "source": [
    "# Sort the categories by money volume in descending order and select the top 20\n",
    "top_20_rev_cat = cat_revenue.nlargest(20, 'revenue')\n",
    "top_20_rev_cat"
   ]
  },
  {
   "cell_type": "markdown",
   "metadata": {},
   "source": [
    "- The top 20 Product Categories which generated the most revenue last month."
   ]
  },
  {
   "cell_type": "code",
   "execution_count": 35,
   "metadata": {},
   "outputs": [
    {
     "data": {
      "text/plain": [
       "<function matplotlib.pyplot.show(close=None, block=None)>"
      ]
     },
     "execution_count": 35,
     "metadata": {},
     "output_type": "execute_result"
    },
    {
     "data": {
      "image/png": "[encoded data removed]",
      "text/plain": [
       "<Figure size 1800x1000 with 1 Axes>"
      ]
     },
     "metadata": {},
     "output_type": "display_data"
    }
   ],
   "source": [
    "# graph the above in a bar chart\n",
    "# Data to use in graph\n",
    "cat_revenue = merged_df.groupby(['category_name'])['revenue'].sum().reset_index()\n",
    "top_20_rev_cat = cat_revenue.nlargest(20, 'revenue')\n",
    "\n",
    "# Create bar chart\n",
    "plt.figure(figsize=(18,10))\n",
    "\n",
    "# custom colors - 20 diff colours\n",
    "color = plt.cm.tab20.colors\n",
    "\n",
    "# plot bars and keep as a handle for the legend\n",
    "bars = plt.bar(\n",
    "    top_20_rev_cat['category_name'], \n",
    "    top_20_rev_cat['revenue'], \n",
    "    color=color\n",
    "    )\n",
    "plt.legend(bars, top_20_rev_cat['category_name'], title=\"Categories\", bbox_to_anchor=(1.05, 1), loc='upper left')\n",
    "\n",
    "# formatting\n",
    "plt.title('Top 20 Products Categories by Total Revenue')\n",
    "plt.xlabel('Category Name')\n",
    "plt.ylabel('Total Revenue')\n",
    "# format y-axis to show full numbers with commas\n",
    "plt.gca().yaxis.set_major_formatter(mtick.FuncFormatter(lambda x, _: f'{int(x):,}'))\n",
    "plt.xticks(rotation=80) # rotate category names\n",
    "plt.tight_layout\n",
    "plt.show"
   ]
  },
  {
   "cell_type": "markdown",
   "metadata": {},
   "source": [
    "- The above graph shows the categories which generated the most revenue in the last month.\n",
    "- Kitchen & Dining dominates revenue, generating significantly more than any other category — over ~$260 million, far ahead of the second-highest category.\n",
    "- Top 5 categories (Kitchen & Dining to Industrial & Scientific) account for a substantial portion of total revenue, indicating a strong consumer preference for practical, everyday use items."
   ]
  },
  {
   "cell_type": "markdown",
   "metadata": {},
   "source": [
    "### 4.5.Calculate the total money volume for the whole dataset."
   ]
  },
  {
   "cell_type": "code",
   "execution_count": 36,
   "metadata": {},
   "outputs": [
    {
     "name": "stdout",
     "output_type": "stream",
     "text": [
      "4650777510.5\n"
     ]
    }
   ],
   "source": [
    "total_money_volume = (merged_df['price'] * merged_df['boughtInLastMonth']).sum()\n",
    "print(total_money_volume)"
   ]
  },
  {
   "cell_type": "code",
   "execution_count": 37,
   "metadata": {},
   "outputs": [
    {
     "name": "stdout",
     "output_type": "stream",
     "text": [
      "Total Money volume for the Entire Dataset: $4,650,777,510.50\n"
     ]
    }
   ],
   "source": [
    "# format the total money volume with separator and curreny symbol\n",
    "formatted_total_money_volume = f\"${total_money_volume:,.2f}\"\n",
    "print(f\"Total Money volume for the Entire Dataset: {formatted_total_money_volume}\")"
   ]
  },
  {
   "cell_type": "markdown",
   "metadata": {},
   "source": [
    "### 4.6 Identify Top Rated Products by Top 20 Categories"
   ]
  },
  {
   "cell_type": "code",
   "execution_count": 38,
   "metadata": {},
   "outputs": [
    {
     "name": "stdout",
     "output_type": "stream",
     "text": [
      "Average number of reviews: 180.75\n"
     ]
    }
   ],
   "source": [
    "# Average reviews of the products\n",
    "average_reviews = merged_df['reviews'].mean()\n",
    "print(f'Average number of reviews: {average_reviews:.2f}')"
   ]
  },
  {
   "cell_type": "code",
   "execution_count": 39,
   "metadata": {},
   "outputs": [
    {
     "data": {
      "text/html": [
       "<div>\n",
       "<style scoped>\n",
       "    .dataframe tbody tr th:only-of-type {\n",
       "        vertical-align: middle;\n",
       "    }\n",
       "\n",
       "    .dataframe tbody tr th {\n",
       "        vertical-align: top;\n",
       "    }\n",
       "\n",
       "    .dataframe thead th {\n",
       "        text-align: right;\n",
       "    }\n",
       "</style>\n",
       "<table border=\"1\" class=\"dataframe\">\n",
       "  <thead>\n",
       "    <tr style=\"text-align: right;\">\n",
       "      <th></th>\n",
       "      <th>asin</th>\n",
       "      <th>title</th>\n",
       "      <th>stars</th>\n",
       "      <th>reviews</th>\n",
       "      <th>price</th>\n",
       "      <th>listPrice</th>\n",
       "      <th>category_id</th>\n",
       "      <th>isBestSeller</th>\n",
       "      <th>boughtInLastMonth</th>\n",
       "      <th>category_name</th>\n",
       "      <th>revenue</th>\n",
       "    </tr>\n",
       "  </thead>\n",
       "  <tbody>\n",
       "    <tr>\n",
       "      <th>1070592</th>\n",
       "      <td>B00T0C9XRK</td>\n",
       "      <td>essence | Lash Princess False Lash Effect Mascara | Gluten &amp; Cruelty Free</td>\n",
       "      <td>4.3</td>\n",
       "      <td>346563</td>\n",
       "      <td>4.99</td>\n",
       "      <td>0.00</td>\n",
       "      <td>48</td>\n",
       "      <td>1</td>\n",
       "      <td>100000</td>\n",
       "      <td>Makeup</td>\n",
       "      <td>499000.0</td>\n",
       "    </tr>\n",
       "    <tr>\n",
       "      <th>47104</th>\n",
       "      <td>B09MV3KMPT</td>\n",
       "      <td>ThisWorx Cordless Car Vacuum - Portable, Mini Handheld Vacuum w/Rechargeable Battery and 3 Attachments - High-Powered Vacuum Cleaner w/ 60w Motor</td>\n",
       "      <td>4.0</td>\n",
       "      <td>292474</td>\n",
       "      <td>49.99</td>\n",
       "      <td>0.00</td>\n",
       "      <td>175</td>\n",
       "      <td>1</td>\n",
       "      <td>2000</td>\n",
       "      <td>Vacuum Cleaners &amp; Floor Care</td>\n",
       "      <td>99980.0</td>\n",
       "    </tr>\n",
       "    <tr>\n",
       "      <th>1075493</th>\n",
       "      <td>B07VMNJHBK</td>\n",
       "      <td>Full Size Sheet Set - Breathable &amp; Cooling Sheets - Hotel Luxury Bed Sheets - Extra Soft Sheets for Kids, Teens, Women &amp; Men - Deep Pockets - 4 Piece Set - Comfy - Wrinkle Free - Light Grey Bed Sheets</td>\n",
       "      <td>4.5</td>\n",
       "      <td>281661</td>\n",
       "      <td>28.99</td>\n",
       "      <td>38.99</td>\n",
       "      <td>172</td>\n",
       "      <td>1</td>\n",
       "      <td>2000</td>\n",
       "      <td>Kids' Home Store</td>\n",
       "      <td>57980.0</td>\n",
       "    </tr>\n",
       "    <tr>\n",
       "      <th>1075468</th>\n",
       "      <td>B09JVTQKDN</td>\n",
       "      <td>Queen Size Sheet Set - Breathable &amp; Cooling Sheets - Hotel Luxury Bed Sheets for Women, Men Kids &amp; Teens - Deep Pockets - 4 Piece Set - Soft &amp; Wrinkle Free - Off White Bed Sheets - Comfy Queen Sheets</td>\n",
       "      <td>4.5</td>\n",
       "      <td>281661</td>\n",
       "      <td>32.99</td>\n",
       "      <td>39.99</td>\n",
       "      <td>172</td>\n",
       "      <td>1</td>\n",
       "      <td>2000</td>\n",
       "      <td>Kids' Home Store</td>\n",
       "      <td>65980.0</td>\n",
       "    </tr>\n",
       "    <tr>\n",
       "      <th>1075466</th>\n",
       "      <td>B07PH22TG9</td>\n",
       "      <td>Queen Size Sheet Set - Breathable &amp; Cooling Sheets - Hotel Luxury Bed Sheets for Women, Men Kids &amp; Teens - Deep Pockets - 4 Piece Set - Soft &amp; Wrinkle Free - Spa Blue Bed Sheets - Queen Sheets - 4PC</td>\n",
       "      <td>4.5</td>\n",
       "      <td>281661</td>\n",
       "      <td>32.99</td>\n",
       "      <td>39.99</td>\n",
       "      <td>172</td>\n",
       "      <td>1</td>\n",
       "      <td>1000</td>\n",
       "      <td>Kids' Home Store</td>\n",
       "      <td>32990.0</td>\n",
       "    </tr>\n",
       "    <tr>\n",
       "      <th>...</th>\n",
       "      <td>...</td>\n",
       "      <td>...</td>\n",
       "      <td>...</td>\n",
       "      <td>...</td>\n",
       "      <td>...</td>\n",
       "      <td>...</td>\n",
       "      <td>...</td>\n",
       "      <td>...</td>\n",
       "      <td>...</td>\n",
       "      <td>...</td>\n",
       "      <td>...</td>\n",
       "    </tr>\n",
       "    <tr>\n",
       "      <th>12</th>\n",
       "      <td>B07QXD3J9G</td>\n",
       "      <td>Crew Versapack Softside Expandable 8 Spinner Wheel Luggage, USB Port, Men and Women, Jet Black, Carry on 20-Inch</td>\n",
       "      <td>4.5</td>\n",
       "      <td>0</td>\n",
       "      <td>323.99</td>\n",
       "      <td>0.00</td>\n",
       "      <td>104</td>\n",
       "      <td>0</td>\n",
       "      <td>100</td>\n",
       "      <td>Suitcases</td>\n",
       "      <td>32399.0</td>\n",
       "    </tr>\n",
       "    <tr>\n",
       "      <th>13</th>\n",
       "      <td>B081JDHNX1</td>\n",
       "      <td>Centric 2 Hardside Expandable Luggage with Spinners, True Navy, 3-Piece Set (20/24/28)</td>\n",
       "      <td>4.5</td>\n",
       "      <td>0</td>\n",
       "      <td>399.92</td>\n",
       "      <td>699.97</td>\n",
       "      <td>104</td>\n",
       "      <td>0</td>\n",
       "      <td>100</td>\n",
       "      <td>Suitcases</td>\n",
       "      <td>39992.0</td>\n",
       "    </tr>\n",
       "    <tr>\n",
       "      <th>14</th>\n",
       "      <td>B07DMBG7CX</td>\n",
       "      <td>Xpedition 30 Inch Multi-Pocket Upright Rolling Duffel Bag</td>\n",
       "      <td>4.3</td>\n",
       "      <td>0</td>\n",
       "      <td>42.00</td>\n",
       "      <td>0.00</td>\n",
       "      <td>104</td>\n",
       "      <td>0</td>\n",
       "      <td>300</td>\n",
       "      <td>Suitcases</td>\n",
       "      <td>12600.0</td>\n",
       "    </tr>\n",
       "    <tr>\n",
       "      <th>15</th>\n",
       "      <td>B0B2X1BDFH</td>\n",
       "      <td>Stratum 2.0 Expandable Hardside Luggage with Spinner Wheels, 28\" SPINNER, Slate Blue</td>\n",
       "      <td>4.5</td>\n",
       "      <td>0</td>\n",
       "      <td>89.95</td>\n",
       "      <td>139.99</td>\n",
       "      <td>104</td>\n",
       "      <td>0</td>\n",
       "      <td>300</td>\n",
       "      <td>Suitcases</td>\n",
       "      <td>26985.0</td>\n",
       "    </tr>\n",
       "    <tr>\n",
       "      <th>1426305</th>\n",
       "      <td>B08F55KHR7</td>\n",
       "      <td>Mesh Trucker Dad Hat 5 Panel Baseball Cap Quick Dry Short Brim Hat Breathable Running Sun Caps</td>\n",
       "      <td>3.9</td>\n",
       "      <td>0</td>\n",
       "      <td>15.99</td>\n",
       "      <td>0.00</td>\n",
       "      <td>112</td>\n",
       "      <td>0</td>\n",
       "      <td>0</td>\n",
       "      <td>Men's Accessories</td>\n",
       "      <td>0.0</td>\n",
       "    </tr>\n",
       "  </tbody>\n",
       "</table>\n",
       "<p>1426337 rows × 11 columns</p>\n",
       "</div>"
      ],
      "text/plain": [
       "               asin  \\\n",
       "1070592  B00T0C9XRK   \n",
       "47104    B09MV3KMPT   \n",
       "1075493  B07VMNJHBK   \n",
       "1075468  B09JVTQKDN   \n",
       "1075466  B07PH22TG9   \n",
       "...             ...   \n",
       "12       B07QXD3J9G   \n",
       "13       B081JDHNX1   \n",
       "14       B07DMBG7CX   \n",
       "15       B0B2X1BDFH   \n",
       "1426305  B08F55KHR7   \n",
       "\n",
       "                                                                                                                                                                                                            title  \\\n",
       "1070592                                                                                                                                 essence | Lash Princess False Lash Effect Mascara | Gluten & Cruelty Free   \n",
       "47104                                                           ThisWorx Cordless Car Vacuum - Portable, Mini Handheld Vacuum w/Rechargeable Battery and 3 Attachments - High-Powered Vacuum Cleaner w/ 60w Motor   \n",
       "1075493  Full Size Sheet Set - Breathable & Cooling Sheets - Hotel Luxury Bed Sheets - Extra Soft Sheets for Kids, Teens, Women & Men - Deep Pockets - 4 Piece Set - Comfy - Wrinkle Free - Light Grey Bed Sheets   \n",
       "1075468   Queen Size Sheet Set - Breathable & Cooling Sheets - Hotel Luxury Bed Sheets for Women, Men Kids & Teens - Deep Pockets - 4 Piece Set - Soft & Wrinkle Free - Off White Bed Sheets - Comfy Queen Sheets   \n",
       "1075466    Queen Size Sheet Set - Breathable & Cooling Sheets - Hotel Luxury Bed Sheets for Women, Men Kids & Teens - Deep Pockets - 4 Piece Set - Soft & Wrinkle Free - Spa Blue Bed Sheets - Queen Sheets - 4PC   \n",
       "...                                                                                                                                                                                                           ...   \n",
       "12                                                                                               Crew Versapack Softside Expandable 8 Spinner Wheel Luggage, USB Port, Men and Women, Jet Black, Carry on 20-Inch   \n",
       "13                                                                                                                         Centric 2 Hardside Expandable Luggage with Spinners, True Navy, 3-Piece Set (20/24/28)   \n",
       "14                                                                                                                                                      Xpedition 30 Inch Multi-Pocket Upright Rolling Duffel Bag   \n",
       "15                                                                                                                           Stratum 2.0 Expandable Hardside Luggage with Spinner Wheels, 28\" SPINNER, Slate Blue   \n",
       "1426305                                                                                                            Mesh Trucker Dad Hat 5 Panel Baseball Cap Quick Dry Short Brim Hat Breathable Running Sun Caps   \n",
       "\n",
       "         stars  reviews   price  listPrice  category_id  isBestSeller  \\\n",
       "1070592    4.3   346563    4.99       0.00           48             1   \n",
       "47104      4.0   292474   49.99       0.00          175             1   \n",
       "1075493    4.5   281661   28.99      38.99          172             1   \n",
       "1075468    4.5   281661   32.99      39.99          172             1   \n",
       "1075466    4.5   281661   32.99      39.99          172             1   \n",
       "...        ...      ...     ...        ...          ...           ...   \n",
       "12         4.5        0  323.99       0.00          104             0   \n",
       "13         4.5        0  399.92     699.97          104             0   \n",
       "14         4.3        0   42.00       0.00          104             0   \n",
       "15         4.5        0   89.95     139.99          104             0   \n",
       "1426305    3.9        0   15.99       0.00          112             0   \n",
       "\n",
       "         boughtInLastMonth                 category_name   revenue  \n",
       "1070592             100000                        Makeup  499000.0  \n",
       "47104                 2000  Vacuum Cleaners & Floor Care   99980.0  \n",
       "1075493               2000              Kids' Home Store   57980.0  \n",
       "1075468               2000              Kids' Home Store   65980.0  \n",
       "1075466               1000              Kids' Home Store   32990.0  \n",
       "...                    ...                           ...       ...  \n",
       "12                     100                     Suitcases   32399.0  \n",
       "13                     100                     Suitcases   39992.0  \n",
       "14                     300                     Suitcases   12600.0  \n",
       "15                     300                     Suitcases   26985.0  \n",
       "1426305                  0             Men's Accessories       0.0  \n",
       "\n",
       "[1426337 rows x 11 columns]"
      ]
     },
     "execution_count": 39,
     "metadata": {},
     "output_type": "execute_result"
    }
   ],
   "source": [
    "merged_df.sort_values(['reviews'], ascending=[False])"
   ]
  },
  {
   "cell_type": "markdown",
   "metadata": {},
   "source": [
    "Instead of using the mean (which is pulled down by many low-review products), use the 90th or 95th percentile.\n",
    "This will give us a threshold of the minimum reviews we will look at in our analysis."
   ]
  },
  {
   "cell_type": "code",
   "execution_count": 40,
   "metadata": {},
   "outputs": [
    {
     "name": "stdout",
     "output_type": "stream",
     "text": [
      "90th percentile reviews threshold: 531.0\n"
     ]
    }
   ],
   "source": [
    "threshold = merged_df['reviews'].quantile(0.95)\n",
    "print(f\"90th percentile reviews threshold: {threshold}\")"
   ]
  },
  {
   "cell_type": "markdown",
   "metadata": {},
   "source": [
    "Filter on products with reviews greater and equal to 550."
   ]
  },
  {
   "cell_type": "code",
   "execution_count": 41,
   "metadata": {},
   "outputs": [
    {
     "data": {
      "text/html": [
       "<div>\n",
       "<style scoped>\n",
       "    .dataframe tbody tr th:only-of-type {\n",
       "        vertical-align: middle;\n",
       "    }\n",
       "\n",
       "    .dataframe tbody tr th {\n",
       "        vertical-align: top;\n",
       "    }\n",
       "\n",
       "    .dataframe thead th {\n",
       "        text-align: right;\n",
       "    }\n",
       "</style>\n",
       "<table border=\"1\" class=\"dataframe\">\n",
       "  <thead>\n",
       "    <tr style=\"text-align: right;\">\n",
       "      <th></th>\n",
       "      <th>asin</th>\n",
       "      <th>title</th>\n",
       "      <th>stars</th>\n",
       "      <th>reviews</th>\n",
       "      <th>price</th>\n",
       "      <th>listPrice</th>\n",
       "      <th>category_id</th>\n",
       "      <th>isBestSeller</th>\n",
       "      <th>boughtInLastMonth</th>\n",
       "      <th>category_name</th>\n",
       "      <th>revenue</th>\n",
       "    </tr>\n",
       "  </thead>\n",
       "  <tbody>\n",
       "    <tr>\n",
       "      <th>46968</th>\n",
       "      <td>B08XWVX62X</td>\n",
       "      <td>Eureka NEC185 Cordless Stick Vacuum Cleaner Convenient for Hard Floors, Rechargeable Handheld Vacuum Cleaner Portable with Powerful Motor Efficient Suction,White</td>\n",
       "      <td>4.1</td>\n",
       "      <td>27918</td>\n",
       "      <td>152.99</td>\n",
       "      <td>169.99</td>\n",
       "      <td>175</td>\n",
       "      <td>0</td>\n",
       "      <td>600</td>\n",
       "      <td>Vacuum Cleaners &amp; Floor Care</td>\n",
       "      <td>91794.0</td>\n",
       "    </tr>\n",
       "    <tr>\n",
       "      <th>46969</th>\n",
       "      <td>B009ZJ2M7G</td>\n",
       "      <td>Hoover Power Scrub Deluxe Carpet Cleaner Machine, Upright Shampooer, FH50150NC, Red, 27</td>\n",
       "      <td>4.5</td>\n",
       "      <td>47104</td>\n",
       "      <td>181.36</td>\n",
       "      <td>239.99</td>\n",
       "      <td>175</td>\n",
       "      <td>0</td>\n",
       "      <td>4000</td>\n",
       "      <td>Vacuum Cleaners &amp; Floor Care</td>\n",
       "      <td>725440.0</td>\n",
       "    </tr>\n",
       "    <tr>\n",
       "      <th>46971</th>\n",
       "      <td>B091SWWH59</td>\n",
       "      <td>Eureka PowerSpeed Bagless Upright Vacuum Cleaner, Pet Turbo, Black</td>\n",
       "      <td>4.4</td>\n",
       "      <td>14469</td>\n",
       "      <td>99.99</td>\n",
       "      <td>0.00</td>\n",
       "      <td>175</td>\n",
       "      <td>1</td>\n",
       "      <td>3000</td>\n",
       "      <td>Vacuum Cleaners &amp; Floor Care</td>\n",
       "      <td>299970.0</td>\n",
       "    </tr>\n",
       "    <tr>\n",
       "      <th>46972</th>\n",
       "      <td>B005KMDV9A</td>\n",
       "      <td>Shark NV356E Navigator Lift-Away Professional Upright Vacuum with Swivel Steering, HEPA Filter, XL Dust Cup, Pet Power, Dusting Brush, and Crevice Tool, Perfect for Pet Hair, White/Silver</td>\n",
       "      <td>4.5</td>\n",
       "      <td>34651</td>\n",
       "      <td>199.99</td>\n",
       "      <td>0.00</td>\n",
       "      <td>175</td>\n",
       "      <td>0</td>\n",
       "      <td>5000</td>\n",
       "      <td>Vacuum Cleaners &amp; Floor Care</td>\n",
       "      <td>999950.0</td>\n",
       "    </tr>\n",
       "    <tr>\n",
       "      <th>46973</th>\n",
       "      <td>B09QQ9T4XY</td>\n",
       "      <td>Tineco iFLOOR 3 Breeze Complete Wet Dry Vacuum Cordless Floor Cleaner and Mop One-Step Cleaning for Hard Floors</td>\n",
       "      <td>4.4</td>\n",
       "      <td>25614</td>\n",
       "      <td>279.99</td>\n",
       "      <td>0.00</td>\n",
       "      <td>175</td>\n",
       "      <td>0</td>\n",
       "      <td>6000</td>\n",
       "      <td>Vacuum Cleaners &amp; Floor Care</td>\n",
       "      <td>1679940.0</td>\n",
       "    </tr>\n",
       "  </tbody>\n",
       "</table>\n",
       "</div>"
      ],
      "text/plain": [
       "             asin  \\\n",
       "46968  B08XWVX62X   \n",
       "46969  B009ZJ2M7G   \n",
       "46971  B091SWWH59   \n",
       "46972  B005KMDV9A   \n",
       "46973  B09QQ9T4XY   \n",
       "\n",
       "                                                                                                                                                                                             title  \\\n",
       "46968                            Eureka NEC185 Cordless Stick Vacuum Cleaner Convenient for Hard Floors, Rechargeable Handheld Vacuum Cleaner Portable with Powerful Motor Efficient Suction,White   \n",
       "46969                                                                                                      Hoover Power Scrub Deluxe Carpet Cleaner Machine, Upright Shampooer, FH50150NC, Red, 27   \n",
       "46971                                                                                                                           Eureka PowerSpeed Bagless Upright Vacuum Cleaner, Pet Turbo, Black   \n",
       "46972  Shark NV356E Navigator Lift-Away Professional Upright Vacuum with Swivel Steering, HEPA Filter, XL Dust Cup, Pet Power, Dusting Brush, and Crevice Tool, Perfect for Pet Hair, White/Silver   \n",
       "46973                                                                              Tineco iFLOOR 3 Breeze Complete Wet Dry Vacuum Cordless Floor Cleaner and Mop One-Step Cleaning for Hard Floors   \n",
       "\n",
       "       stars  reviews   price  listPrice  category_id  isBestSeller  \\\n",
       "46968    4.1    27918  152.99     169.99          175             0   \n",
       "46969    4.5    47104  181.36     239.99          175             0   \n",
       "46971    4.4    14469   99.99       0.00          175             1   \n",
       "46972    4.5    34651  199.99       0.00          175             0   \n",
       "46973    4.4    25614  279.99       0.00          175             0   \n",
       "\n",
       "       boughtInLastMonth                 category_name    revenue  \n",
       "46968                600  Vacuum Cleaners & Floor Care    91794.0  \n",
       "46969               4000  Vacuum Cleaners & Floor Care   725440.0  \n",
       "46971               3000  Vacuum Cleaners & Floor Care   299970.0  \n",
       "46972               5000  Vacuum Cleaners & Floor Care   999950.0  \n",
       "46973               6000  Vacuum Cleaners & Floor Care  1679940.0  "
      ]
     },
     "execution_count": 41,
     "metadata": {},
     "output_type": "execute_result"
    }
   ],
   "source": [
    "# Filter the products with at least 550 reviews\n",
    "filtered_merged_df = merged_df[merged_df['reviews'] >= 550]\n",
    "filtered_merged_df.head(5)"
   ]
  },
  {
   "cell_type": "markdown",
   "metadata": {},
   "source": [
    "Filter products within the top 20 Categories with reviews >= 550"
   ]
  },
  {
   "cell_type": "code",
   "execution_count": 42,
   "metadata": {},
   "outputs": [
    {
     "data": {
      "text/html": [
       "<div>\n",
       "<style scoped>\n",
       "    .dataframe tbody tr th:only-of-type {\n",
       "        vertical-align: middle;\n",
       "    }\n",
       "\n",
       "    .dataframe tbody tr th {\n",
       "        vertical-align: top;\n",
       "    }\n",
       "\n",
       "    .dataframe thead th {\n",
       "        text-align: right;\n",
       "    }\n",
       "</style>\n",
       "<table border=\"1\" class=\"dataframe\">\n",
       "  <thead>\n",
       "    <tr style=\"text-align: right;\">\n",
       "      <th></th>\n",
       "      <th>asin</th>\n",
       "      <th>title</th>\n",
       "      <th>stars</th>\n",
       "      <th>reviews</th>\n",
       "      <th>price</th>\n",
       "      <th>listPrice</th>\n",
       "      <th>category_id</th>\n",
       "      <th>isBestSeller</th>\n",
       "      <th>boughtInLastMonth</th>\n",
       "      <th>category_name</th>\n",
       "      <th>revenue</th>\n",
       "    </tr>\n",
       "  </thead>\n",
       "  <tbody>\n",
       "    <tr>\n",
       "      <th>152462</th>\n",
       "      <td>B0B9JPWSC5</td>\n",
       "      <td>iHaHa Fire Truck Toys for 1 2 3 4 5 6 Years Old Boys Toddler, 5 in 1 Kids Carrier Toy Birthday, Car Friction Power Toys with Light Sound</td>\n",
       "      <td>3.9</td>\n",
       "      <td>1621</td>\n",
       "      <td>26.99</td>\n",
       "      <td>0.00</td>\n",
       "      <td>270</td>\n",
       "      <td>0</td>\n",
       "      <td>600</td>\n",
       "      <td>Toys &amp; Games</td>\n",
       "      <td>16194.0</td>\n",
       "    </tr>\n",
       "    <tr>\n",
       "      <th>152465</th>\n",
       "      <td>B0BGLTYW59</td>\n",
       "      <td>Magnetic Tiles Kids Toys STEM Magnet Toys for Toddler Magnetic Blocks Building Toys Preschool Learning Sensory Montessori Toys for 3+ Year Old Boys and Girls, Safe Creativity Toddler Kids Toys</td>\n",
       "      <td>4.8</td>\n",
       "      <td>916</td>\n",
       "      <td>19.99</td>\n",
       "      <td>34.99</td>\n",
       "      <td>270</td>\n",
       "      <td>0</td>\n",
       "      <td>9000</td>\n",
       "      <td>Toys &amp; Games</td>\n",
       "      <td>179910.0</td>\n",
       "    </tr>\n",
       "    <tr>\n",
       "      <th>152467</th>\n",
       "      <td>B08FQX6RNJ</td>\n",
       "      <td>Drum Set for Kids with 2 Drum Sticks and Microphone, Musical Toys Gift for Toddlers…</td>\n",
       "      <td>4.3</td>\n",
       "      <td>1066</td>\n",
       "      <td>64.99</td>\n",
       "      <td>0.00</td>\n",
       "      <td>270</td>\n",
       "      <td>0</td>\n",
       "      <td>200</td>\n",
       "      <td>Toys &amp; Games</td>\n",
       "      <td>12998.0</td>\n",
       "    </tr>\n",
       "    <tr>\n",
       "      <th>152468</th>\n",
       "      <td>B09QQ5WPVM</td>\n",
       "      <td>Kiddiworld Dinosaur Toys for 3 4 5 Year Old Boys Gifts, Dinosaurs Toys for Kids 3-5-7, Dino Figures Activity Play Mat Christmas Birthday Gifts for Girls Toddler Toys Age 2-4</td>\n",
       "      <td>4.6</td>\n",
       "      <td>1481</td>\n",
       "      <td>25.99</td>\n",
       "      <td>35.99</td>\n",
       "      <td>270</td>\n",
       "      <td>0</td>\n",
       "      <td>3000</td>\n",
       "      <td>Toys &amp; Games</td>\n",
       "      <td>77970.0</td>\n",
       "    </tr>\n",
       "    <tr>\n",
       "      <th>152469</th>\n",
       "      <td>B01COSEDKS</td>\n",
       "      <td>VTech Drill and Learn Toolbox</td>\n",
       "      <td>4.7</td>\n",
       "      <td>14089</td>\n",
       "      <td>24.99</td>\n",
       "      <td>0.00</td>\n",
       "      <td>270</td>\n",
       "      <td>0</td>\n",
       "      <td>2000</td>\n",
       "      <td>Toys &amp; Games</td>\n",
       "      <td>49980.0</td>\n",
       "    </tr>\n",
       "  </tbody>\n",
       "</table>\n",
       "</div>"
      ],
      "text/plain": [
       "              asin  \\\n",
       "152462  B0B9JPWSC5   \n",
       "152465  B0BGLTYW59   \n",
       "152467  B08FQX6RNJ   \n",
       "152468  B09QQ5WPVM   \n",
       "152469  B01COSEDKS   \n",
       "\n",
       "                                                                                                                                                                                                   title  \\\n",
       "152462                                                          iHaHa Fire Truck Toys for 1 2 3 4 5 6 Years Old Boys Toddler, 5 in 1 Kids Carrier Toy Birthday, Car Friction Power Toys with Light Sound   \n",
       "152465  Magnetic Tiles Kids Toys STEM Magnet Toys for Toddler Magnetic Blocks Building Toys Preschool Learning Sensory Montessori Toys for 3+ Year Old Boys and Girls, Safe Creativity Toddler Kids Toys   \n",
       "152467                                                                                                              Drum Set for Kids with 2 Drum Sticks and Microphone, Musical Toys Gift for Toddlers…   \n",
       "152468                     Kiddiworld Dinosaur Toys for 3 4 5 Year Old Boys Gifts, Dinosaurs Toys for Kids 3-5-7, Dino Figures Activity Play Mat Christmas Birthday Gifts for Girls Toddler Toys Age 2-4   \n",
       "152469                                                                                                                                                                     VTech Drill and Learn Toolbox   \n",
       "\n",
       "        stars  reviews  price  listPrice  category_id  isBestSeller  \\\n",
       "152462    3.9     1621  26.99       0.00          270             0   \n",
       "152465    4.8      916  19.99      34.99          270             0   \n",
       "152467    4.3     1066  64.99       0.00          270             0   \n",
       "152468    4.6     1481  25.99      35.99          270             0   \n",
       "152469    4.7    14089  24.99       0.00          270             0   \n",
       "\n",
       "        boughtInLastMonth category_name   revenue  \n",
       "152462                600  Toys & Games   16194.0  \n",
       "152465               9000  Toys & Games  179910.0  \n",
       "152467                200  Toys & Games   12998.0  \n",
       "152468               3000  Toys & Games   77970.0  \n",
       "152469               2000  Toys & Games   49980.0  "
      ]
     },
     "execution_count": 42,
     "metadata": {},
     "output_type": "execute_result"
    }
   ],
   "source": [
    "# Filter products within the top 20 Categories with largest sales and have reviews >= 550\n",
    "filtered_merged_df = filtered_merged_df[filtered_merged_df['category_name'].isin(top_20_cat_sales['category_name'])]\n",
    "filtered_merged_df.head(5)\n"
   ]
  },
  {
   "cell_type": "code",
   "execution_count": 43,
   "metadata": {},
   "outputs": [
    {
     "name": "stdout",
     "output_type": "stream",
     "text": [
      "                     category_name   reviews\n",
      "2              Home Décor Products  16679287\n",
      "3                           Makeup  14025186\n",
      "1  Foot, Hand & Nail Care Products  13176571\n",
      "5                     Toys & Games   9462596\n",
      "0       Beauty Tools & Accessories   5153462\n",
      "4               Skin Care Products    906846\n"
     ]
    }
   ],
   "source": [
    "# Group by category and sum the reviews\n",
    "\n",
    "top_20_cat_reviews_df = (\n",
    "    filtered_merged_df.groupby('category_name')['reviews']\n",
    "    .sum()\n",
    "    .reset_index()\n",
    "    .sort_values(by='reviews', ascending=False)\n",
    "    .head(20)  # Get top 20 categories by total reviews\n",
    ")\n",
    "\n",
    "print(top_20_cat_reviews_df)\n"
   ]
  },
  {
   "cell_type": "markdown",
   "metadata": {},
   "source": [
    "- The above shows that there are 6 Categories with total reviews greater than 550 in the top 20 largest sales last month."
   ]
  },
  {
   "cell_type": "code",
   "execution_count": 44,
   "metadata": {},
   "outputs": [
    {
     "name": "stdout",
     "output_type": "stream",
     "text": [
      "                      category_name   reviews\n",
      "6               Home Décor Products  17372441\n",
      "12                           Makeup  14429795\n",
      "2   Foot, Hand & Nail Care Products  14086149\n",
      "19                     Toys & Games  10020872\n",
      "0        Beauty Tools & Accessories   5192395\n",
      "15               Skin Care Products   1065373\n",
      "3                Hair Care Products         0\n",
      "1                      Dog Supplies         0\n",
      "8       Household Cleaning Supplies         0\n",
      "4                Health & Household         0\n",
      "5              Health Care Products         0\n",
      "7       Home Storage & Organization         0\n",
      "11                 Kitchen & Dining         0\n",
      "10          Industrial & Scientific         0\n",
      "9                Household Supplies         0\n",
      "13               Oral Care Products         0\n",
      "14           Personal Care Products         0\n",
      "16                 Sports & Fitness         0\n",
      "17                Sports & Outdoors         0\n",
      "18        Sports Nutrition Products         0\n"
     ]
    }
   ],
   "source": [
    "# Test and double check if this is correct\n",
    "# Will query other categoires with in the top 20 largest sales last month.\n",
    "\n",
    "# Filter the merged_df to only include products in the top 20 sales categories\n",
    "top_20_merged = merged_df[merged_df['category_name'].isin(top_20_cat_sales['category_name'])]\n",
    "\n",
    "# Group by category and sum the reviews\n",
    "category_test = top_20_merged.groupby('category_name')['reviews'].sum().reset_index()\n",
    "\n",
    "# Sort by reviews descending\n",
    "category_test = category_test.sort_values(by='reviews', ascending=False)\n",
    "\n",
    "# Show all 20 rows\n",
    "print(category_test)\n"
   ]
  },
  {
   "cell_type": "code",
   "execution_count": 45,
   "metadata": {},
   "outputs": [
    {
     "data": {
      "text/html": [
       "<div>\n",
       "<style scoped>\n",
       "    .dataframe tbody tr th:only-of-type {\n",
       "        vertical-align: middle;\n",
       "    }\n",
       "\n",
       "    .dataframe tbody tr th {\n",
       "        vertical-align: top;\n",
       "    }\n",
       "\n",
       "    .dataframe thead th {\n",
       "        text-align: right;\n",
       "    }\n",
       "</style>\n",
       "<table border=\"1\" class=\"dataframe\">\n",
       "  <thead>\n",
       "    <tr style=\"text-align: right;\">\n",
       "      <th></th>\n",
       "      <th>asin</th>\n",
       "      <th>title</th>\n",
       "      <th>stars</th>\n",
       "      <th>reviews</th>\n",
       "      <th>price</th>\n",
       "      <th>listPrice</th>\n",
       "      <th>category_id</th>\n",
       "      <th>isBestSeller</th>\n",
       "      <th>boughtInLastMonth</th>\n",
       "      <th>category_name</th>\n",
       "      <th>revenue</th>\n",
       "    </tr>\n",
       "  </thead>\n",
       "  <tbody>\n",
       "    <tr>\n",
       "      <th>152478</th>\n",
       "      <td>B0858LSYY1</td>\n",
       "      <td>LEGO DUPLO Town Truck &amp; Tracked Excavator Construction Vehicle 10931 Toy for Toddlers 2-4 Years Old Girls &amp; Boys, Fine Motor Skills Development and Learning Toy</td>\n",
       "      <td>4.9</td>\n",
       "      <td>5605</td>\n",
       "      <td>15.99</td>\n",
       "      <td>19.99</td>\n",
       "      <td>270</td>\n",
       "      <td>0</td>\n",
       "      <td>6000</td>\n",
       "      <td>Toys &amp; Games</td>\n",
       "      <td>95940.0</td>\n",
       "    </tr>\n",
       "    <tr>\n",
       "      <th>152707</th>\n",
       "      <td>B0CGY5L31N</td>\n",
       "      <td>Play Wallet for Boys with Money and Pretend Play Toys, Cellphone, Smartwatch, Keys, Sunglasses, Toddler Wallet for Kids Ages 3 4 5 6 7 8 9 10 11 12 - Grown Up Pretend Play Set for Kids</td>\n",
       "      <td>4.9</td>\n",
       "      <td>717</td>\n",
       "      <td>19.99</td>\n",
       "      <td>0.00</td>\n",
       "      <td>270</td>\n",
       "      <td>0</td>\n",
       "      <td>50</td>\n",
       "      <td>Toys &amp; Games</td>\n",
       "      <td>999.5</td>\n",
       "    </tr>\n",
       "    <tr>\n",
       "      <th>152733</th>\n",
       "      <td>B08T21RZ2Q</td>\n",
       "      <td>LEGO DUPLO Town Space Shuttle Mission Rocket Toy 10944, Set for Preschool Toddlers Age 2-4 Years Old with Astronaut Figures</td>\n",
       "      <td>4.9</td>\n",
       "      <td>2050</td>\n",
       "      <td>16.79</td>\n",
       "      <td>19.99</td>\n",
       "      <td>270</td>\n",
       "      <td>0</td>\n",
       "      <td>2000</td>\n",
       "      <td>Toys &amp; Games</td>\n",
       "      <td>33580.0</td>\n",
       "    </tr>\n",
       "    <tr>\n",
       "      <th>153020</th>\n",
       "      <td>B00ZRD99C0</td>\n",
       "      <td>Bright Starts Oball Easy Grasp Classic Ball BPA-Free Infant Toy in Red, Yellow, Green, Blue, Age Newborn and up, 4 Inches</td>\n",
       "      <td>4.9</td>\n",
       "      <td>37961</td>\n",
       "      <td>4.99</td>\n",
       "      <td>0.00</td>\n",
       "      <td>270</td>\n",
       "      <td>1</td>\n",
       "      <td>8000</td>\n",
       "      <td>Toys &amp; Games</td>\n",
       "      <td>39920.0</td>\n",
       "    </tr>\n",
       "    <tr>\n",
       "      <th>153147</th>\n",
       "      <td>B09NPCDHTT</td>\n",
       "      <td>Little People Barbie Toddler Toy Car Convertible with Music Sounds &amp; 2 Figures for Pretend Play Ages 18+ Months</td>\n",
       "      <td>4.9</td>\n",
       "      <td>1949</td>\n",
       "      <td>12.99</td>\n",
       "      <td>16.99</td>\n",
       "      <td>270</td>\n",
       "      <td>0</td>\n",
       "      <td>2000</td>\n",
       "      <td>Toys &amp; Games</td>\n",
       "      <td>25980.0</td>\n",
       "    </tr>\n",
       "  </tbody>\n",
       "</table>\n",
       "</div>"
      ],
      "text/plain": [
       "              asin  \\\n",
       "152478  B0858LSYY1   \n",
       "152707  B0CGY5L31N   \n",
       "152733  B08T21RZ2Q   \n",
       "153020  B00ZRD99C0   \n",
       "153147  B09NPCDHTT   \n",
       "\n",
       "                                                                                                                                                                                           title  \\\n",
       "152478                          LEGO DUPLO Town Truck & Tracked Excavator Construction Vehicle 10931 Toy for Toddlers 2-4 Years Old Girls & Boys, Fine Motor Skills Development and Learning Toy   \n",
       "152707  Play Wallet for Boys with Money and Pretend Play Toys, Cellphone, Smartwatch, Keys, Sunglasses, Toddler Wallet for Kids Ages 3 4 5 6 7 8 9 10 11 12 - Grown Up Pretend Play Set for Kids   \n",
       "152733                                                               LEGO DUPLO Town Space Shuttle Mission Rocket Toy 10944, Set for Preschool Toddlers Age 2-4 Years Old with Astronaut Figures   \n",
       "153020                                                                 Bright Starts Oball Easy Grasp Classic Ball BPA-Free Infant Toy in Red, Yellow, Green, Blue, Age Newborn and up, 4 Inches   \n",
       "153147                                                                           Little People Barbie Toddler Toy Car Convertible with Music Sounds & 2 Figures for Pretend Play Ages 18+ Months   \n",
       "\n",
       "        stars  reviews  price  listPrice  category_id  isBestSeller  \\\n",
       "152478    4.9     5605  15.99      19.99          270             0   \n",
       "152707    4.9      717  19.99       0.00          270             0   \n",
       "152733    4.9     2050  16.79      19.99          270             0   \n",
       "153020    4.9    37961   4.99       0.00          270             1   \n",
       "153147    4.9     1949  12.99      16.99          270             0   \n",
       "\n",
       "        boughtInLastMonth category_name  revenue  \n",
       "152478               6000  Toys & Games  95940.0  \n",
       "152707                 50  Toys & Games    999.5  \n",
       "152733               2000  Toys & Games  33580.0  \n",
       "153020               8000  Toys & Games  39920.0  \n",
       "153147               2000  Toys & Games  25980.0  "
      ]
     },
     "execution_count": 45,
     "metadata": {},
     "output_type": "execute_result"
    }
   ],
   "source": [
    "# Group filtered dataframe to get top-rated product per category\n",
    "top_rated_products = (\n",
    "    filtered_merged_df\n",
    "    .loc[filtered_merged_df.groupby('category_name')['stars'].transform('max') == filtered_merged_df['stars']]\n",
    ")\n",
    "top_rated_products.head()"
   ]
  },
  {
   "cell_type": "code",
   "execution_count": 46,
   "metadata": {},
   "outputs": [
    {
     "data": {
      "text/html": [
       "<div>\n",
       "<style scoped>\n",
       "    .dataframe tbody tr th:only-of-type {\n",
       "        vertical-align: middle;\n",
       "    }\n",
       "\n",
       "    .dataframe tbody tr th {\n",
       "        vertical-align: top;\n",
       "    }\n",
       "\n",
       "    .dataframe thead th {\n",
       "        text-align: right;\n",
       "    }\n",
       "</style>\n",
       "<table border=\"1\" class=\"dataframe\">\n",
       "  <thead>\n",
       "    <tr style=\"text-align: right;\">\n",
       "      <th></th>\n",
       "      <th>asin</th>\n",
       "      <th>title</th>\n",
       "      <th>stars</th>\n",
       "      <th>reviews</th>\n",
       "      <th>price</th>\n",
       "      <th>listPrice</th>\n",
       "      <th>category_id</th>\n",
       "      <th>isBestSeller</th>\n",
       "      <th>boughtInLastMonth</th>\n",
       "      <th>category_name</th>\n",
       "      <th>revenue</th>\n",
       "    </tr>\n",
       "  </thead>\n",
       "  <tbody>\n",
       "    <tr>\n",
       "      <th>2461</th>\n",
       "      <td>B077J6XXKN</td>\n",
       "      <td>Discovery Kids 50-Piece 3D Magnetic Tile Set in 6 Colors, Construction Building Block Creativity Kit, Kids Educational Learning STEM Toy, Engineering Development Activity, Ages 5+</td>\n",
       "      <td>4.9</td>\n",
       "      <td>2923</td>\n",
       "      <td>27.99</td>\n",
       "      <td>0.00</td>\n",
       "      <td>270</td>\n",
       "      <td>0</td>\n",
       "      <td>100</td>\n",
       "      <td>Toys &amp; Games</td>\n",
       "      <td>2799.0</td>\n",
       "    </tr>\n",
       "    <tr>\n",
       "      <th>6750</th>\n",
       "      <td>B07X131H3P</td>\n",
       "      <td>Melissa &amp; Doug Hop &amp; Count Hopscotch Rug (Play Space &amp; Room Decor, Skid-Proof Backing, 27” H x 5.5” W x 5.5” L) - Classic Hopscotch Rug For Kids</td>\n",
       "      <td>4.9</td>\n",
       "      <td>738</td>\n",
       "      <td>31.49</td>\n",
       "      <td>32.99</td>\n",
       "      <td>165</td>\n",
       "      <td>0</td>\n",
       "      <td>300</td>\n",
       "      <td>Home Décor Products</td>\n",
       "      <td>9447.0</td>\n",
       "    </tr>\n",
       "    <tr>\n",
       "      <th>4279</th>\n",
       "      <td>B095RJ5MV9</td>\n",
       "      <td>KuAoyoja Nail Art Dust Powder Remover, Pink Rose Soft Brush Acrylic Nail Arts Manicure Dust Cleaner Brush for Nail Trimming Cleaning Makeup Brush Tools (Pink)</td>\n",
       "      <td>4.9</td>\n",
       "      <td>647</td>\n",
       "      <td>7.99</td>\n",
       "      <td>9.99</td>\n",
       "      <td>51</td>\n",
       "      <td>0</td>\n",
       "      <td>200</td>\n",
       "      <td>Foot, Hand &amp; Nail Care Products</td>\n",
       "      <td>1598.0</td>\n",
       "    </tr>\n",
       "    <tr>\n",
       "      <th>13399</th>\n",
       "      <td>B0BYXP5M8R</td>\n",
       "      <td>Makeup bag for Women, Corduroy Cosmetic Bag Aesthetic Design Ladies Tote Bag, Pencil Case for Girls, Cute Smiley Face Makeup Organizer with Zipper - Beige</td>\n",
       "      <td>4.9</td>\n",
       "      <td>592</td>\n",
       "      <td>6.99</td>\n",
       "      <td>0.00</td>\n",
       "      <td>50</td>\n",
       "      <td>0</td>\n",
       "      <td>2000</td>\n",
       "      <td>Beauty Tools &amp; Accessories</td>\n",
       "      <td>13980.0</td>\n",
       "    </tr>\n",
       "    <tr>\n",
       "      <th>8398</th>\n",
       "      <td>B01MCVBX9C</td>\n",
       "      <td>Blistex Lip Vibrance Lip Protectant 0.13 OZ (Pack of 3)</td>\n",
       "      <td>4.9</td>\n",
       "      <td>830</td>\n",
       "      <td>11.83</td>\n",
       "      <td>12.51</td>\n",
       "      <td>49</td>\n",
       "      <td>0</td>\n",
       "      <td>100</td>\n",
       "      <td>Skin Care Products</td>\n",
       "      <td>1183.0</td>\n",
       "    </tr>\n",
       "    <tr>\n",
       "      <th>12797</th>\n",
       "      <td>B085XLPF53</td>\n",
       "      <td>Sailor Moon x ColourPop Pretty Guardian Eyeshadow Palette</td>\n",
       "      <td>4.8</td>\n",
       "      <td>1652</td>\n",
       "      <td>21.78</td>\n",
       "      <td>24.01</td>\n",
       "      <td>48</td>\n",
       "      <td>0</td>\n",
       "      <td>100</td>\n",
       "      <td>Makeup</td>\n",
       "      <td>2178.0</td>\n",
       "    </tr>\n",
       "  </tbody>\n",
       "</table>\n",
       "</div>"
      ],
      "text/plain": [
       "             asin  \\\n",
       "2461   B077J6XXKN   \n",
       "6750   B07X131H3P   \n",
       "4279   B095RJ5MV9   \n",
       "13399  B0BYXP5M8R   \n",
       "8398   B01MCVBX9C   \n",
       "12797  B085XLPF53   \n",
       "\n",
       "                                                                                                                                                                                     title  \\\n",
       "2461   Discovery Kids 50-Piece 3D Magnetic Tile Set in 6 Colors, Construction Building Block Creativity Kit, Kids Educational Learning STEM Toy, Engineering Development Activity, Ages 5+   \n",
       "6750                                      Melissa & Doug Hop & Count Hopscotch Rug (Play Space & Room Decor, Skid-Proof Backing, 27” H x 5.5” W x 5.5” L) - Classic Hopscotch Rug For Kids   \n",
       "4279                        KuAoyoja Nail Art Dust Powder Remover, Pink Rose Soft Brush Acrylic Nail Arts Manicure Dust Cleaner Brush for Nail Trimming Cleaning Makeup Brush Tools (Pink)   \n",
       "13399                           Makeup bag for Women, Corduroy Cosmetic Bag Aesthetic Design Ladies Tote Bag, Pencil Case for Girls, Cute Smiley Face Makeup Organizer with Zipper - Beige   \n",
       "8398                                                                                                                               Blistex Lip Vibrance Lip Protectant 0.13 OZ (Pack of 3)   \n",
       "12797                                                                                                                            Sailor Moon x ColourPop Pretty Guardian Eyeshadow Palette   \n",
       "\n",
       "       stars  reviews  price  listPrice  category_id  isBestSeller  \\\n",
       "2461     4.9     2923  27.99       0.00          270             0   \n",
       "6750     4.9      738  31.49      32.99          165             0   \n",
       "4279     4.9      647   7.99       9.99           51             0   \n",
       "13399    4.9      592   6.99       0.00           50             0   \n",
       "8398     4.9      830  11.83      12.51           49             0   \n",
       "12797    4.8     1652  21.78      24.01           48             0   \n",
       "\n",
       "       boughtInLastMonth                    category_name  revenue  \n",
       "2461                 100                     Toys & Games   2799.0  \n",
       "6750                 300              Home Décor Products   9447.0  \n",
       "4279                 200  Foot, Hand & Nail Care Products   1598.0  \n",
       "13399               2000       Beauty Tools & Accessories  13980.0  \n",
       "8398                 100               Skin Care Products   1183.0  \n",
       "12797                100                           Makeup   2178.0  "
      ]
     },
     "execution_count": 46,
     "metadata": {},
     "output_type": "execute_result"
    }
   ],
   "source": [
    "# Sort the top_rated_products Dataframe by 'reviews' in ascending order within each category\n",
    "top_rated_products = filtered_merged_df.reset_index(drop=True)\n",
    "\n",
    "sorted_top_rated_products = top_rated_products.sort_values(['stars'] , ascending=False).groupby('category_name').head(1)\n",
    "sorted_top_rated_products"
   ]
  },
  {
   "cell_type": "code",
   "execution_count": 47,
   "metadata": {},
   "outputs": [
    {
     "data": {
      "image/png": "[encoded data removed]",
      "text/plain": [
       "<Figure size 1800x1000 with 1 Axes>"
      ]
     },
     "metadata": {},
     "output_type": "display_data"
    }
   ],
   "source": [
    "# Visualise findings\n",
    "# Data to use in graph\n",
    "# Filter the products within the top 20 categories with reviews >= 550\n",
    "filtered_merged_df = merged_df[merged_df['reviews'] >= 550]\n",
    "\n",
    "# Filter products within the top 20 Categories with reviews >= 550\n",
    "filtered_merged_df = filtered_merged_df[filtered_merged_df['category_name'].isin(top_20_cat_sales['category_name'])]\n",
    "\n",
    "# Group filtered dataframe to get top-rated product per category\n",
    "top_rated_products = (\n",
    "    filtered_merged_df.loc[filtered_merged_df.groupby('category_name')['stars'].transform('max') == filtered_merged_df['stars']]\n",
    ")\n",
    "\n",
    "# Sort the top_rated_products Dataframe by 'reviews' in ascending order within each category\n",
    "top_rated_products = filtered_merged_df.reset_index(drop=True)\n",
    "sorted_top_rated_products = top_rated_products.sort_values(['stars'] , ascending=False).groupby('category_name').head(1).reset_index(drop=True)\n",
    "# sorted_top_rated_products = top_rated_products.sort_values(['stars'] , ascending=False).groupby('category_name').head(1)\n",
    "\n",
    "# Create bar chart\n",
    "plt.figure(figsize=(18,10)) # makes the chart wider for readability\n",
    "\n",
    "# Custom colors — 20 different colors\n",
    "color = plt.cm.tab20.colors  # You can also try plt.cm.Set3, plt.cm.Pastel1, etc.\n",
    "# Plot bars and keep a handle to add legend\n",
    "bars = plt.bar(sorted_top_rated_products['category_name'], sorted_top_rated_products['stars'], color=color)\n",
    "\n",
    "# Legend with cateogry names\n",
    "plt.legend(bars, sorted_top_rated_products['category_name'], title=\"Categories\", bbox_to_anchor=(1.05, 1), loc='upper left')\n",
    "\n",
    "\n",
    "# Formatting\n",
    "plt.title('Top Rated Products which are in the Top 20 Categories (min 550 Reviews)')\n",
    "plt.xlabel('Category Name')\n",
    "plt.ylabel('Rating')\n",
    "\n",
    "plt.show()"
   ]
  },
  {
   "cell_type": "markdown",
   "metadata": {},
   "source": [
    "- The bar chart above shows the top rated products with at least 550 reviews which are in the top 20 Categories which made the most sales last month."
   ]
  },
  {
   "cell_type": "markdown",
   "metadata": {},
   "source": [
    "### 4.7 Identify Top 20 Products bought in the last month across all product categories"
   ]
  },
  {
   "cell_type": "code",
   "execution_count": 48,
   "metadata": {},
   "outputs": [
    {
     "data": {
      "text/html": [
       "<div>\n",
       "<style scoped>\n",
       "    .dataframe tbody tr th:only-of-type {\n",
       "        vertical-align: middle;\n",
       "    }\n",
       "\n",
       "    .dataframe tbody tr th {\n",
       "        vertical-align: top;\n",
       "    }\n",
       "\n",
       "    .dataframe thead th {\n",
       "        text-align: right;\n",
       "    }\n",
       "</style>\n",
       "<table border=\"1\" class=\"dataframe\">\n",
       "  <thead>\n",
       "    <tr style=\"text-align: right;\">\n",
       "      <th></th>\n",
       "      <th>asin</th>\n",
       "      <th>title</th>\n",
       "      <th>stars</th>\n",
       "      <th>reviews</th>\n",
       "      <th>price</th>\n",
       "      <th>listPrice</th>\n",
       "      <th>category_id</th>\n",
       "      <th>isBestSeller</th>\n",
       "      <th>boughtInLastMonth</th>\n",
       "      <th>category_name</th>\n",
       "      <th>revenue</th>\n",
       "    </tr>\n",
       "  </thead>\n",
       "  <tbody>\n",
       "    <tr>\n",
       "      <th>331036</th>\n",
       "      <td>B07MHJFRBJ</td>\n",
       "      <td>Bounty Quick Size Paper Towels, White, 8 Family Rolls = 20 Regular Rolls</td>\n",
       "      <td>4.8</td>\n",
       "      <td>0</td>\n",
       "      <td>24.42</td>\n",
       "      <td>0.00</td>\n",
       "      <td>167</td>\n",
       "      <td>1</td>\n",
       "      <td>100000</td>\n",
       "      <td>Household Cleaning Supplies</td>\n",
       "      <td>2442000.0</td>\n",
       "    </tr>\n",
       "    <tr>\n",
       "      <th>331037</th>\n",
       "      <td>B074CR89QG</td>\n",
       "      <td>Amazon Brand - Presto! Flex-a-Size Paper Towels, 158 Sheet Huge Roll, 12 Rolls (2 Packs of 6), Equivalent to 38 Regular Rolls, White</td>\n",
       "      <td>4.7</td>\n",
       "      <td>0</td>\n",
       "      <td>28.28</td>\n",
       "      <td>0.00</td>\n",
       "      <td>167</td>\n",
       "      <td>0</td>\n",
       "      <td>100000</td>\n",
       "      <td>Household Cleaning Supplies</td>\n",
       "      <td>2828000.0</td>\n",
       "    </tr>\n",
       "    <tr>\n",
       "      <th>331038</th>\n",
       "      <td>B00DU5SRIY</td>\n",
       "      <td>Stardrops - The Pink Stuff - The Miracle All Purpose Cleaning Paste</td>\n",
       "      <td>4.4</td>\n",
       "      <td>0</td>\n",
       "      <td>4.99</td>\n",
       "      <td>5.97</td>\n",
       "      <td>167</td>\n",
       "      <td>1</td>\n",
       "      <td>100000</td>\n",
       "      <td>Household Cleaning Supplies</td>\n",
       "      <td>499000.0</td>\n",
       "    </tr>\n",
       "    <tr>\n",
       "      <th>331040</th>\n",
       "      <td>B09BWFX1L6</td>\n",
       "      <td>Amazon Basics 2-Ply Paper Towels, Flex-Sheets, 150 Sheets per Roll, 12 Rolls (2 Packs of 6), White</td>\n",
       "      <td>4.2</td>\n",
       "      <td>0</td>\n",
       "      <td>22.86</td>\n",
       "      <td>0.00</td>\n",
       "      <td>167</td>\n",
       "      <td>0</td>\n",
       "      <td>100000</td>\n",
       "      <td>Household Cleaning Supplies</td>\n",
       "      <td>2286000.0</td>\n",
       "    </tr>\n",
       "    <tr>\n",
       "      <th>466031</th>\n",
       "      <td>B09LH36816</td>\n",
       "      <td>Hismile v34 Colour Corrector, Tooth Stain Removal, Teeth Whitening Booster, Purple Toothpaste, Colour Correcting, Hismile V34, Hismile Colour Corrector, Tooth Colour Corrector</td>\n",
       "      <td>3.4</td>\n",
       "      <td>0</td>\n",
       "      <td>20.69</td>\n",
       "      <td>29.00</td>\n",
       "      <td>126</td>\n",
       "      <td>1</td>\n",
       "      <td>100000</td>\n",
       "      <td>Oral Care Products</td>\n",
       "      <td>2069000.0</td>\n",
       "    </tr>\n",
       "  </tbody>\n",
       "</table>\n",
       "</div>"
      ],
      "text/plain": [
       "              asin  \\\n",
       "331036  B07MHJFRBJ   \n",
       "331037  B074CR89QG   \n",
       "331038  B00DU5SRIY   \n",
       "331040  B09BWFX1L6   \n",
       "466031  B09LH36816   \n",
       "\n",
       "                                                                                                                                                                                  title  \\\n",
       "331036                                                                                                         Bounty Quick Size Paper Towels, White, 8 Family Rolls = 20 Regular Rolls   \n",
       "331037                                             Amazon Brand - Presto! Flex-a-Size Paper Towels, 158 Sheet Huge Roll, 12 Rolls (2 Packs of 6), Equivalent to 38 Regular Rolls, White   \n",
       "331038                                                                                                              Stardrops - The Pink Stuff - The Miracle All Purpose Cleaning Paste   \n",
       "331040                                                                               Amazon Basics 2-Ply Paper Towels, Flex-Sheets, 150 Sheets per Roll, 12 Rolls (2 Packs of 6), White   \n",
       "466031  Hismile v34 Colour Corrector, Tooth Stain Removal, Teeth Whitening Booster, Purple Toothpaste, Colour Correcting, Hismile V34, Hismile Colour Corrector, Tooth Colour Corrector   \n",
       "\n",
       "        stars  reviews  price  listPrice  category_id  isBestSeller  \\\n",
       "331036    4.8        0  24.42       0.00          167             1   \n",
       "331037    4.7        0  28.28       0.00          167             0   \n",
       "331038    4.4        0   4.99       5.97          167             1   \n",
       "331040    4.2        0  22.86       0.00          167             0   \n",
       "466031    3.4        0  20.69      29.00          126             1   \n",
       "\n",
       "        boughtInLastMonth                category_name    revenue  \n",
       "331036             100000  Household Cleaning Supplies  2442000.0  \n",
       "331037             100000  Household Cleaning Supplies  2828000.0  \n",
       "331038             100000  Household Cleaning Supplies   499000.0  \n",
       "331040             100000  Household Cleaning Supplies  2286000.0  \n",
       "466031             100000           Oral Care Products  2069000.0  "
      ]
     },
     "execution_count": 48,
     "metadata": {},
     "output_type": "execute_result"
    }
   ],
   "source": [
    "top_20_products_bought_in_last_month = merged_df.nlargest(20, 'boughtInLastMonth')\n",
    "top_20_products_bought_in_last_month.head(5)"
   ]
  },
  {
   "cell_type": "markdown",
   "metadata": {},
   "source": [
    "display the same on a graph and visualise the top product names across all product cateogries"
   ]
  },
  {
   "cell_type": "code",
   "execution_count": 49,
   "metadata": {},
   "outputs": [
    {
     "data": {
      "image/png": "[encoded data removed]",
      "text/plain": [
       "<Figure size 1800x1000 with 1 Axes>"
      ]
     },
     "metadata": {},
     "output_type": "display_data"
    }
   ],
   "source": [
    "\n",
    "# Sort dataframe by 'BoughtInLastMonth' in descending order and select the top 20 products\n",
    "top_20_products_bought_in_last_month = merged_df.nlargest(20, 'boughtInLastMonth')\n",
    "\n",
    "# create an interactive bar chart\n",
    "# Create bar chart\n",
    "plt.figure(figsize=(18,10)) # makes the chart wider for readability\n",
    "\n",
    "# Custom colors — 20 different colors\n",
    "color = plt.cm.tab20.colors  # You can also try plt.cm.Set3, plt.cm.Pastel1, etc.\n",
    "# Plot bars and keep a handle to add legend\n",
    "bars = plt.bar(top_20_products_bought_in_last_month['category_name'], top_20_products_bought_in_last_month['boughtInLastMonth'], color=color)\n",
    "\n",
    "# Legend with cateogry names\n",
    "plt.legend(bars, top_20_products_bought_in_last_month['title'], title=\"products\", bbox_to_anchor=(1.05, 1), loc='upper left')\n",
    "\n",
    "\n",
    "# Formatting\n",
    "plt.title('Top 20 Products Bought in the last Month')\n",
    "plt.xlabel('Category Name')\n",
    "plt.ylabel('Bought In the Last Month')\n",
    "\n",
    "plt.show()\n"
   ]
  },
  {
   "cell_type": "markdown",
   "metadata": {},
   "source": [
    "The graph shows the top 20 products which were bought in the last month."
   ]
  },
  {
   "cell_type": "markdown",
   "metadata": {},
   "source": [
    "To make the graph easier to view below is an interactive graph show the same as the above."
   ]
  },
  {
   "cell_type": "code",
   "execution_count": 50,
   "metadata": {},
   "outputs": [
    {
     "data": {
      "application/vnd.plotly.v1+json": {
       "config": {
        "plotlyServerURL": "https://plot.ly"
       },
       "data": [
        {
         "customdata": [
          [
           "Bounty Quick Size Paper Towels, White, 8 Family Rolls = 20 Regular Rolls",
           24.42,
           0,
           4.8,
           1
          ],
          [
           "Amazon Brand - Presto! Flex-a-Size Paper Towels, 158 Sheet Huge Roll, 12 Rolls (2 Packs of 6), Equivalent to 38 Regular Rolls, White",
           28.28,
           0,
           4.7,
           0
          ],
          [
           "Stardrops - The Pink Stuff - The Miracle All Purpose Cleaning Paste",
           4.99,
           0,
           4.4,
           1
          ],
          [
           "Amazon Basics 2-Ply Paper Towels, Flex-Sheets, 150 Sheets per Roll, 12 Rolls (2 Packs of 6), White",
           22.86,
           0,
           4.2,
           0
          ],
          [
           "Amazon Basics Tall Kitchen Drawstring Trash Bags, 13 Gallon, Unscented, 120 Count (Previously Solimo)",
           18.88,
           0,
           4.7,
           1
          ],
          [
           "Sparkle® Pick-A-Size® Paper Towels, 6 Double Rolls = 12 Regular Rolls",
           7.28,
           0,
           4.6,
           0
          ],
          [
           "Clorox Toilet Wand Disinfecting Refills, Bathroom Cleaning, Toilet Brush Heads, Disposable Wand Heads, Blue Original, 30 Count",
           18.89,
           0,
           4.7,
           1
          ]
         ],
         "hovertemplate": "category_name=%{x}<br>Bought in Last Month=%{y}<br>title=%{customdata[0]}<br>price=%{customdata[1]}<br>reviews=%{customdata[2]}<br>stars=%{customdata[3]}<br>isBestSeller=%{customdata[4]}<extra></extra>",
         "legendgroup": "Household Cleaning Supplies",
         "marker": {
          "color": "#636efa",
          "pattern": {
           "shape": ""
          }
         },
         "name": "Household Cleaning Supplies",
         "orientation": "v",
         "showlegend": true,
         "textposition": "auto",
         "type": "bar",
         "x": [
          "Household Cleaning Supplies",
          "Household Cleaning Supplies",
          "Household Cleaning Supplies",
          "Household Cleaning Supplies",
          "Household Cleaning Supplies",
          "Household Cleaning Supplies",
          "Household Cleaning Supplies"
         ],
         "xaxis": "x",
         "y": {
          "bdata": "oIYBAKCGAQCghgEAoIYBAJBfAQCQXwEAgDgBAA==",
          "dtype": "i4"
         },
         "yaxis": "y"
        },
        {
         "customdata": [
          [
           "Hismile v34 Colour Corrector, Tooth Stain Removal, Teeth Whitening Booster, Purple Toothpaste, Colour Correcting, Hismile V34, Hismile Colour Corrector, Tooth Colour Corrector",
           20.69,
           0,
           3.4,
           1
          ],
          [
           "TheraBreath Fresh Breath Mouthwash, Icy Mint Flavor, Alcohol-Free, 16 Fl Oz (2-Pack)",
           15.34,
           0,
           4.8,
           1
          ]
         ],
         "hovertemplate": "category_name=%{x}<br>Bought in Last Month=%{y}<br>title=%{customdata[0]}<br>price=%{customdata[1]}<br>reviews=%{customdata[2]}<br>stars=%{customdata[3]}<br>isBestSeller=%{customdata[4]}<extra></extra>",
         "legendgroup": "Oral Care Products",
         "marker": {
          "color": "#EF553B",
          "pattern": {
           "shape": ""
          }
         },
         "name": "Oral Care Products",
         "orientation": "v",
         "showlegend": true,
         "textposition": "auto",
         "type": "bar",
         "x": [
          "Oral Care Products",
          "Oral Care Products"
         ],
         "xaxis": "x",
         "y": {
          "bdata": "oIYBAIA4AQA=",
          "dtype": "i4"
         },
         "yaxis": "y"
        },
        {
         "customdata": [
          [
           "LMNT Zero-Sugar Electrolytes - Variety Salt - Hydration Powder Packets | No Artificial Ingredients | Keto & Paleo Friendly | 12 Sticks",
           25,
           0,
           4.5,
           0
          ],
          [
           "Liquid I.V. Hydration Multiplier - Lemon Lime - Hydration Powder Packets | Electrolyte Drink Mix | Easy Open Single-Serving | Non-GMO | 16 Sticks",
           23.45,
           0,
           4.7,
           1
          ],
          [
           "Nutricost Creatine Monohydrate Micronized Powder 500G, 5000mg Per Serv (5g) - Micronized Creatine Monohydrate, 100 Servings",
           23.5,
           0,
           4.7,
           1
          ]
         ],
         "hovertemplate": "category_name=%{x}<br>Bought in Last Month=%{y}<br>title=%{customdata[0]}<br>price=%{customdata[1]}<br>reviews=%{customdata[2]}<br>stars=%{customdata[3]}<br>isBestSeller=%{customdata[4]}<extra></extra>",
         "legendgroup": "Sports Nutrition Products",
         "marker": {
          "color": "#00cc96",
          "pattern": {
           "shape": ""
          }
         },
         "name": "Sports Nutrition Products",
         "orientation": "v",
         "showlegend": true,
         "textposition": "auto",
         "type": "bar",
         "x": [
          "Sports Nutrition Products",
          "Sports Nutrition Products",
          "Sports Nutrition Products"
         ],
         "xaxis": "x",
         "y": {
          "bdata": "oIYBAJBfAQCAOAEA",
          "dtype": "i4"
         },
         "yaxis": "y"
        },
        {
         "customdata": [
          [
           "Nespresso Capsules VertuoLine, Medium and Dark Roast Coffee, Variety Pack, Stormio, Odacio, Melozio, 30 Count, Brews 7.77 Fl Oz (Pack of 3 )",
           37.5,
           0,
           4.8,
           0
          ],
          [
           "Dixie Paper Plates, 8 1/2 inch, Dinner Size Printed Disposable Plate, 90 Count",
           5.99,
           0,
           4.8,
           1
          ],
          [
           "Nespresso Capsules VertuoLine, Melozio, Medium Roast Coffee, Coffee Pods, Brews 7.77 Fl Ounce (VERTUOLINE ONLY), 10 Count (Pack of 3)",
           37.5,
           0,
           4.8,
           0
          ]
         ],
         "hovertemplate": "category_name=%{x}<br>Bought in Last Month=%{y}<br>title=%{customdata[0]}<br>price=%{customdata[1]}<br>reviews=%{customdata[2]}<br>stars=%{customdata[3]}<br>isBestSeller=%{customdata[4]}<extra></extra>",
         "legendgroup": "Kitchen & Dining",
         "marker": {
          "color": "#ab63fa",
          "pattern": {
           "shape": ""
          }
         },
         "name": "Kitchen & Dining",
         "orientation": "v",
         "showlegend": true,
         "textposition": "auto",
         "type": "bar",
         "x": [
          "Kitchen & Dining",
          "Kitchen & Dining",
          "Kitchen & Dining"
         ],
         "xaxis": "x",
         "y": {
          "bdata": "oIYBAKCGAQCAOAEA",
          "dtype": "i4"
         },
         "yaxis": "y"
        },
        {
         "customdata": [
          [
           "essence | Lash Princess False Lash Effect Mascara | Gluten & Cruelty Free",
           4.99,
           346563,
           4.3,
           1
          ]
         ],
         "hovertemplate": "category_name=%{x}<br>Bought in Last Month=%{y}<br>title=%{customdata[0]}<br>price=%{customdata[1]}<br>reviews=%{customdata[2]}<br>stars=%{customdata[3]}<br>isBestSeller=%{customdata[4]}<extra></extra>",
         "legendgroup": "Makeup",
         "marker": {
          "color": "#FFA15A",
          "pattern": {
           "shape": ""
          }
         },
         "name": "Makeup",
         "orientation": "v",
         "showlegend": true,
         "textposition": "auto",
         "type": "bar",
         "x": [
          "Makeup"
         ],
         "xaxis": "x",
         "y": {
          "bdata": "oIYBAA==",
          "dtype": "i4"
         },
         "yaxis": "y"
        },
        {
         "customdata": [
          [
           "COSRX Snail Mucin 96% Power Repairing Essence 3.38 fl.oz 100ml, Hydrating Serum for Face with Snail Secretion Filtrate for Dull & Damaged Skin, Not Tested on Animals, No Parabens, Korean Skincare",
           15,
           0,
           4.6,
           1
          ],
          [
           "Mighty Patch Original from Hero Cosmetics - Hydrocolloid Acne Pimple Patch for Covering Zits and Blemishes, Spot Stickers for Face and Skin, Vegan-friendly and Not Tested on Animals (36 Count)",
           11.97,
           0,
           4.5,
           1
          ],
          [
           "Neutrogena Cleansing Fragrance Free Makeup Remover Face Wipes, Cleansing Facial Towelettes for Waterproof Makeup, Alcohol-Free, Unscented, 100% Plant-Based Fibers, Twin Pack, 2 x 25 ct",
           10.27,
           0,
           4.8,
           1
          ],
          [
           "CeraVe Moisturizing Cream | Body and Face Moisturizer for Dry Skin | Body Cream with Hyaluronic Acid and Ceramides | Hydrating Moisturizer | Fragrance Free Non-Comedogenic | 19 Ounce",
           17.78,
           0,
           4.8,
           1
          ]
         ],
         "hovertemplate": "category_name=%{x}<br>Bought in Last Month=%{y}<br>title=%{customdata[0]}<br>price=%{customdata[1]}<br>reviews=%{customdata[2]}<br>stars=%{customdata[3]}<br>isBestSeller=%{customdata[4]}<extra></extra>",
         "legendgroup": "Personal Care Products",
         "marker": {
          "color": "#19d3f3",
          "pattern": {
           "shape": ""
          }
         },
         "name": "Personal Care Products",
         "orientation": "v",
         "showlegend": true,
         "textposition": "auto",
         "type": "bar",
         "x": [
          "Personal Care Products",
          "Personal Care Products",
          "Personal Care Products",
          "Personal Care Products"
         ],
         "xaxis": "x",
         "y": {
          "bdata": "oIYBAKCGAQCghgEAkF8BAA==",
          "dtype": "i4"
         },
         "yaxis": "y"
        }
       ],
       "layout": {
        "barmode": "relative",
        "legend": {
         "title": {
          "text": "Category"
         },
         "tracegroupgap": 0
        },
        "showlegend": false,
        "template": {
         "data": {
          "bar": [
           {
            "error_x": {
             "color": "#2a3f5f"
            },
            "error_y": {
             "color": "#2a3f5f"
            },
            "marker": {
             "line": {
              "color": "#E5ECF6",
              "width": 0.5
             },
             "pattern": {
              "fillmode": "overlay",
              "size": 10,
              "solidity": 0.2
             }
            },
            "type": "bar"
           }
          ],
          "barpolar": [
           {
            "marker": {
             "line": {
              "color": "#E5ECF6",
              "width": 0.5
             },
             "pattern": {
              "fillmode": "overlay",
              "size": 10,
              "solidity": 0.2
             }
            },
            "type": "barpolar"
           }
          ],
          "carpet": [
           {
            "aaxis": {
             "endlinecolor": "#2a3f5f",
             "gridcolor": "white",
             "linecolor": "white",
             "minorgridcolor": "white",
             "startlinecolor": "#2a3f5f"
            },
            "baxis": {
             "endlinecolor": "#2a3f5f",
             "gridcolor": "white",
             "linecolor": "white",
             "minorgridcolor": "white",
             "startlinecolor": "#2a3f5f"
            },
            "type": "carpet"
           }
          ],
          "choropleth": [
           {
            "colorbar": {
             "outlinewidth": 0,
             "ticks": ""
            },
            "type": "choropleth"
           }
          ],
          "contour": [
           {
            "colorbar": {
             "outlinewidth": 0,
             "ticks": ""
            },
            "colorscale": [
             [
              0,
              "#0d0887"
             ],
             [
              0.1111111111111111,
              "#46039f"
             ],
             [
              0.2222222222222222,
              "#7201a8"
             ],
             [
              0.3333333333333333,
              "#9c179e"
             ],
             [
              0.4444444444444444,
              "#bd3786"
             ],
             [
              0.5555555555555556,
              "#d8576b"
             ],
             [
              0.6666666666666666,
              "#ed7953"
             ],
             [
              0.7777777777777778,
              "#fb9f3a"
             ],
             [
              0.8888888888888888,
              "#fdca26"
             ],
             [
              1,
              "#f0f921"
             ]
            ],
            "type": "contour"
           }
          ],
          "contourcarpet": [
           {
            "colorbar": {
             "outlinewidth": 0,
             "ticks": ""
            },
            "type": "contourcarpet"
           }
          ],
          "heatmap": [
           {
            "colorbar": {
             "outlinewidth": 0,
             "ticks": ""
            },
            "colorscale": [
             [
              0,
              "#0d0887"
             ],
             [
              0.1111111111111111,
              "#46039f"
             ],
             [
              0.2222222222222222,
              "#7201a8"
             ],
             [
              0.3333333333333333,
              "#9c179e"
             ],
             [
              0.4444444444444444,
              "#bd3786"
             ],
             [
              0.5555555555555556,
              "#d8576b"
             ],
             [
              0.6666666666666666,
              "#ed7953"
             ],
             [
              0.7777777777777778,
              "#fb9f3a"
             ],
             [
              0.8888888888888888,
              "#fdca26"
             ],
             [
              1,
              "#f0f921"
             ]
            ],
            "type": "heatmap"
           }
          ],
          "histogram": [
           {
            "marker": {
             "pattern": {
              "fillmode": "overlay",
              "size": 10,
              "solidity": 0.2
             }
            },
            "type": "histogram"
           }
          ],
          "histogram2d": [
           {
            "colorbar": {
             "outlinewidth": 0,
             "ticks": ""
            },
            "colorscale": [
             [
              0,
              "#0d0887"
             ],
             [
              0.1111111111111111,
              "#46039f"
             ],
             [
              0.2222222222222222,
              "#7201a8"
             ],
             [
              0.3333333333333333,
              "#9c179e"
             ],
             [
              0.4444444444444444,
              "#bd3786"
             ],
             [
              0.5555555555555556,
              "#d8576b"
             ],
             [
              0.6666666666666666,
              "#ed7953"
             ],
             [
              0.7777777777777778,
              "#fb9f3a"
             ],
             [
              0.8888888888888888,
              "#fdca26"
             ],
             [
              1,
              "#f0f921"
             ]
            ],
            "type": "histogram2d"
           }
          ],
          "histogram2dcontour": [
           {
            "colorbar": {
             "outlinewidth": 0,
             "ticks": ""
            },
            "colorscale": [
             [
              0,
              "#0d0887"
             ],
             [
              0.1111111111111111,
              "#46039f"
             ],
             [
              0.2222222222222222,
              "#7201a8"
             ],
             [
              0.3333333333333333,
              "#9c179e"
             ],
             [
              0.4444444444444444,
              "#bd3786"
             ],
             [
              0.5555555555555556,
              "#d8576b"
             ],
             [
              0.6666666666666666,
              "#ed7953"
             ],
             [
              0.7777777777777778,
              "#fb9f3a"
             ],
             [
              0.8888888888888888,
              "#fdca26"
             ],
             [
              1,
              "#f0f921"
             ]
            ],
            "type": "histogram2dcontour"
           }
          ],
          "mesh3d": [
           {
            "colorbar": {
             "outlinewidth": 0,
             "ticks": ""
            },
            "type": "mesh3d"
           }
          ],
          "parcoords": [
           {
            "line": {
             "colorbar": {
              "outlinewidth": 0,
              "ticks": ""
             }
            },
            "type": "parcoords"
           }
          ],
          "pie": [
           {
            "automargin": true,
            "type": "pie"
           }
          ],
          "scatter": [
           {
            "fillpattern": {
             "fillmode": "overlay",
             "size": 10,
             "solidity": 0.2
            },
            "type": "scatter"
           }
          ],
          "scatter3d": [
           {
            "line": {
             "colorbar": {
              "outlinewidth": 0,
              "ticks": ""
             }
            },
            "marker": {
             "colorbar": {
              "outlinewidth": 0,
              "ticks": ""
             }
            },
            "type": "scatter3d"
           }
          ],
          "scattercarpet": [
           {
            "marker": {
             "colorbar": {
              "outlinewidth": 0,
              "ticks": ""
             }
            },
            "type": "scattercarpet"
           }
          ],
          "scattergeo": [
           {
            "marker": {
             "colorbar": {
              "outlinewidth": 0,
              "ticks": ""
             }
            },
            "type": "scattergeo"
           }
          ],
          "scattergl": [
           {
            "marker": {
             "colorbar": {
              "outlinewidth": 0,
              "ticks": ""
             }
            },
            "type": "scattergl"
           }
          ],
          "scattermap": [
           {
            "marker": {
             "colorbar": {
              "outlinewidth": 0,
              "ticks": ""
             }
            },
            "type": "scattermap"
           }
          ],
          "scattermapbox": [
           {
            "marker": {
             "colorbar": {
              "outlinewidth": 0,
              "ticks": ""
             }
            },
            "type": "scattermapbox"
           }
          ],
          "scatterpolar": [
           {
            "marker": {
             "colorbar": {
              "outlinewidth": 0,
              "ticks": ""
             }
            },
            "type": "scatterpolar"
           }
          ],
          "scatterpolargl": [
           {
            "marker": {
             "colorbar": {
              "outlinewidth": 0,
              "ticks": ""
             }
            },
            "type": "scatterpolargl"
           }
          ],
          "scatterternary": [
           {
            "marker": {
             "colorbar": {
              "outlinewidth": 0,
              "ticks": ""
             }
            },
            "type": "scatterternary"
           }
          ],
          "surface": [
           {
            "colorbar": {
             "outlinewidth": 0,
             "ticks": ""
            },
            "colorscale": [
             [
              0,
              "#0d0887"
             ],
             [
              0.1111111111111111,
              "#46039f"
             ],
             [
              0.2222222222222222,
              "#7201a8"
             ],
             [
              0.3333333333333333,
              "#9c179e"
             ],
             [
              0.4444444444444444,
              "#bd3786"
             ],
             [
              0.5555555555555556,
              "#d8576b"
             ],
             [
              0.6666666666666666,
              "#ed7953"
             ],
             [
              0.7777777777777778,
              "#fb9f3a"
             ],
             [
              0.8888888888888888,
              "#fdca26"
             ],
             [
              1,
              "#f0f921"
             ]
            ],
            "type": "surface"
           }
          ],
          "table": [
           {
            "cells": {
             "fill": {
              "color": "#EBF0F8"
             },
             "line": {
              "color": "white"
             }
            },
            "header": {
             "fill": {
              "color": "#C8D4E3"
             },
             "line": {
              "color": "white"
             }
            },
            "type": "table"
           }
          ]
         },
         "layout": {
          "annotationdefaults": {
           "arrowcolor": "#2a3f5f",
           "arrowhead": 0,
           "arrowwidth": 1
          },
          "autotypenumbers": "strict",
          "coloraxis": {
           "colorbar": {
            "outlinewidth": 0,
            "ticks": ""
           }
          },
          "colorscale": {
           "diverging": [
            [
             0,
             "#8e0152"
            ],
            [
             0.1,
             "#c51b7d"
            ],
            [
             0.2,
             "#de77ae"
            ],
            [
             0.3,
             "#f1b6da"
            ],
            [
             0.4,
             "#fde0ef"
            ],
            [
             0.5,
             "#f7f7f7"
            ],
            [
             0.6,
             "#e6f5d0"
            ],
            [
             0.7,
             "#b8e186"
            ],
            [
             0.8,
             "#7fbc41"
            ],
            [
             0.9,
             "#4d9221"
            ],
            [
             1,
             "#276419"
            ]
           ],
           "sequential": [
            [
             0,
             "#0d0887"
            ],
            [
             0.1111111111111111,
             "#46039f"
            ],
            [
             0.2222222222222222,
             "#7201a8"
            ],
            [
             0.3333333333333333,
             "#9c179e"
            ],
            [
             0.4444444444444444,
             "#bd3786"
            ],
            [
             0.5555555555555556,
             "#d8576b"
            ],
            [
             0.6666666666666666,
             "#ed7953"
            ],
            [
             0.7777777777777778,
             "#fb9f3a"
            ],
            [
             0.8888888888888888,
             "#fdca26"
            ],
            [
             1,
             "#f0f921"
            ]
           ],
           "sequentialminus": [
            [
             0,
             "#0d0887"
            ],
            [
             0.1111111111111111,
             "#46039f"
            ],
            [
             0.2222222222222222,
             "#7201a8"
            ],
            [
             0.3333333333333333,
             "#9c179e"
            ],
            [
             0.4444444444444444,
             "#bd3786"
            ],
            [
             0.5555555555555556,
             "#d8576b"
            ],
            [
             0.6666666666666666,
             "#ed7953"
            ],
            [
             0.7777777777777778,
             "#fb9f3a"
            ],
            [
             0.8888888888888888,
             "#fdca26"
            ],
            [
             1,
             "#f0f921"
            ]
           ]
          },
          "colorway": [
           "#636efa",
           "#EF553B",
           "#00cc96",
           "#ab63fa",
           "#FFA15A",
           "#19d3f3",
           "#FF6692",
           "#B6E880",
           "#FF97FF",
           "#FECB52"
          ],
          "font": {
           "color": "#2a3f5f"
          },
          "geo": {
           "bgcolor": "white",
           "lakecolor": "white",
           "landcolor": "#E5ECF6",
           "showlakes": true,
           "showland": true,
           "subunitcolor": "white"
          },
          "hoverlabel": {
           "align": "left"
          },
          "hovermode": "closest",
          "mapbox": {
           "style": "light"
          },
          "paper_bgcolor": "white",
          "plot_bgcolor": "#E5ECF6",
          "polar": {
           "angularaxis": {
            "gridcolor": "white",
            "linecolor": "white",
            "ticks": ""
           },
           "bgcolor": "#E5ECF6",
           "radialaxis": {
            "gridcolor": "white",
            "linecolor": "white",
            "ticks": ""
           }
          },
          "scene": {
           "xaxis": {
            "backgroundcolor": "#E5ECF6",
            "gridcolor": "white",
            "gridwidth": 2,
            "linecolor": "white",
            "showbackground": true,
            "ticks": "",
            "zerolinecolor": "white"
           },
           "yaxis": {
            "backgroundcolor": "#E5ECF6",
            "gridcolor": "white",
            "gridwidth": 2,
            "linecolor": "white",
            "showbackground": true,
            "ticks": "",
            "zerolinecolor": "white"
           },
           "zaxis": {
            "backgroundcolor": "#E5ECF6",
            "gridcolor": "white",
            "gridwidth": 2,
            "linecolor": "white",
            "showbackground": true,
            "ticks": "",
            "zerolinecolor": "white"
           }
          },
          "shapedefaults": {
           "line": {
            "color": "#2a3f5f"
           }
          },
          "ternary": {
           "aaxis": {
            "gridcolor": "white",
            "linecolor": "white",
            "ticks": ""
           },
           "baxis": {
            "gridcolor": "white",
            "linecolor": "white",
            "ticks": ""
           },
           "bgcolor": "#E5ECF6",
           "caxis": {
            "gridcolor": "white",
            "linecolor": "white",
            "ticks": ""
           }
          },
          "title": {
           "x": 0.05
          },
          "xaxis": {
           "automargin": true,
           "gridcolor": "white",
           "linecolor": "white",
           "ticks": "",
           "title": {
            "standoff": 15
           },
           "zerolinecolor": "white",
           "zerolinewidth": 2
          },
          "yaxis": {
           "automargin": true,
           "gridcolor": "white",
           "linecolor": "white",
           "ticks": "",
           "title": {
            "standoff": 15
           },
           "zerolinecolor": "white",
           "zerolinewidth": 2
          }
         }
        },
        "title": {
         "text": "Top 20 Products Bought in the Last Month"
        },
        "xaxis": {
         "anchor": "y",
         "categoryarray": [
          "Household Cleaning Supplies",
          "Oral Care Products",
          "Sports Nutrition Products",
          "Kitchen & Dining",
          "Makeup",
          "Personal Care Products"
         ],
         "categoryorder": "array",
         "domain": [
          0,
          1
         ],
         "tickangle": 45,
         "title": {
          "text": "Category Name"
         }
        },
        "yaxis": {
         "anchor": "x",
         "domain": [
          0,
          1
         ],
         "title": {
          "text": "Bought in the Last Month"
         }
        }
       }
      }
     },
     "metadata": {},
     "output_type": "display_data"
    }
   ],
   "source": [
    "# Dataframes to use in graph\n",
    "# Select the top 20 products\n",
    "top_20_products_bought_in_last_month = merged_df.nlargest(20, 'boughtInLastMonth')\n",
    "\n",
    "# Sort by 'boughtInLastMonth' to control x-axis order\n",
    "top_20_products_bought_in_last_month = top_20_products_bought_in_last_month.sort_values(\n",
    "    by='boughtInLastMonth', ascending=False\n",
    ")\n",
    "# Create interactive bar chart\n",
    "fig = px.bar(\n",
    "    top_20_products_bought_in_last_month,\n",
    "    x='category_name',\n",
    "    y='boughtInLastMonth',\n",
    "    color='category_name',  # optional for color distinction\n",
    "    hover_data=['title', 'boughtInLastMonth', 'price', 'reviews', 'stars', 'isBestSeller'],  # what to show on hover\n",
    "    labels={'boughtInLastMonth': 'Bought in Last Month'},\n",
    "    title='Top 20 Products Bought in the Last Month'\n",
    ")\n",
    "\n",
    "# Update layout for readability\n",
    "fig.update_layout(\n",
    "    xaxis_title='Category Name',\n",
    "    yaxis_title='Bought in the Last Month',\n",
    "    xaxis_tickangle=45,\n",
    "    legend_title='Category',\n",
    "    showlegend=False  # Hide default legend since hover shows product name\n",
    ")\n",
    "\n",
    "# Show the interactive chart\n",
    "fig.show()\n"
   ]
  },
  {
   "cell_type": "markdown",
   "metadata": {},
   "source": [
    "- By hovering your mouse over the graph you can easily view and get an insight of the product bought in the last month by product category and the exact product which was purchased.\n",
    "- We can see exactly how many of these products were bought last month.\n",
    "\n",
    "/* \n",
    "github cant view plotly.express graphs \n",
    "Link to interactive graph: https://www.dropbox.com/scl/fi/c7322y7g63ha6ulfwy3a3/interactive_plot.html?rlkey=x0ivrsw2sgdqjwxjetdh1evev&st=lkgvwlue&dl=0\n",
    "*/"
   ]
  },
  {
   "cell_type": "markdown",
   "metadata": {},
   "source": [
    "# Conclusion / Key Insights"
   ]
  },
  {
   "cell_type": "markdown",
   "metadata": {},
   "source": [
    "- Only 0.6% of the products (8,520 out of ~1.42 million) are labeled as Best Sellers, while 99.4% are not.\n",
    "- Out of all purchases made in the last month, 9.8% were Best Seller products, and 90.2% were non-Best Sellers. This indicates that Best Sellers, although a small subset, have a notable impact on monthly purchases.\n",
    "- Kitchen& Dining, Hair and skin care, industrial and scientific, household cleaning products were amoungst the top categories with the high purchase volumes.\n",
    "\n",
    "The top rated products which were also in the top 20 categories of most sales with a minimum of 550 reviews where:\n",
    "- Toys & Games\n",
    "- Home Decor Products\n",
    "- Foot, Hand, Nail care products\n",
    "- Beauty tools & accessories\n",
    "- Skin care products\n",
    "- Makeup\n",
    "\n",
    "Top products which where bought in the last month regardless of views and ratings:\n",
    "- Household cleaning supplies\n",
    "- Oral care products\n",
    "- Sports nutrition products\n",
    "- Kitchen & dining\n",
    "- Makeup\n",
    "- Person care products\n",
    "\n",
    "<br>\n",
    "\n",
    "The most sought after product is a makeup product with $100K in sales is Lash Princess False Lash Effect Mascara which is also a best seller and has over 300K reviews and is only priced at $4.99.\n",
    "<br>\n",
    "This would be the ideal product to market and sell due to the high demand and cheap price of the product."
   ]
  }
 ],
 "metadata": {
  "kernelspec": {
   "display_name": "Python 3",
   "language": "python",
   "name": "python3"
  },
  "language_info": {
   "codemirror_mode": {
    "name": "ipython",
    "version": 3
   },
   "file_extension": ".py",
   "mimetype": "text/x-python",
   "name": "python",
   "nbconvert_exporter": "python",
   "pygments_lexer": "ipython3",
   "version": "3.10.1"
  }
 },
 "nbformat": 4,
 "nbformat_minor": 2
}
