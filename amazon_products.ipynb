{
 "cells": [
  {
   "cell_type": "markdown",
   "metadata": {},
   "source": [
    "# Amazon Products 2023 (1.4M Products)"
   ]
  },
  {
   "cell_type": "markdown",
   "metadata": {},
   "source": [
    "## Dataset\n",
    "Due to the dataset exceeding 100 MiB which GitHub blocks files larger than 100 MiB please see the below link to the full dataset.\n",
    "\n",
    "https://www.kaggle.com/datasets/asaniczka/amazon-products-dataset-2023-1-4m-products/data\n"
   ]
  },
  {
   "cell_type": "markdown",
   "metadata": {},
   "source": [
    "Project Goal:\n",
    "EDA with python\n",
    "\n",
    "also create tableau dashboard.\n",
    "\n",
    "Planning:\n",
    "\n",
    "Conduct EDA for Amazon products\n",
    "join the two datasets together.\n",
    "identify patterns & trends \n",
    "explore  any correlations in the data\n",
    "viz findings\n",
    "\n"
   ]
  },
  {
   "cell_type": "markdown",
   "metadata": {},
   "source": [
    "# Project Objective\n",
    "project ideas draft:\n",
    "- which cateogires drive the most sales?\n",
    "- Do customers ratings and reviews impact sales?\n",
    "- Identify which niches are the easiest to make sales in?\n",
    "- do customer ratings have much impact on sales?\n",
    "\n",
    "\n",
    "Final objectives:\n",
    "- <b>Analyse Sales Performance Across Categories:</b> Identify which product categories contribute the most to total sales.\n",
    "\n",
    "- <b>Assess the Impact of Customer Ratings & reviews on Sales:</b> Investigate whether higher-rated products generate more sales compared to lower-rated ones.\n",
    "\n",
    "- <b>Determine Profitable Niches:</b> Explore which niches have the highest conversion rates and consistent sales trends."
   ]
  },
  {
   "cell_type": "markdown",
   "metadata": {},
   "source": [
    "# Step 1: Import Libraries"
   ]
  },
  {
   "cell_type": "code",
   "execution_count": 1,
   "metadata": {},
   "outputs": [],
   "source": [
    "import pandas as pd\n",
    "import matplotlib.pyplot as plt\n",
    "import seaborn as sns\n",
    "import csv"
   ]
  },
  {
   "cell_type": "markdown",
   "metadata": {},
   "source": [
    "# Step 2: Load Datasets"
   ]
  },
  {
   "cell_type": "code",
   "execution_count": 2,
   "metadata": {},
   "outputs": [],
   "source": [
    "# loading datasets\n",
    "categories_df = pd.read_csv(\"C:\\\\Users\\\\Tim\\\\OneDrive\\\\Documents\\\\Projects\\\\Amazon Products 2023\\\\amazon_categories.csv\")\n",
    "products_df = pd.read_csv(\"C:\\\\Users\\\\Tim\\\\OneDrive\\\\Documents\\Projects\\\\Amazon Products 2023\\\\amazon_products.csv\")"
   ]
  },
  {
   "cell_type": "code",
   "execution_count": 3,
   "metadata": {},
   "outputs": [
    {
     "data": {
      "text/html": [
       "<div>\n",
       "<style scoped>\n",
       "    .dataframe tbody tr th:only-of-type {\n",
       "        vertical-align: middle;\n",
       "    }\n",
       "\n",
       "    .dataframe tbody tr th {\n",
       "        vertical-align: top;\n",
       "    }\n",
       "\n",
       "    .dataframe thead th {\n",
       "        text-align: right;\n",
       "    }\n",
       "</style>\n",
       "<table border=\"1\" class=\"dataframe\">\n",
       "  <thead>\n",
       "    <tr style=\"text-align: right;\">\n",
       "      <th></th>\n",
       "      <th>id</th>\n",
       "      <th>category_name</th>\n",
       "    </tr>\n",
       "  </thead>\n",
       "  <tbody>\n",
       "    <tr>\n",
       "      <th>0</th>\n",
       "      <td>1</td>\n",
       "      <td>Beading &amp; Jewelry Making</td>\n",
       "    </tr>\n",
       "    <tr>\n",
       "      <th>1</th>\n",
       "      <td>2</td>\n",
       "      <td>Fabric Decorating</td>\n",
       "    </tr>\n",
       "    <tr>\n",
       "      <th>2</th>\n",
       "      <td>3</td>\n",
       "      <td>Knitting &amp; Crochet Supplies</td>\n",
       "    </tr>\n",
       "    <tr>\n",
       "      <th>3</th>\n",
       "      <td>4</td>\n",
       "      <td>Printmaking Supplies</td>\n",
       "    </tr>\n",
       "    <tr>\n",
       "      <th>4</th>\n",
       "      <td>5</td>\n",
       "      <td>Scrapbooking &amp; Stamping Supplies</td>\n",
       "    </tr>\n",
       "  </tbody>\n",
       "</table>\n",
       "</div>"
      ],
      "text/plain": [
       "   id                     category_name\n",
       "0   1          Beading & Jewelry Making\n",
       "1   2                 Fabric Decorating\n",
       "2   3       Knitting & Crochet Supplies\n",
       "3   4              Printmaking Supplies\n",
       "4   5  Scrapbooking & Stamping Supplies"
      ]
     },
     "execution_count": 3,
     "metadata": {},
     "output_type": "execute_result"
    }
   ],
   "source": [
    "# view first few rows of each dataset\n",
    "categories_df.head()"
   ]
  },
  {
   "cell_type": "code",
   "execution_count": 4,
   "metadata": {},
   "outputs": [
    {
     "data": {
      "text/html": [
       "<div>\n",
       "<style scoped>\n",
       "    .dataframe tbody tr th:only-of-type {\n",
       "        vertical-align: middle;\n",
       "    }\n",
       "\n",
       "    .dataframe tbody tr th {\n",
       "        vertical-align: top;\n",
       "    }\n",
       "\n",
       "    .dataframe thead th {\n",
       "        text-align: right;\n",
       "    }\n",
       "</style>\n",
       "<table border=\"1\" class=\"dataframe\">\n",
       "  <thead>\n",
       "    <tr style=\"text-align: right;\">\n",
       "      <th></th>\n",
       "      <th>asin</th>\n",
       "      <th>title</th>\n",
       "      <th>imgUrl</th>\n",
       "      <th>productURL</th>\n",
       "      <th>stars</th>\n",
       "      <th>reviews</th>\n",
       "      <th>price</th>\n",
       "      <th>listPrice</th>\n",
       "      <th>category_id</th>\n",
       "      <th>isBestSeller</th>\n",
       "      <th>boughtInLastMonth</th>\n",
       "    </tr>\n",
       "  </thead>\n",
       "  <tbody>\n",
       "    <tr>\n",
       "      <th>0</th>\n",
       "      <td>B014TMV5YE</td>\n",
       "      <td>Sion Softside Expandable Roller Luggage, Black...</td>\n",
       "      <td>https://m.media-amazon.com/images/I/815dLQKYIY...</td>\n",
       "      <td>https://www.amazon.com/dp/B014TMV5YE</td>\n",
       "      <td>4.5</td>\n",
       "      <td>0</td>\n",
       "      <td>139.99</td>\n",
       "      <td>0.00</td>\n",
       "      <td>104</td>\n",
       "      <td>False</td>\n",
       "      <td>2000</td>\n",
       "    </tr>\n",
       "    <tr>\n",
       "      <th>1</th>\n",
       "      <td>B07GDLCQXV</td>\n",
       "      <td>Luggage Sets Expandable PC+ABS Durable Suitcas...</td>\n",
       "      <td>https://m.media-amazon.com/images/I/81bQlm7vf6...</td>\n",
       "      <td>https://www.amazon.com/dp/B07GDLCQXV</td>\n",
       "      <td>4.5</td>\n",
       "      <td>0</td>\n",
       "      <td>169.99</td>\n",
       "      <td>209.99</td>\n",
       "      <td>104</td>\n",
       "      <td>False</td>\n",
       "      <td>1000</td>\n",
       "    </tr>\n",
       "    <tr>\n",
       "      <th>2</th>\n",
       "      <td>B07XSCCZYG</td>\n",
       "      <td>Platinum Elite Softside Expandable Checked Lug...</td>\n",
       "      <td>https://m.media-amazon.com/images/I/71EA35zvJB...</td>\n",
       "      <td>https://www.amazon.com/dp/B07XSCCZYG</td>\n",
       "      <td>4.6</td>\n",
       "      <td>0</td>\n",
       "      <td>365.49</td>\n",
       "      <td>429.99</td>\n",
       "      <td>104</td>\n",
       "      <td>False</td>\n",
       "      <td>300</td>\n",
       "    </tr>\n",
       "    <tr>\n",
       "      <th>3</th>\n",
       "      <td>B08MVFKGJM</td>\n",
       "      <td>Freeform Hardside Expandable with Double Spinn...</td>\n",
       "      <td>https://m.media-amazon.com/images/I/91k6NYLQyI...</td>\n",
       "      <td>https://www.amazon.com/dp/B08MVFKGJM</td>\n",
       "      <td>4.6</td>\n",
       "      <td>0</td>\n",
       "      <td>291.59</td>\n",
       "      <td>354.37</td>\n",
       "      <td>104</td>\n",
       "      <td>False</td>\n",
       "      <td>400</td>\n",
       "    </tr>\n",
       "    <tr>\n",
       "      <th>4</th>\n",
       "      <td>B01DJLKZBA</td>\n",
       "      <td>Winfield 2 Hardside Expandable Luggage with Sp...</td>\n",
       "      <td>https://m.media-amazon.com/images/I/61NJoaZcP9...</td>\n",
       "      <td>https://www.amazon.com/dp/B01DJLKZBA</td>\n",
       "      <td>4.5</td>\n",
       "      <td>0</td>\n",
       "      <td>174.99</td>\n",
       "      <td>309.99</td>\n",
       "      <td>104</td>\n",
       "      <td>False</td>\n",
       "      <td>400</td>\n",
       "    </tr>\n",
       "  </tbody>\n",
       "</table>\n",
       "</div>"
      ],
      "text/plain": [
       "         asin                                              title  \\\n",
       "0  B014TMV5YE  Sion Softside Expandable Roller Luggage, Black...   \n",
       "1  B07GDLCQXV  Luggage Sets Expandable PC+ABS Durable Suitcas...   \n",
       "2  B07XSCCZYG  Platinum Elite Softside Expandable Checked Lug...   \n",
       "3  B08MVFKGJM  Freeform Hardside Expandable with Double Spinn...   \n",
       "4  B01DJLKZBA  Winfield 2 Hardside Expandable Luggage with Sp...   \n",
       "\n",
       "                                              imgUrl  \\\n",
       "0  https://m.media-amazon.com/images/I/815dLQKYIY...   \n",
       "1  https://m.media-amazon.com/images/I/81bQlm7vf6...   \n",
       "2  https://m.media-amazon.com/images/I/71EA35zvJB...   \n",
       "3  https://m.media-amazon.com/images/I/91k6NYLQyI...   \n",
       "4  https://m.media-amazon.com/images/I/61NJoaZcP9...   \n",
       "\n",
       "                             productURL  stars  reviews   price  listPrice  \\\n",
       "0  https://www.amazon.com/dp/B014TMV5YE    4.5        0  139.99       0.00   \n",
       "1  https://www.amazon.com/dp/B07GDLCQXV    4.5        0  169.99     209.99   \n",
       "2  https://www.amazon.com/dp/B07XSCCZYG    4.6        0  365.49     429.99   \n",
       "3  https://www.amazon.com/dp/B08MVFKGJM    4.6        0  291.59     354.37   \n",
       "4  https://www.amazon.com/dp/B01DJLKZBA    4.5        0  174.99     309.99   \n",
       "\n",
       "   category_id  isBestSeller  boughtInLastMonth  \n",
       "0          104         False               2000  \n",
       "1          104         False               1000  \n",
       "2          104         False                300  \n",
       "3          104         False                400  \n",
       "4          104         False                400  "
      ]
     },
     "execution_count": 4,
     "metadata": {},
     "output_type": "execute_result"
    }
   ],
   "source": [
    "products_df.head()"
   ]
  },
  {
   "cell_type": "markdown",
   "metadata": {},
   "source": [
    "# Step 3: Data Cleaning"
   ]
  },
  {
   "cell_type": "code",
   "execution_count": 5,
   "metadata": {},
   "outputs": [
    {
     "name": "stdout",
     "output_type": "stream",
     "text": [
      "categories_df Row Count: 248\n",
      "cateogires_df column Count: 2\n",
      "products_df Row Count: 1426337\n",
      "products_df Column Count: 11\n"
     ]
    }
   ],
   "source": [
    "# Check the number of rows and columns.\n",
    "cat_rows = categories_df.shape[0] # Gives num of rows\n",
    "cat_col = categories_df.shape[1] # gives num of cols\n",
    "prod_row = products_df.shape[0] # Gives num of rows\n",
    "prod_col = products_df.shape[1] # gives num of cols\n",
    "\n",
    "print(\"categories_df Row Count: \" + str(cat_rows))\n",
    "print(\"cateogires_df column Count: \" + str(cat_col))\n",
    "\n",
    "print(\"products_df Row Count: \" + str(prod_row))\n",
    "print(\"products_df Column Count: \" + str(prod_col))"
   ]
  },
  {
   "cell_type": "code",
   "execution_count": 6,
   "metadata": {},
   "outputs": [
    {
     "name": "stdout",
     "output_type": "stream",
     "text": [
      "id               0\n",
      "category_name    0\n",
      "dtype: int64\n",
      "asin                 0\n",
      "title                1\n",
      "imgUrl               0\n",
      "productURL           0\n",
      "stars                0\n",
      "reviews              0\n",
      "price                0\n",
      "listPrice            0\n",
      "category_id          0\n",
      "isBestSeller         0\n",
      "boughtInLastMonth    0\n",
      "dtype: int64\n"
     ]
    }
   ],
   "source": [
    "# Identify any missing values\n",
    "print(categories_df.isnull().sum())\n",
    "print(products_df.isnull().sum())"
   ]
  },
  {
   "cell_type": "code",
   "execution_count": 7,
   "metadata": {},
   "outputs": [
    {
     "name": "stdout",
     "output_type": "stream",
     "text": [
      "               asin title                                             imgUrl  \\\n",
      "1206102  B00758A9CE   NaN  https://m.media-amazon.com/images/I/71+50RU8o2...   \n",
      "\n",
      "                                   productURL  stars  reviews  price  \\\n",
      "1206102  https://www.amazon.com/dp/B00758A9CE    5.0        0  33.08   \n",
      "\n",
      "         listPrice  category_id  isBestSeller  boughtInLastMonth  \n",
      "1206102        0.0           19         False                  0  \n"
     ]
    }
   ],
   "source": [
    "# find the null value in products_df \n",
    "missing_title = products_df[products_df['title'].isnull()]\n",
    "print(missing_title)"
   ]
  },
  {
   "cell_type": "code",
   "execution_count": 8,
   "metadata": {},
   "outputs": [
    {
     "name": "stdout",
     "output_type": "stream",
     "text": [
      "               asin                                              title  \\\n",
      "1198836  B09DH98QL2  Chemical Guys HOL363 16-Piece Arsenal Builder ...   \n",
      "1198837  B0C6DZZ4MN  Car Wash Kit -Car Wash Cleaning Kit Car Interi...   \n",
      "1198838  B0CBZ12S15  Car Vacuum Cleaner High Power Cordless, 16000p...   \n",
      "1198839  B08BRJHJF9  Microfiber Cleaning Cloth Grey - 12 packs 16\"x...   \n",
      "1198840  B06ZY896ZM  ThisWorx Car Vacuum Cleaner - Car Accessories ...   \n",
      "...             ...                                                ...   \n",
      "1207490  B093Q3RKB5  Car Cleaning Kit Buffing Pads Sponge Waxing an...   \n",
      "1207491  B093CLN9YG  VViViD Essentials Car Cleaning, Waxing and Pol...   \n",
      "1207492  B08RCV9DTM  Tires and Plastic Restoration - Professional C...   \n",
      "1207493  B08HRMRJ95  Cleaning Washcloth Towels - Large 27\" x 16\" Mi...   \n",
      "1207494  B08GG9W1WJ                Collinite 845 476s Double 520 Combo   \n",
      "\n",
      "                                                    imgUrl  \\\n",
      "1198836  https://m.media-amazon.com/images/I/81xaaklwt6...   \n",
      "1198837  https://m.media-amazon.com/images/I/913PzikWM4...   \n",
      "1198838  https://m.media-amazon.com/images/I/81hlDIAFsz...   \n",
      "1198839  https://m.media-amazon.com/images/I/A1U4ZA-OJm...   \n",
      "1198840  https://m.media-amazon.com/images/I/81EJLtLxMg...   \n",
      "...                                                    ...   \n",
      "1207490  https://m.media-amazon.com/images/I/715GVdeyLl...   \n",
      "1207491  https://m.media-amazon.com/images/I/81wxWFNCbm...   \n",
      "1207492  https://m.media-amazon.com/images/I/515NDG+SXn...   \n",
      "1207493  https://m.media-amazon.com/images/I/81Dofh1qJX...   \n",
      "1207494  https://m.media-amazon.com/images/I/61WakCgIs9...   \n",
      "\n",
      "                                   productURL  stars  reviews   price  \\\n",
      "1198836  https://www.amazon.com/dp/B09DH98QL2    4.5        0  259.99   \n",
      "1198837  https://www.amazon.com/dp/B0C6DZZ4MN    4.2        0   32.99   \n",
      "1198838  https://www.amazon.com/dp/B0CBZ12S15    4.5        0   59.99   \n",
      "1198839  https://www.amazon.com/dp/B08BRJHJF9    4.7        0    9.99   \n",
      "1198840  https://www.amazon.com/dp/B06ZY896ZM    4.0        0   19.59   \n",
      "...                                       ...    ...      ...     ...   \n",
      "1207490  https://www.amazon.com/dp/B093Q3RKB5    4.6        0   20.99   \n",
      "1207491  https://www.amazon.com/dp/B093CLN9YG    4.6        0   16.99   \n",
      "1207492  https://www.amazon.com/dp/B08RCV9DTM    0.0        0   25.00   \n",
      "1207493  https://www.amazon.com/dp/B08HRMRJ95    4.2        0   15.87   \n",
      "1207494  https://www.amazon.com/dp/B08GG9W1WJ    5.0        0   67.19   \n",
      "\n",
      "         listPrice  category_id  isBestSeller  boughtInLastMonth  \n",
      "1198836       0.00           19         False                 50  \n",
      "1198837       0.00           19         False                 50  \n",
      "1198838      79.99           19         False                  0  \n",
      "1198839      17.99           19          True              10000  \n",
      "1198840      39.99           19          True              10000  \n",
      "...            ...          ...           ...                ...  \n",
      "1207490       0.00           19         False                  0  \n",
      "1207491       0.00           19         False                  0  \n",
      "1207492       0.00           19         False                  0  \n",
      "1207493       0.00           19         False                  0  \n",
      "1207494       0.00           19         False                  0  \n",
      "\n",
      "[8659 rows x 11 columns]\n"
     ]
    }
   ],
   "source": [
    "# Use other information to try fill the missing title name.\n",
    "prod_filter = products_df.loc[products_df['category_id'] == 19]\n",
    "print(prod_filter)"
   ]
  },
  {
   "cell_type": "code",
   "execution_count": 9,
   "metadata": {},
   "outputs": [
    {
     "name": "stdout",
     "output_type": "stream",
     "text": [
      "               asin  \\\n",
      "1198836  B09DH98QL2   \n",
      "1198837  B0C6DZZ4MN   \n",
      "1198838  B0CBZ12S15   \n",
      "1198839  B08BRJHJF9   \n",
      "1198840  B06ZY896ZM   \n",
      "...             ...   \n",
      "1207490  B093Q3RKB5   \n",
      "1207491  B093CLN9YG   \n",
      "1207492  B08RCV9DTM   \n",
      "1207493  B08HRMRJ95   \n",
      "1207494  B08GG9W1WJ   \n",
      "\n",
      "                                                                                                                                                                                                       title  \\\n",
      "1198836  Chemical Guys HOL363 16-Piece Arsenal Builder Ceramic Car Wash & Protection Kit with Big Mouth Max Release Foam Cannon, Bucket and (6) 16 oz Car Care Cleaning Chemicals (Works w/Pressure Washers)   \n",
      "1198837                                          Car Wash Kit -Car Wash Cleaning Kit Car Interior Detailing Kit with Car Wash Foam Gun,Microfiber Sponge Car Care Kit,Tire Brush, Car Wash Kit with Foam Gun   \n",
      "1198838          Car Vacuum Cleaner High Power Cordless, 16000pa Small Handheld Vacuum for Car with Blower, Powerful Hand Vacuum Rechargeable, Type-C Fast Charging, Portable Car Vacuum for Car/Home/Office   \n",
      "1198839      Microfiber Cleaning Cloth Grey - 12 packs 16\"x16\" - High Performance - 1200 Washes, Ultra Absorbent Towels Weave Grime & Liquid for Streak-Free Mirror Shine - Car Washing cloth and Applicator   \n",
      "1198840                   ThisWorx Car Vacuum Cleaner - Car Accessories - Small 12V High Power Handheld Portable Car Vacuum w/Attachments, 16 Ft Cord & Bag - Detailing Kit Essentials for Travel, RV Camper   \n",
      "...                                                                                                                                                                                                      ...   \n",
      "1207490                                                                Car Cleaning Kit Buffing Pads Sponge Waxing and Drill Brush Attachment 4 Inch Set,Multi-Purpose Cleaning Car Body/Tire/Interior,22PCS   \n",
      "1207491                                                                            VViViD Essentials Car Cleaning, Waxing and Polishing Kit, 16pcs Sponge Pads, Wool Pads, Backing Plates and Drill Adapters   \n",
      "1207492           Tires and Plastic Restoration - Professional Car Detailing Kit Solution, Waterless Rinsing - Seals, Protects, Rejuvenates, Cleans Rubber & Plastic Surfaces - Deep or Medium Gloss - 500ml   \n",
      "1207493             Cleaning Washcloth Towels - Large 27\" x 16\" Microfiber Rags - Highly Absorbent, Lint Free Streak Free for House, Kitchen, Car, Window Detailing Reusable Shop Towels (6-Pack, Navy Blue)   \n",
      "1207494                                                                                                                                                                  Collinite 845 476s Double 520 Combo   \n",
      "\n",
      "                                                                 imgUrl  \\\n",
      "1198836  https://m.media-amazon.com/images/I/81xaaklwt6L._AC_UL320_.jpg   \n",
      "1198837  https://m.media-amazon.com/images/I/913PzikWM4L._AC_UL320_.jpg   \n",
      "1198838  https://m.media-amazon.com/images/I/81hlDIAFszL._AC_UL320_.jpg   \n",
      "1198839  https://m.media-amazon.com/images/I/A1U4ZA-OJmS._AC_UL320_.jpg   \n",
      "1198840  https://m.media-amazon.com/images/I/81EJLtLxMgL._AC_UL320_.jpg   \n",
      "...                                                                 ...   \n",
      "1207490  https://m.media-amazon.com/images/I/715GVdeyLlS._AC_UL320_.jpg   \n",
      "1207491  https://m.media-amazon.com/images/I/81wxWFNCbmS._AC_UL320_.jpg   \n",
      "1207492  https://m.media-amazon.com/images/I/515NDG+SXnL._AC_UL320_.jpg   \n",
      "1207493  https://m.media-amazon.com/images/I/81Dofh1qJXL._AC_UL320_.jpg   \n",
      "1207494  https://m.media-amazon.com/images/I/61WakCgIs9L._AC_UL320_.jpg   \n",
      "\n",
      "                                   productURL  stars  reviews   price  \\\n",
      "1198836  https://www.amazon.com/dp/B09DH98QL2    4.5        0  259.99   \n",
      "1198837  https://www.amazon.com/dp/B0C6DZZ4MN    4.2        0   32.99   \n",
      "1198838  https://www.amazon.com/dp/B0CBZ12S15    4.5        0   59.99   \n",
      "1198839  https://www.amazon.com/dp/B08BRJHJF9    4.7        0    9.99   \n",
      "1198840  https://www.amazon.com/dp/B06ZY896ZM    4.0        0   19.59   \n",
      "...                                       ...    ...      ...     ...   \n",
      "1207490  https://www.amazon.com/dp/B093Q3RKB5    4.6        0   20.99   \n",
      "1207491  https://www.amazon.com/dp/B093CLN9YG    4.6        0   16.99   \n",
      "1207492  https://www.amazon.com/dp/B08RCV9DTM    0.0        0   25.00   \n",
      "1207493  https://www.amazon.com/dp/B08HRMRJ95    4.2        0   15.87   \n",
      "1207494  https://www.amazon.com/dp/B08GG9W1WJ    5.0        0   67.19   \n",
      "\n",
      "         listPrice  category_id  isBestSeller  boughtInLastMonth  \n",
      "1198836       0.00           19         False                 50  \n",
      "1198837       0.00           19         False                 50  \n",
      "1198838      79.99           19         False                  0  \n",
      "1198839      17.99           19          True              10000  \n",
      "1198840      39.99           19          True              10000  \n",
      "...            ...          ...           ...                ...  \n",
      "1207490       0.00           19         False                  0  \n",
      "1207491       0.00           19         False                  0  \n",
      "1207492       0.00           19         False                  0  \n",
      "1207493       0.00           19         False                  0  \n",
      "1207494       0.00           19         False                  0  \n",
      "\n",
      "[8659 rows x 11 columns]\n"
     ]
    }
   ],
   "source": [
    "# Update column width to see full string of title column to make sure product title is being named \n",
    "# the same as what is shown in the productURL.\n",
    "pd.set_option('display.max_colwidth', None)\n",
    "with pd.option_context('display.max_colwidth', None):\n",
    "    print(prod_filter)"
   ]
  },
  {
   "cell_type": "code",
   "execution_count": 10,
   "metadata": {},
   "outputs": [
    {
     "name": "stderr",
     "output_type": "stream",
     "text": [
      "C:\\Users\\Tim\\AppData\\Local\\Temp\\ipykernel_25280\\2887489447.py:5: FutureWarning: A value is trying to be set on a copy of a DataFrame or Series through chained assignment using an inplace method.\n",
      "The behavior will change in pandas 3.0. This inplace method will never work because the intermediate object on which we are setting values always behaves as a copy.\n",
      "\n",
      "For example, when doing 'df[col].method(value, inplace=True)', try using 'df.method({col: value}, inplace=True)' or df[col] = df[col].method(value) instead, to perform the operation inplace on the original object.\n",
      "\n",
      "\n",
      "  products_df['title'].fillna(\"Chemical Guys HOL363 16-Piece Arsenal Builder Ceramic Car Wash & Protection Kit with Big Mouth Max Release Foam Cannon, Bucket and (6) 16 oz Car Care Cleaning Chemicals (Works w/Pressure Washers)\", inplace=True)\n"
     ]
    },
    {
     "name": "stdout",
     "output_type": "stream",
     "text": [
      "Empty DataFrame\n",
      "Columns: [asin, title, imgUrl, productURL, stars, reviews, price, listPrice, category_id, isBestSeller, boughtInLastMonth]\n",
      "Index: []\n",
      "               asin  \\\n",
      "1206102  B00758A9CE   \n",
      "\n",
      "                                                                                                                                                                                                       title  \\\n",
      "1206102  Chemical Guys HOL363 16-Piece Arsenal Builder Ceramic Car Wash & Protection Kit with Big Mouth Max Release Foam Cannon, Bucket and (6) 16 oz Car Care Cleaning Chemicals (Works w/Pressure Washers)   \n",
      "\n",
      "                                                                 imgUrl  \\\n",
      "1206102  https://m.media-amazon.com/images/I/71+50RU8o2L._AC_UL320_.jpg   \n",
      "\n",
      "                                   productURL  stars  reviews  price  \\\n",
      "1206102  https://www.amazon.com/dp/B00758A9CE    5.0        0  33.08   \n",
      "\n",
      "         listPrice  category_id  isBestSeller  boughtInLastMonth  \n",
      "1206102        0.0           19         False                  0  \n"
     ]
    }
   ],
   "source": [
    "# Update Null value with product name from productURL.\n",
    "# productURL is https://www.amazon.com/dp/B09DH98QL2?th=1\n",
    "\n",
    "# Update the missing value with the given string from productURL\n",
    "products_df['title'].fillna(\"Chemical Guys HOL363 16-Piece Arsenal Builder Ceramic Car Wash & Protection Kit with Big Mouth Max Release Foam Cannon, Bucket and (6) 16 oz Car Care Cleaning Chemicals (Works w/Pressure Washers)\", inplace=True)\n",
    "\n",
    "# Check if NULL value is replaced\n",
    "print(products_df[products_df['title'].isnull()]) # should return an emptpy dataframe\n",
    "\n",
    "# double checking\n",
    "print(products_df.loc[products_df['asin'] == 'B00758A9CE']) # using unique asin from above"
   ]
  },
  {
   "cell_type": "code",
   "execution_count": 11,
   "metadata": {},
   "outputs": [
    {
     "name": "stdout",
     "output_type": "stream",
     "text": [
      "asin                 0\n",
      "title                0\n",
      "imgUrl               0\n",
      "productURL           0\n",
      "stars                0\n",
      "reviews              0\n",
      "price                0\n",
      "listPrice            0\n",
      "category_id          0\n",
      "isBestSeller         0\n",
      "boughtInLastMonth    0\n",
      "dtype: int64\n"
     ]
    }
   ],
   "source": [
    "# Verify changes to check if anymore NULL values in products_df\n",
    "print(products_df.isnull().sum())"
   ]
  },
  {
   "cell_type": "markdown",
   "metadata": {},
   "source": [
    "#### Next Steps:\n",
    "1. <b>Remove duplicates IDs:</b> Now that there are no NULL values in the dataset, the next step is to eliminate any duplicate entries in the 'id' column of categories_df to ensure data integrity.\n",
    "\n",
    "2. <b>Validate Matching Keys:</b> Before merging the datasets, we need to verify that the 'id' values in categories_df align correctly with the 'category_id' values in products_df. This step ensures a smooth and accurate join.\n",
    "\n",
    "3. <b>Merge the Datasets:</b> Once the key columns are validated, we will combine categories_df and products_df by joining on 'id' (from categories_df) and 'category_id' (from products_df). This will integrate category information with product details for further my final analysis and dataset used for my tableau dashboard."
   ]
  },
  {
   "cell_type": "code",
   "execution_count": 12,
   "metadata": {},
   "outputs": [
    {
     "data": {
      "text/plain": [
       "np.int64(0)"
      ]
     },
     "execution_count": 12,
     "metadata": {},
     "output_type": "execute_result"
    }
   ],
   "source": [
    "# Check for duplicates in categories_df\n",
    "categories_df.duplicated().sum()"
   ]
  },
  {
   "cell_type": "code",
   "execution_count": 13,
   "metadata": {},
   "outputs": [
    {
     "data": {
      "text/plain": [
       "np.int64(0)"
      ]
     },
     "execution_count": 13,
     "metadata": {},
     "output_type": "execute_result"
    }
   ],
   "source": [
    "products_df.duplicated().sum()"
   ]
  },
  {
   "cell_type": "code",
   "execution_count": 14,
   "metadata": {},
   "outputs": [
    {
     "name": "stdout",
     "output_type": "stream",
     "text": [
      "    id category_name\n",
      "18  19      Car Care\n",
      "                                                                                                                                                                                                       title  \\\n",
      "1198836  Chemical Guys HOL363 16-Piece Arsenal Builder Ceramic Car Wash & Protection Kit with Big Mouth Max Release Foam Cannon, Bucket and (6) 16 oz Car Care Cleaning Chemicals (Works w/Pressure Washers)   \n",
      "1198837                                          Car Wash Kit -Car Wash Cleaning Kit Car Interior Detailing Kit with Car Wash Foam Gun,Microfiber Sponge Car Care Kit,Tire Brush, Car Wash Kit with Foam Gun   \n",
      "1198838          Car Vacuum Cleaner High Power Cordless, 16000pa Small Handheld Vacuum for Car with Blower, Powerful Hand Vacuum Rechargeable, Type-C Fast Charging, Portable Car Vacuum for Car/Home/Office   \n",
      "1198839      Microfiber Cleaning Cloth Grey - 12 packs 16\"x16\" - High Performance - 1200 Washes, Ultra Absorbent Towels Weave Grime & Liquid for Streak-Free Mirror Shine - Car Washing cloth and Applicator   \n",
      "1198840                   ThisWorx Car Vacuum Cleaner - Car Accessories - Small 12V High Power Handheld Portable Car Vacuum w/Attachments, 16 Ft Cord & Bag - Detailing Kit Essentials for Travel, RV Camper   \n",
      "...                                                                                                                                                                                                      ...   \n",
      "1207490                                                                Car Cleaning Kit Buffing Pads Sponge Waxing and Drill Brush Attachment 4 Inch Set,Multi-Purpose Cleaning Car Body/Tire/Interior,22PCS   \n",
      "1207491                                                                            VViViD Essentials Car Cleaning, Waxing and Polishing Kit, 16pcs Sponge Pads, Wool Pads, Backing Plates and Drill Adapters   \n",
      "1207492           Tires and Plastic Restoration - Professional Car Detailing Kit Solution, Waterless Rinsing - Seals, Protects, Rejuvenates, Cleans Rubber & Plastic Surfaces - Deep or Medium Gloss - 500ml   \n",
      "1207493             Cleaning Washcloth Towels - Large 27\" x 16\" Microfiber Rags - Highly Absorbent, Lint Free Streak Free for House, Kitchen, Car, Window Detailing Reusable Shop Towels (6-Pack, Navy Blue)   \n",
      "1207494                                                                                                                                                                  Collinite 845 476s Double 520 Combo   \n",
      "\n",
      "         category_id  \n",
      "1198836           19  \n",
      "1198837           19  \n",
      "1198838           19  \n",
      "1198839           19  \n",
      "1198840           19  \n",
      "...              ...  \n",
      "1207490           19  \n",
      "1207491           19  \n",
      "1207492           19  \n",
      "1207493           19  \n",
      "1207494           19  \n",
      "\n",
      "[8659 rows x 2 columns]\n"
     ]
    }
   ],
   "source": [
    "# Comparing id column from amazon_categories.csv to product_id in amazon_products.csv to ensure these categories are matching\n",
    "cat_filter = categories_df.loc[categories_df['id'] == 19]\n",
    "print(cat_filter)\n",
    "\n",
    "prod_filter = products_df.loc[products_df['category_id'] == 19, ['title', 'category_id']]\n",
    "print(prod_filter)"
   ]
  },
  {
   "cell_type": "code",
   "execution_count": 15,
   "metadata": {},
   "outputs": [
    {
     "name": "stdout",
     "output_type": "stream",
     "text": [
      "Total unique category_id in products_df: 248\n",
      "Total unique id in categories_df: 248\n"
     ]
    }
   ],
   "source": [
    "uniquie_prod_id = products_df['category_id'].nunique()\n",
    "print(\"Total unique category_id in products_df: \" + str(uniquie_prod_id))\n",
    "\n",
    "unique_cat_id = categories_df['id'].nunique()\n",
    "print(\"Total unique id in categories_df: \" + str(unique_cat_id))"
   ]
  },
  {
   "cell_type": "markdown",
   "metadata": {},
   "source": [
    "After comparing both categories_df & products_df datasets we can see that 'id' in categories_df matches the 'category_id' in the products_df after looking at specific cateogory names and product titles."
   ]
  },
  {
   "cell_type": "code",
   "execution_count": 16,
   "metadata": {},
   "outputs": [
    {
     "name": "stdout",
     "output_type": "stream",
     "text": [
      "         category_id                           category_name\n",
      "0                104                               Suitcases\n",
      "924              110                          Men's Clothing\n",
      "17994            245  Xbox 360 Games, Consoles & Accessories\n",
      "21427            114                             Men's Shoes\n",
      "38519            112                       Men's Accessories\n",
      "...              ...                                     ...\n",
      "1387414          204       Paint, Wall Treatments & Supplies\n",
      "1392744          106                          Rain Umbrellas\n",
      "1394518          105                      Travel Accessories\n",
      "1414536          137     Stationery & Gift Wrapping Supplies\n",
      "1414992           26           Car Electronics & Accessories\n",
      "\n",
      "[248 rows x 2 columns]\n"
     ]
    }
   ],
   "source": [
    "# Merge products_df with categories_df using a left join\n",
    "merged_df = products_df.merge(categories_df, left_on = 'category_id', right_on = 'id', how = 'left')\n",
    "\n",
    "# Checking if all categories have been successfully merged:\n",
    "print(merged_df[['category_id','category_name']].drop_duplicates())"
   ]
  },
  {
   "cell_type": "markdown",
   "metadata": {},
   "source": [
    "the results shown above match the Total unique category_id in products_df: 248"
   ]
  },
  {
   "cell_type": "code",
   "execution_count": 17,
   "metadata": {},
   "outputs": [],
   "source": [
    "# Dropping redundant columns.\n",
    "merged_df.drop(columns=['id','imgUrl','productURL'], inplace=True)"
   ]
  },
  {
   "cell_type": "code",
   "execution_count": 18,
   "metadata": {},
   "outputs": [
    {
     "data": {
      "text/html": [
       "<div>\n",
       "<style scoped>\n",
       "    .dataframe tbody tr th:only-of-type {\n",
       "        vertical-align: middle;\n",
       "    }\n",
       "\n",
       "    .dataframe tbody tr th {\n",
       "        vertical-align: top;\n",
       "    }\n",
       "\n",
       "    .dataframe thead th {\n",
       "        text-align: right;\n",
       "    }\n",
       "</style>\n",
       "<table border=\"1\" class=\"dataframe\">\n",
       "  <thead>\n",
       "    <tr style=\"text-align: right;\">\n",
       "      <th></th>\n",
       "      <th>asin</th>\n",
       "      <th>title</th>\n",
       "      <th>stars</th>\n",
       "      <th>reviews</th>\n",
       "      <th>price</th>\n",
       "      <th>listPrice</th>\n",
       "      <th>category_id</th>\n",
       "      <th>isBestSeller</th>\n",
       "      <th>boughtInLastMonth</th>\n",
       "      <th>category_name</th>\n",
       "    </tr>\n",
       "  </thead>\n",
       "  <tbody>\n",
       "    <tr>\n",
       "      <th>1426332</th>\n",
       "      <td>B00R3LIKCO</td>\n",
       "      <td>American Flag Patriotic USA Classic 5 Panel Mesh Snap Back Trucker Hat</td>\n",
       "      <td>4.2</td>\n",
       "      <td>0</td>\n",
       "      <td>14.95</td>\n",
       "      <td>0.00</td>\n",
       "      <td>112</td>\n",
       "      <td>False</td>\n",
       "      <td>0</td>\n",
       "      <td>Men's Accessories</td>\n",
       "    </tr>\n",
       "    <tr>\n",
       "      <th>1426333</th>\n",
       "      <td>B098BQ7ZQ3</td>\n",
       "      <td>Men's Baseball Cap - H2O-DRI Line Up Curved Brim Fitted Hat</td>\n",
       "      <td>4.4</td>\n",
       "      <td>0</td>\n",
       "      <td>33.99</td>\n",
       "      <td>0.00</td>\n",
       "      <td>112</td>\n",
       "      <td>False</td>\n",
       "      <td>0</td>\n",
       "      <td>Men's Accessories</td>\n",
       "    </tr>\n",
       "    <tr>\n",
       "      <th>1426334</th>\n",
       "      <td>B07X1MVNT1</td>\n",
       "      <td>[4 Pack] Adjustable Eyeglasses and Sunglasses Holder Strap Cord for Sports, Anti-slippery Eyeglass Retainer with One Free Microfiber Cleaning Cloths(4 Pack)</td>\n",
       "      <td>3.6</td>\n",
       "      <td>0</td>\n",
       "      <td>8.54</td>\n",
       "      <td>0.00</td>\n",
       "      <td>112</td>\n",
       "      <td>False</td>\n",
       "      <td>0</td>\n",
       "      <td>Men's Accessories</td>\n",
       "    </tr>\n",
       "    <tr>\n",
       "      <th>1426335</th>\n",
       "      <td>B08XLBG8V9</td>\n",
       "      <td>Ax2002 Aviator Sunglasses</td>\n",
       "      <td>4.5</td>\n",
       "      <td>0</td>\n",
       "      <td>54.36</td>\n",
       "      <td>57.39</td>\n",
       "      <td>112</td>\n",
       "      <td>False</td>\n",
       "      <td>0</td>\n",
       "      <td>Men's Accessories</td>\n",
       "    </tr>\n",
       "    <tr>\n",
       "      <th>1426336</th>\n",
       "      <td>B07GH67QC8</td>\n",
       "      <td>in Hoc Signo Vinces Knights Templar Masonic Embroidered Black Adjustable Baseball Cap</td>\n",
       "      <td>4.9</td>\n",
       "      <td>0</td>\n",
       "      <td>18.79</td>\n",
       "      <td>0.00</td>\n",
       "      <td>112</td>\n",
       "      <td>False</td>\n",
       "      <td>0</td>\n",
       "      <td>Men's Accessories</td>\n",
       "    </tr>\n",
       "  </tbody>\n",
       "</table>\n",
       "</div>"
      ],
      "text/plain": [
       "               asin  \\\n",
       "1426332  B00R3LIKCO   \n",
       "1426333  B098BQ7ZQ3   \n",
       "1426334  B07X1MVNT1   \n",
       "1426335  B08XLBG8V9   \n",
       "1426336  B07GH67QC8   \n",
       "\n",
       "                                                                                                                                                                title  \\\n",
       "1426332                                                                                        American Flag Patriotic USA Classic 5 Panel Mesh Snap Back Trucker Hat   \n",
       "1426333                                                                                                   Men's Baseball Cap - H2O-DRI Line Up Curved Brim Fitted Hat   \n",
       "1426334  [4 Pack] Adjustable Eyeglasses and Sunglasses Holder Strap Cord for Sports, Anti-slippery Eyeglass Retainer with One Free Microfiber Cleaning Cloths(4 Pack)   \n",
       "1426335                                                                                                                                     Ax2002 Aviator Sunglasses   \n",
       "1426336                                                                         in Hoc Signo Vinces Knights Templar Masonic Embroidered Black Adjustable Baseball Cap   \n",
       "\n",
       "         stars  reviews  price  listPrice  category_id  isBestSeller  \\\n",
       "1426332    4.2        0  14.95       0.00          112         False   \n",
       "1426333    4.4        0  33.99       0.00          112         False   \n",
       "1426334    3.6        0   8.54       0.00          112         False   \n",
       "1426335    4.5        0  54.36      57.39          112         False   \n",
       "1426336    4.9        0  18.79       0.00          112         False   \n",
       "\n",
       "         boughtInLastMonth      category_name  \n",
       "1426332                  0  Men's Accessories  \n",
       "1426333                  0  Men's Accessories  \n",
       "1426334                  0  Men's Accessories  \n",
       "1426335                  0  Men's Accessories  \n",
       "1426336                  0  Men's Accessories  "
      ]
     },
     "execution_count": 18,
     "metadata": {},
     "output_type": "execute_result"
    }
   ],
   "source": [
    "# Preview merged_df to see if id column is dropped & if category_name column added.\n",
    "merged_df.tail()"
   ]
  },
  {
   "cell_type": "markdown",
   "metadata": {},
   "source": [
    "To help make my analysis easier and gather insights on whether: \n",
    "1. find out total products which are bestsellers\n",
    "1. Group by isBestSeller by category_name\n",
    "\n",
    "\n",
    "1. Sales Performance Across Categories\n",
    "2. Impact of Customer Ratings & reviews on Sales\n",
    "\n",
    "I will aggregate these fields and merge the aggegrated data & newly merged merged_df into a final dataset"
   ]
  },
  {
   "cell_type": "code",
   "execution_count": 19,
   "metadata": {},
   "outputs": [
    {
     "name": "stdout",
     "output_type": "stream",
     "text": [
      "isBestSeller\n",
      "False    1417817\n",
      "True        8520\n",
      "Name: count, dtype: int64\n"
     ]
    }
   ],
   "source": [
    "# 1. Find out total counts of best sellers products and not best sellers\n",
    "bestSeller_cnt = merged_df['isBestSeller'].value_counts()\n",
    "print(bestSeller_cnt)\n",
    "# Group first then count how many best seller products by category"
   ]
  },
  {
   "cell_type": "code",
   "execution_count": 20,
   "metadata": {},
   "outputs": [
    {
     "data": {
      "text/html": [
       "<div>\n",
       "<style scoped>\n",
       "    .dataframe tbody tr th:only-of-type {\n",
       "        vertical-align: middle;\n",
       "    }\n",
       "\n",
       "    .dataframe tbody tr th {\n",
       "        vertical-align: top;\n",
       "    }\n",
       "\n",
       "    .dataframe thead th {\n",
       "        text-align: right;\n",
       "    }\n",
       "</style>\n",
       "<table border=\"1\" class=\"dataframe\">\n",
       "  <thead>\n",
       "    <tr style=\"text-align: right;\">\n",
       "      <th></th>\n",
       "      <th>asin</th>\n",
       "      <th>title</th>\n",
       "      <th>stars</th>\n",
       "      <th>reviews</th>\n",
       "      <th>price</th>\n",
       "      <th>listPrice</th>\n",
       "      <th>category_id</th>\n",
       "      <th>isBestSeller</th>\n",
       "      <th>boughtInLastMonth</th>\n",
       "      <th>category_name</th>\n",
       "    </tr>\n",
       "  </thead>\n",
       "  <tbody>\n",
       "    <tr>\n",
       "      <th>0</th>\n",
       "      <td>B014TMV5YE</td>\n",
       "      <td>Sion Softside Expandable Roller Luggage, Black, Checked-Large 29-Inch</td>\n",
       "      <td>4.5</td>\n",
       "      <td>0</td>\n",
       "      <td>139.99</td>\n",
       "      <td>0.00</td>\n",
       "      <td>104</td>\n",
       "      <td>0</td>\n",
       "      <td>2000</td>\n",
       "      <td>Suitcases</td>\n",
       "    </tr>\n",
       "    <tr>\n",
       "      <th>1</th>\n",
       "      <td>B07GDLCQXV</td>\n",
       "      <td>Luggage Sets Expandable PC+ABS Durable Suitcase Double Wheels TSA Lock Blue</td>\n",
       "      <td>4.5</td>\n",
       "      <td>0</td>\n",
       "      <td>169.99</td>\n",
       "      <td>209.99</td>\n",
       "      <td>104</td>\n",
       "      <td>0</td>\n",
       "      <td>1000</td>\n",
       "      <td>Suitcases</td>\n",
       "    </tr>\n",
       "    <tr>\n",
       "      <th>2</th>\n",
       "      <td>B07XSCCZYG</td>\n",
       "      <td>Platinum Elite Softside Expandable Checked Luggage, 8 Wheel Spinner Suitcase, TSA Lock, Men and Women, True Navy Blue, Checked Medium 25-Inch</td>\n",
       "      <td>4.6</td>\n",
       "      <td>0</td>\n",
       "      <td>365.49</td>\n",
       "      <td>429.99</td>\n",
       "      <td>104</td>\n",
       "      <td>0</td>\n",
       "      <td>300</td>\n",
       "      <td>Suitcases</td>\n",
       "    </tr>\n",
       "    <tr>\n",
       "      <th>3</th>\n",
       "      <td>B08MVFKGJM</td>\n",
       "      <td>Freeform Hardside Expandable with Double Spinner Wheels, Navy, 2-Piece Set (21/28)</td>\n",
       "      <td>4.6</td>\n",
       "      <td>0</td>\n",
       "      <td>291.59</td>\n",
       "      <td>354.37</td>\n",
       "      <td>104</td>\n",
       "      <td>0</td>\n",
       "      <td>400</td>\n",
       "      <td>Suitcases</td>\n",
       "    </tr>\n",
       "    <tr>\n",
       "      <th>4</th>\n",
       "      <td>B01DJLKZBA</td>\n",
       "      <td>Winfield 2 Hardside Expandable Luggage with Spinner Wheels, Checked-Large 28-Inch, Deep Blue</td>\n",
       "      <td>4.5</td>\n",
       "      <td>0</td>\n",
       "      <td>174.99</td>\n",
       "      <td>309.99</td>\n",
       "      <td>104</td>\n",
       "      <td>0</td>\n",
       "      <td>400</td>\n",
       "      <td>Suitcases</td>\n",
       "    </tr>\n",
       "  </tbody>\n",
       "</table>\n",
       "</div>"
      ],
      "text/plain": [
       "         asin  \\\n",
       "0  B014TMV5YE   \n",
       "1  B07GDLCQXV   \n",
       "2  B07XSCCZYG   \n",
       "3  B08MVFKGJM   \n",
       "4  B01DJLKZBA   \n",
       "\n",
       "                                                                                                                                           title  \\\n",
       "0                                                                          Sion Softside Expandable Roller Luggage, Black, Checked-Large 29-Inch   \n",
       "1                                                                    Luggage Sets Expandable PC+ABS Durable Suitcase Double Wheels TSA Lock Blue   \n",
       "2  Platinum Elite Softside Expandable Checked Luggage, 8 Wheel Spinner Suitcase, TSA Lock, Men and Women, True Navy Blue, Checked Medium 25-Inch   \n",
       "3                                                             Freeform Hardside Expandable with Double Spinner Wheels, Navy, 2-Piece Set (21/28)   \n",
       "4                                                   Winfield 2 Hardside Expandable Luggage with Spinner Wheels, Checked-Large 28-Inch, Deep Blue   \n",
       "\n",
       "   stars  reviews   price  listPrice  category_id  isBestSeller  \\\n",
       "0    4.5        0  139.99       0.00          104             0   \n",
       "1    4.5        0  169.99     209.99          104             0   \n",
       "2    4.6        0  365.49     429.99          104             0   \n",
       "3    4.6        0  291.59     354.37          104             0   \n",
       "4    4.5        0  174.99     309.99          104             0   \n",
       "\n",
       "   boughtInLastMonth category_name  \n",
       "0               2000     Suitcases  \n",
       "1               1000     Suitcases  \n",
       "2                300     Suitcases  \n",
       "3                400     Suitcases  \n",
       "4                400     Suitcases  "
      ]
     },
     "execution_count": 20,
     "metadata": {},
     "output_type": "execute_result"
    }
   ],
   "source": [
    "# Convert bestSeller_cnt to an int\n",
    "# This will make it easier when doing analysis or plotting.\n",
    "merged_df['isBestSeller'] = merged_df['isBestSeller'].astype(int)\n",
    "merged_df.head()"
   ]
  },
  {
   "cell_type": "code",
   "execution_count": 21,
   "metadata": {},
   "outputs": [
    {
     "name": "stdout",
     "output_type": "stream",
     "text": [
      "isBestSeller\n",
      "0    1417817\n",
      "1       8520\n",
      "Name: count, dtype: int64\n"
     ]
    }
   ],
   "source": [
    "# check if isBestSeller column has been converted correctly to an int\n",
    "bestSeller_cnt = merged_df['isBestSeller'].value_counts()\n",
    "print(bestSeller_cnt)"
   ]
  },
  {
   "cell_type": "markdown",
   "metadata": {},
   "source": [
    "Create a new dataframe which contains the record of Not Best Seller and Best Seller"
   ]
  },
  {
   "cell_type": "code",
   "execution_count": 57,
   "metadata": {},
   "outputs": [
    {
     "name": "stdout",
     "output_type": "stream",
     "text": [
      "   isBestSeller    Count\n",
      "0             0  1417817\n",
      "1             1     8520\n"
     ]
    }
   ],
   "source": [
    "is_bestseller_data = pd.DataFrame({'isBestSeller': bestSeller_cnt.index, 'Count': bestSeller_cnt.values})\n",
    "print(is_bestseller_data)"
   ]
  },
  {
   "cell_type": "code",
   "execution_count": 58,
   "metadata": {},
   "outputs": [
    {
     "name": "stdout",
     "output_type": "stream",
     "text": [
      "     isBestSeller    Count\n",
      "0  Not Bestseller  1417817\n",
      "1      Bestseller     8520\n"
     ]
    }
   ],
   "source": [
    "# Create custom label\n",
    "seller_label = {0: \"Not Bestseller\", 1: \"Bestseller\"}\n",
    "is_bestseller_data['isBestSeller'] = is_bestseller_data['isBestSeller'].map(seller_label)\n",
    "print(is_bestseller_data)\n",
    "# use output to create graph for isBestSeller"
   ]
  },
  {
   "cell_type": "markdown",
   "metadata": {},
   "source": [
    "### 3. Now that the cleaning of the data (step 3) has been completed we can visualise the and identify and answer useful insights from the data."
   ]
  },
  {
   "cell_type": "markdown",
   "metadata": {},
   "source": [
    "# Step 4 - Asking and answering interesting questions.\n",
    "\n",
    "The project objective was to find answers the following questions.\n",
    "1. <b>Analyse Sales Performance Across Categories:</b> Identify which product categories contribute the most to total sales.\n",
    "\n",
    "2. <b>Assess the Impact of Customer Ratings & reviews on Sales:</b> Investigate whether higher-rated products generate more sales compared to lower-rated ones.\n",
    "-- Change this to total sales...\n",
    "\n",
    "3. <b>Determine Profitable Niches:</b> Explore which niches have the highest conversion rates and consistent sales trends."
   ]
  },
  {
   "cell_type": "markdown",
   "metadata": {},
   "source": [
    "4.1 How many products are Best Sellers?\n",
    "\n",
    "-  Display on a piechart which shows the percentage of how many products from Amazon 2023 are either BestSellers and NotBestSellers"
   ]
  },
  {
   "cell_type": "code",
   "execution_count": 91,
   "metadata": {},
   "outputs": [
    {
     "data": {
      "image/png": "[encoded data removed]",
      "text/plain": [
       "<Figure size 640x480 with 1 Axes>"
      ]
     },
     "metadata": {},
     "output_type": "display_data"
    }
   ],
   "source": [
    "# Count the occurance of True and False in the 'BestSeller' Column\n",
    "bestSeller_cnt = merged_df['isBestSeller'].value_counts()\n",
    "\n",
    "# Create a DataFrame for the pie chart\n",
    "is_bestseller_data = pd.DataFrame({'isBestSeller': bestSeller_cnt.index, 'Count': bestSeller_cnt.values})\n",
    "\n",
    "# Define labels\n",
    "seller_label = {0: \"Not Bestseller\", 1: \"Bestseller\"}\n",
    "\n",
    "# Replace values in dataframe with custom labels\n",
    "is_bestseller_data['isBestSeller'] = is_bestseller_data['isBestSeller'].map(seller_label)\n",
    "\n",
    "# Create and display the Pie Chart\n",
    "plt.pie(\n",
    "    is_bestseller_data['Count']                    # The sizes of each pie slice\n",
    "    , labels=is_bestseller_data['isBestSeller']    # The labels: \"Bestseller\", \"Not Bestseller\"\n",
    "    , autopct='%1.1f%%'                            # show percentage on pie\n",
    "    , startangle=140                               #  start angle for better visual\n",
    ")\n",
    "plt.title(\"Distribution of Bestsellers\")\n",
    "plt.axis('equal')  # Keeps the pie chart circular\n",
    "plt.show()\n"
   ]
  },
  {
   "cell_type": "code",
   "execution_count": 25,
   "metadata": {},
   "outputs": [],
   "source": [
    "# best_cat = merged_df.groupby(['isBestSeller','category_name'])['isBestSeller'].count()\n",
    "# print(best_cat)"
   ]
  },
  {
   "cell_type": "code",
   "execution_count": 26,
   "metadata": {},
   "outputs": [],
   "source": [
    "# best_cat.values"
   ]
  },
  {
   "cell_type": "code",
   "execution_count": 27,
   "metadata": {},
   "outputs": [],
   "source": [
    "# Groupby isBestSeller by Category\n",
    "\n"
   ]
  },
  {
   "cell_type": "code",
   "execution_count": 28,
   "metadata": {},
   "outputs": [],
   "source": [
    "# Aggregate ratings and reviews"
   ]
  },
  {
   "cell_type": "code",
   "execution_count": 29,
   "metadata": {},
   "outputs": [],
   "source": [
    "# Aggregate tototal sales per cat"
   ]
  },
  {
   "cell_type": "code",
   "execution_count": 30,
   "metadata": {},
   "outputs": [],
   "source": [
    "\n",
    "# check for duplicates based off id & product_id - done\n",
    "# this includes checking for dup rows  in both datasets df.duplicated().sum() - done\n",
    "\n",
    "\n",
    "# identify any missing values - done\n",
    "# df.info() to see column type\n",
    "# use describe to get more info\n",
    "# If match we can join these two tables together making it easier to work with. - done \n",
    "# Then compare product_id and id to see if these cats match. this is last for sanity check to make sure. -done\n",
    "# join 2 datasets\n",
    "# drop columns which wont be using - done\n",
    "\n",
    "# once have all data together check df.info() & df.describe() too see if need to convert any values \n",
    "\n",
    "# New plan:\n",
    "# find best selling products by category.\n",
    "# Idenfitying the higest Selling products on Amazon.\n",
    "# pick one of the following\n",
    "    # Identifying the product category which generates the high volume of money.\n",
    "    # Identifying the highly rated products.\n",
    "\n",
    "# Tues \n",
    "# - Graph findings\n",
    "# 1. convert isbestseller from boolean to int (1,0)\n",
    "# 2. # Aggregate ratings and reviews\n",
    "# 3. # Aggregate tototal sales per cat"
   ]
  }
 ],
 "metadata": {
  "kernelspec": {
   "display_name": "Python 3",
   "language": "python",
   "name": "python3"
  },
  "language_info": {
   "codemirror_mode": {
    "name": "ipython",
    "version": 3
   },
   "file_extension": ".py",
   "mimetype": "text/x-python",
   "name": "python",
   "nbconvert_exporter": "python",
   "pygments_lexer": "ipython3",
   "version": "3.10.1"
  }
 },
 "nbformat": 4,
 "nbformat_minor": 2
}
